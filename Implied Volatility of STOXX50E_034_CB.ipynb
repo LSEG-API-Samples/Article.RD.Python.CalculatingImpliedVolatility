{
 "cells": [
  {
   "cell_type": "markdown",
   "id": "36ef8e77-76d4-4a0d-8f5b-c853d88fe1bc",
   "metadata": {},
   "source": [
    "# Implied Volatility of Index Options\n"
   ]
  },
  {
   "cell_type": "code",
   "execution_count": 1,
   "id": "c130fafc-75eb-4de2-82bd-380587477117",
   "metadata": {},
   "outputs": [],
   "source": [
    "import refinitiv.data as rd\n",
    "from refinitiv.data.content import historical_pricing\n",
    "from refinitiv.data.content.historical_pricing import Intervals\n",
    "from refinitiv.data.content.historical_pricing import Adjustments\n",
    "from refinitiv.data.content.historical_pricing import MarketSession\n",
    "from refinitiv.data.content import search\n",
    "\n",
    "import time\n",
    "import numpy as np\n",
    "import pandas as pd\n",
    "import calendar\n",
    "import pytz\n",
    "import math\n",
    "import pandas_market_calendars as mcal  # See `https://github.com/rsheftel/pandas_market_calendars/blob/master/examples/usage.ipynb` for info on this market calendar library\n",
    "from datetime import datetime, timedelta, timezone\n",
    "from dateutil.relativedelta import relativedelta\n",
    "from pandas.tseries.offsets import BDay\n",
    "from plotly.subplots import make_subplots\n",
    "import plotly.graph_objects as go\n",
    "import plotly.express as px # This is just to see the implied vol graph when that field is available\n",
    "from IPython.display import clear_output\n",
    "\n",
    "try:  # The following libraries are not available in Codebook, thus this try loop\n",
    "    rd.open_session(config_name=\"C:\\\\Example.DataLibrary.Python-main\\\\Example.DataLibrary.Python-main\\\\Configuration\\\\refinitiv-data.config.json\")\n",
    "    rd.open_session(\"desktop.workspace\")\n",
    "except:\n",
    "    rd.open_session()"
   ]
  },
  {
   "cell_type": "code",
   "execution_count": 2,
   "id": "368ea440-de45-4594-a3e7-c1812abc4186",
   "metadata": {},
   "outputs": [
    {
     "name": "stdout",
     "output_type": "stream",
     "text": [
      "Here we are using the refinitiv Data Library version 1.0.0b24\n"
     ]
    }
   ],
   "source": [
    "print(f\"Here we are using the refinitiv Data Library version {rd.__version__}\")"
   ]
  },
  {
   "cell_type": "markdown",
   "id": "acea300d-7764-492f-a43f-15301d7ef4e5",
   "metadata": {},
   "source": [
    "## EUREX, or SPX Call or Put Options"
   ]
  },
  {
   "cell_type": "code",
   "execution_count": 7,
   "id": "12d0e1bc-d89c-4f08-b0b6-95e7f19ccd35",
   "metadata": {},
   "outputs": [],
   "source": [
    "def ImpVolatilityCalcIPA(x=15,\n",
    "                         indexUnderlying=\".STOXX50E\",\n",
    "                         callOrPut='Call',\n",
    "                         dateBack=3,\n",
    "                         expiryYearOfInterest=datetime.now().year,\n",
    "                         riskFreeRate=None, riskFreeRateField=None,\n",
    "                         timeZoneInGraph=datetime.now().astimezone(),\n",
    "                         maxColwidth=200,\n",
    "                         graphStyle='without out of trading hours',\n",
    "                         graphTemplate='plotly_dark',\n",
    "                         debug=False,\n",
    "                         returnDfGraph=False,\n",
    "                         simpleGraph=False,\n",
    "                         AtOptionTradeOnly=False):\n",
    "\n",
    "\n",
    "    if indexUnderlying == \".STOXX50E\":\n",
    "        exchangeC, exchangeRIC, mcalGetCalendar = 'EUX', 'STX', 'EUREX'\n",
    "    elif indexUnderlying == '.SPX':\n",
    "        exchangeC, exchangeRIC, mcalGetCalendar = 'OPQ', 'SPX', 'CBOE_Futures'# 'CBOE_Index_Options'  # should be 'CBOE_Index_Options'... CBOT_Equity\n",
    "\n",
    "\n",
    "    def get_exp_dates(year=expiryYearOfInterest,\n",
    "                      days=True,\n",
    "                      mcal_get_calendar=mcalGetCalendar):\n",
    "        '''\n",
    "        get_exp_dates Version 3.0:\n",
    "\n",
    "        This function gets expiration dates for a year for NDX options, which are the 3rd Fridays of each month.\n",
    "\n",
    "        Changes\n",
    "        ----------------------------------------------\n",
    "        Changed from Version 1.0 to 2.0: Jonathan Legrand chaned Haykaz Aramyan's original code to allow\n",
    "            (i) for the function's holiday argument to be changed, and defaulted to 'EUREX' as opposed to 'CBOE_Index_Options' and\n",
    "            (ii) for the function to output full date objects as opposed to just days of the month if agument days=True.\n",
    "\n",
    "        Changed from Version 2.0 to 3.0: Jonathan Legrand chaned this function to reflec tthe fact that it can be used for indexes other than EUREX.\n",
    "\n",
    "        Dependencies\n",
    "        ----------------------------------------------\n",
    "        Python library 'pandas_market_calendars' version 3.2\n",
    "\n",
    "        Parameters\n",
    "        -----------------------------------------------\n",
    "        Input:\n",
    "            year(int): year for which expiration days are requested\n",
    "\n",
    "            mcal_get_calendar(str): String of the calendar for which holidays have to be taken into account. More on this calendar (link to Github chacked 2022-10-11): https://github.com/rsheftel/pandas_market_calendars/blob/177e7922c7df5ad249b0d066b5c9e730a3ee8596/pandas_market_calendars/exchange_calendar_cboe.py\n",
    "                Default: mcal_get_calendar='EUREX'\n",
    "\n",
    "            days(bool): If True, only days of the month is outputed, else it's dataeime objects\n",
    "                Default: days=True\n",
    "\n",
    "        Output:\n",
    "            dates(dict): dictionary of expiration days for each month of a specified year in datetime.date format.\n",
    "        '''\n",
    "\n",
    "        # get CBOE market holidays\n",
    "        Cal = mcal.get_calendar(mcal_get_calendar)\n",
    "        holidays = Cal.holidays().holidays\n",
    "\n",
    "        # set calendar starting from Saturday\n",
    "        c = calendar.Calendar(firstweekday=calendar.SATURDAY)\n",
    "\n",
    "        # get the 3rd Friday of each month\n",
    "        exp_dates = {}\n",
    "        for i in range(1, 13):\n",
    "            monthcal = c.monthdatescalendar(year, i)\n",
    "            date = monthcal[2][-1]\n",
    "            # check if found date is an holiday and get the previous date if it is\n",
    "            if date in holidays:\n",
    "                date = date + timedelta(-1)\n",
    "            # append the date to the dictionary\n",
    "            if year in exp_dates:\n",
    "                ### Changed from original code from here on by Jonathan Legrand on 2022-10-11\n",
    "                if days: exp_dates[year].append(date.day)\n",
    "                else: exp_dates[year].append(date)\n",
    "            else:\n",
    "                if days: exp_dates[year] = [date.day]\n",
    "                else: exp_dates[year] = [date]\n",
    "        return exp_dates\n",
    "\n",
    "    timeOfCalcDatetime = datetime.now()  # For now, we will focuss on the use-case where we are calculating values for today; later we will allow for it historically for any day going back a few business days.\n",
    "    timeOfCalcStr = datetime.now().strftime('%Y-%m-%d')\n",
    "    fullDatesAtTimeOfCalc = get_exp_dates(timeOfCalcDatetime.year, days=False)  # `timeOfCalcDatetime.year` here is 2022\n",
    "    fullDatesAtTimeOfCalcDatetime = [\n",
    "        datetime(i.year, i.month, i.day)\n",
    "        for i in fullDatesAtTimeOfCalc[list(fullDatesAtTimeOfCalc.keys())[0]]]\n",
    "    expiryDateOfInt = [i for i in fullDatesAtTimeOfCalcDatetime\n",
    "                       if i > timeOfCalcDatetime + relativedelta(days=x)][0]\n",
    "\n",
    "    if debug: print(f\"expiryDateOfInt: {expiryDateOfInt}\")\n",
    "\n",
    "    response = search.Definition(\n",
    "        view = search.Views.SEARCH_ALL, # To see what views are available: `help(search.Views)` & `search.metadata.Definition(view = search.Views.SEARCH_ALL).get_data().data.df.to_excel(\"SEARCH_ALL.xlsx\")`\n",
    "        query=indexUnderlying,\n",
    "        select=\"DocumentTitle, RIC, StrikePrice, ExchangeCode, ExpiryDate, UnderlyingAsset, \" +\n",
    "                \"UnderlyingAssetName, UnderlyingAssetRIC, ESMAUnderlyingIndexCode, RCSUnderlyingMarket\" +\n",
    "                \"UnderlyingQuoteName, UnderlyingQuoteRIC\",\n",
    "        filter=f\"RCSAssetCategoryLeaf eq 'Option' and RIC eq '{exchangeRIC}*' and DocumentTitle ne '*Weekly*' \" +\n",
    "        f\"and CallPutOption eq '{callOrPut}' and ExchangeCode eq '{exchangeC}' and \" +\n",
    "        f\"ExpiryDate ge {(expiryDateOfInt - relativedelta(days=1)).strftime('%Y-%m-%d')} \" +\n",
    "        f\"and ExpiryDate lt {(expiryDateOfInt + relativedelta(days=1)).strftime('%Y-%m-%d')}\",  # ge (greater than or equal to), gt (greater than), lt (less than) and le (less than or equal to). These can only be applied to numeric and date properties.\n",
    "        top=10000,\n",
    "    ).get_data()\n",
    "    searchDf = response.data.df\n",
    "\n",
    "    if debug: display(searchDf)\n",
    "\n",
    "    try:\n",
    "        underlyingPrice =  rd.get_history(\n",
    "            universe=[indexUnderlying],\n",
    "            fields=[\"TRDPRC_1\"],\n",
    "            interval=\"tick\").iloc[-1][0]\n",
    "    except:\n",
    "        print(\"Function failed at the search strage, returning the following dataframe: \")\n",
    "        display(searchDf)\n",
    "\n",
    "    if debug:\n",
    "        print(f\"Underlying {indexUnderlying}'s price recoprded here was {underlyingPrice}\")\n",
    "        display(searchDf.iloc[(searchDf['StrikePrice']-underlyingPrice).abs().argsort()[:10]])\n",
    "\n",
    "    instrument = searchDf.iloc[(searchDf['StrikePrice']-underlyingPrice).abs().argsort()[:1]].RIC.values[0]\n",
    "\n",
    "    start = (timeOfCalcDatetime - pd.tseries.offsets.BDay(dateBack)).strftime('%Y-%m-%dT%H:%M:%S.%f')  # '2022-10-05T07:30:00.000'\n",
    "    endDateTime = datetime.now()\n",
    "    end = endDateTime.strftime('%Y-%m-%dT%H:%M:%S.%f')  #  e.g.: '2022-09-09T20:00:00.000'\n",
    "\n",
    "    _optnMrktPrice = rd.get_history(\n",
    "        universe=[instrument],\n",
    "        fields=[\"TRDPRC_1\"],\n",
    "        interval=\"10min\",\n",
    "        start=start,  # Ought to always start at 4 am for OPRA exchanged Options, more info in the article below\n",
    "        end=end)  # Ought to always end at 8 pm for OPRA exchanged Options, more info in the article below\n",
    "\n",
    "    if debug: print(instrument)\n",
    "    if debug: display(_optnMrktPrice)\n",
    "\n",
    "    ## Data on certain options are stale and do not nessesarily show up on Workspace, in case that happens, we will pick the next ATM Option, which probably will have the same strike, but we will only do so once, any more and we could get too far from strike:\n",
    "    if _optnMrktPrice.empty:\n",
    "        if debug: print(f\"No data could be found for {instrument}, so the next ATM Option was chosen\")\n",
    "        instrument = searchDf.iloc[(searchDf['StrikePrice']-underlyingPrice).abs().argsort()[1:2]].RIC.values[0]\n",
    "        if debug: print(f\"{instrument}\")\n",
    "        _optnMrktPrice = rd.get_history(universe=[instrument],\n",
    "                                        fields=[\"TRDPRC_1\"], interval=\"10min\",\n",
    "                                        start=start, end=end)\n",
    "        if debug: display(_optnMrktPrice)\n",
    "    if _optnMrktPrice.empty:  # Let's try one more time, as is often nessesary\n",
    "        if debug: print(f\"No data could be found for {instrument}, so the next ATM Option was chosen\")\n",
    "        instrument = searchDf.iloc[(searchDf['StrikePrice']-underlyingPrice).abs().argsort()[2:3]].RIC.values[0]\n",
    "        if debug: print(f\"{instrument}\")\n",
    "        _optnMrktPrice = rd.get_history(universe=[instrument],\n",
    "                                        fields=[\"TRDPRC_1\"], interval=\"10min\",\n",
    "                                        start=start, end=end)\n",
    "        if debug: display(_optnMrktPrice)\n",
    "    if _optnMrktPrice.empty:\n",
    "        print(f\"No data could be found for {instrument}, please check it on Refinitiv Workspace\")\n",
    "\n",
    "    optnMrktPrice = _optnMrktPrice.resample('10Min').mean() # get a datapoint every 10 min\n",
    "    optnMrktPrice = optnMrktPrice[optnMrktPrice.index.strftime('%Y-%m-%d').isin([i for i in _optnMrktPrice.index.strftime('%Y-%m-%d').unique()])]  # Only keep trading days\n",
    "    optnMrktPrice = optnMrktPrice.loc[(optnMrktPrice.index.strftime('%H:%M:%S') >= '07:30:00') & (optnMrktPrice.index.strftime('%H:%M:%S') <= '22:00:00')]  # Only keep trading hours\n",
    "    optnMrktPrice.fillna(method='ffill', inplace=True)  # Forward Fill to populate NaN values\n",
    "\n",
    "    # Note also that one may want to only look at 'At Option Trade' datapoints,\n",
    "    # i.e.: Implied Volatility when a trade is made for the Option, but not when\n",
    "    # none is made. For this, we will use the 'At Trade' (`AT`) dataframes:\n",
    "    if AtOptionTradeOnly: AToptnMrktPrice = _optnMrktPrice\n",
    "\n",
    "    underlying = searchDf.iloc[(searchDf['StrikePrice']).abs().argsort()[:1]].UnderlyingQuoteRIC.values[0][0]\n",
    "\n",
    "    _underlyingMrktPrice = rd.get_history(\n",
    "        universe=[underlying],\n",
    "        fields=[\"TRDPRC_1\"],\n",
    "        interval=\"10min\",\n",
    "        start=start,\n",
    "        end=end)\n",
    "    # Let's put it al in one data-frame, `df`. Some datasets will have data\n",
    "    # going from the time we sert for `start` all the way to `end`. Some won't\n",
    "    # because no trade happened in the past few minutes/hours. We ought to base\n",
    "    # ourselves on the dataset with values getting closer to `end` and `ffill`\n",
    "    # for the other column. As a result, the following `if` loop is needed:\n",
    "    if optnMrktPrice.index[-1] >= _underlyingMrktPrice.index[-1]:\n",
    "        df = optnMrktPrice.copy()\n",
    "        df['underlying ' + underlying + ' TRDPRC_1'] = _underlyingMrktPrice\n",
    "    else:\n",
    "        df = _underlyingMrktPrice.copy()\n",
    "        df.rename(\n",
    "            columns={\"TRDPRC_1\": 'underlying ' + underlying + ' TRDPRC_1'},\n",
    "            inplace=True)\n",
    "        df['TRDPRC_1'] = optnMrktPrice\n",
    "        df.columns.name = optnMrktPrice.columns.name\n",
    "    df.fillna(method='ffill', inplace=True)  # Forward Fill to populate NaN values\n",
    "    df = df.dropna()\n",
    "\n",
    "    if AtOptionTradeOnly:\n",
    "        ATunderlyingMrktPrice = AToptnMrktPrice.join(\n",
    "            _underlyingMrktPrice, lsuffix='_OptPr', rsuffix=' Underlying ' + underlying + ' TRDPRC_1', how='inner')\n",
    "        ATdf = ATunderlyingMrktPrice\n",
    "\n",
    "    strikePrice = searchDf.iloc[(searchDf['StrikePrice']-underlyingPrice).abs().argsort()[:1]].StrikePrice.values[0]\n",
    "\n",
    "    if riskFreeRate is None and indexUnderlying == \".SPX\":\n",
    "        _riskFreeRate = 'USDCFCFCTSA3M='\n",
    "        _riskFreeRateField = 'TR.FIXINGVALUE'\n",
    "    elif riskFreeRate is None and indexUnderlying == \".STOXX50E\":\n",
    "        _riskFreeRate = 'EURIBOR3MD='\n",
    "        _riskFreeRateField = 'TR.FIXINGVALUE'\n",
    "    else:\n",
    "        _riskFreeRate, _riskFreeRateField = riskFreeRate, riskFreeRateField\n",
    "\n",
    "    _RfRate = rd.get_history(\n",
    "        universe=[_riskFreeRate],  # USD3MFSR=, USDSOFR=\n",
    "        fields=[_riskFreeRateField],\n",
    "        # Since we will use `dropna()` as a way to select the rows we are after later on in the code, we need to ask for more risk-free data than needed, just in case we don't have enough:\n",
    "        start=(datetime.strptime(start, '%Y-%m-%dT%H:%M:%S.%f') - timedelta(days=1)).strftime('%Y-%m-%d'),\n",
    "        end=(datetime.strptime(end, '%Y-%m-%dT%H:%M:%S.%f') + timedelta(days=1)).strftime('%Y-%m-%d'))\n",
    "\n",
    "    RfRate = _RfRate.resample('10Min').mean().fillna(method='ffill')\n",
    "    df['RfRate'] = RfRate\n",
    "    df = df.fillna(method='ffill')\n",
    "\n",
    "    if AtOptionTradeOnly:\n",
    "        pd.options.mode.chained_assignment = None  # default='warn'\n",
    "        ATunderlyingMrktPrice['RfRate'] = [pd.NA for i in ATunderlyingMrktPrice.index]\n",
    "        for i in RfRate.index:\n",
    "            _i = str(i)[:10]\n",
    "            for n, j in enumerate(ATunderlyingMrktPrice.index):\n",
    "                if _i in str(j):\n",
    "                    if len(RfRate.loc[i].values)==2:\n",
    "                        ATunderlyingMrktPrice['RfRate'].iloc[n] = RfRate.loc[i].values[0][0]\n",
    "                    elif len(RfRate.loc[i].values)==1:\n",
    "                        ATunderlyingMrktPrice['RfRate'].iloc[n] = RfRate.loc[i].values[0]\n",
    "        ATdf = ATunderlyingMrktPrice.copy()\n",
    "\n",
    "    if timeZoneInGraph != 'GMT':\n",
    "        df.index = [\n",
    "            df.index[i].replace(\n",
    "                tzinfo=pytz.timezone(\n",
    "                    'GMT')).astimezone(\n",
    "                tz=timeZoneInGraph.tzinfo)\n",
    "            for i in range(len(df))]\n",
    "        if AtOptionTradeOnly:\n",
    "            ATdf.index = [\n",
    "                ATdf.index[i].replace(\n",
    "                    tzinfo=pytz.timezone(\n",
    "                        'GMT')).astimezone(\n",
    "                    tz=datetime.now().astimezone().tzinfo)\n",
    "                for i in range(len(ATdf))]\n",
    "\n",
    "    universeL = [\n",
    "        {\n",
    "          \"instrumentType\": \"Option\",\n",
    "          \"instrumentDefinition\": {\n",
    "            \"buySell\": \"Buy\",\n",
    "            \"underlyingType\": \"Eti\",\n",
    "            \"instrumentCode\": instrument,\n",
    "            \"strike\": str(strikePrice),\n",
    "          },\n",
    "          \"pricingParameters\": {\n",
    "            \"marketValueInDealCcy\": str(df['TRDPRC_1'][i]),\n",
    "            \"riskFreeRatePercent\": str(df['RfRate'][i]),\n",
    "            \"underlyingPrice\": str(df['underlying ' + underlying + ' TRDPRC_1'][i]),\n",
    "            \"pricingModelType\": \"BlackScholes\",\n",
    "            \"dividendType\": \"ImpliedYield\",\n",
    "            \"volatilityType\": \"Implied\",\n",
    "            \"underlyingTimeStamp\": \"Default\",\n",
    "            \"reportCcy\": \"EUR\"\n",
    "          }\n",
    "        }\n",
    "      for i in range(len(df.index))]\n",
    "\n",
    "    if AtOptionTradeOnly:\n",
    "        ATuniverseL = [\n",
    "            {\n",
    "              \"instrumentType\": \"Option\",\n",
    "              \"instrumentDefinition\": {\n",
    "                \"buySell\": \"Buy\",\n",
    "                \"underlyingType\": \"Eti\",\n",
    "                \"instrumentCode\": instrument,\n",
    "                \"strike\": str(strikePrice),\n",
    "              },\n",
    "              \"pricingParameters\": {\n",
    "                \"marketValueInDealCcy\": str(ATdf['TRDPRC_1_OptPr'][i]),\n",
    "                \"riskFreeRatePercent\": str(ATdf['RfRate'][i]),\n",
    "                \"underlyingPrice\": str(ATdf['TRDPRC_1 Underlying ' + underlying + ' TRDPRC_1'][i]),\n",
    "                \"pricingModelType\": \"BlackScholes\",\n",
    "                \"dividendType\": \"ImpliedYield\",\n",
    "                \"volatilityType\": \"Implied\",\n",
    "                \"underlyingTimeStamp\": \"Default\",\n",
    "                \"reportCcy\": \"EUR\"\n",
    "              }\n",
    "            }\n",
    "          for i in range(len(ATdf.index))]\n",
    "\n",
    "    def chunks(lst, n):\n",
    "        \"\"\"Yield successive n-sized chunks from lst.\"\"\"\n",
    "        for i in range(0, len(lst), n):\n",
    "            yield lst[i:i + n]\n",
    "\n",
    "    requestFields = [\n",
    "        \"MarketValueInDealCcy\", \"RiskFreeRatePercent\",\n",
    "        \"UnderlyingPrice\", \"PricingModelType\",\n",
    "        \"DividendType\", \"VolatilityType\",\n",
    "        \"UnderlyingTimeStamp\", \"ReportCcy\",\n",
    "        \"VolatilityType\", \"Volatility\",\n",
    "        \"DeltaPercent\", \"GammaPercent\",\n",
    "        \"RhoPercent\", \"ThetaPercent\",\n",
    "        \"VegaPercent\"]\n",
    "\n",
    "    if AtOptionTradeOnly: universeL = ATuniverseL\n",
    "    for i, j in enumerate(chunks(universeL, 100)):\n",
    "        # Example request with Body Parameter - Symbology Lookup\n",
    "        request_definition = rd.delivery.endpoint_request.Definition(\n",
    "            method=rd.delivery.endpoint_request.RequestMethod.POST,\n",
    "            url='https://api.refinitiv.com/data/quantitative-analytics/v1/financial-contracts',\n",
    "            body_parameters={\n",
    "                \"fields\": requestFields,\n",
    "                \"outputs\": [\"Data\", \"Headers\"],\n",
    "                \"universe\": j})\n",
    "        response2 = request_definition.get_data()\n",
    "        headers_name = [h['name'] for h in response2.data.raw['headers']]\n",
    "        if i == 0:\n",
    "            response2df = pd.DataFrame(data=response2.data.raw['data'], columns=headers_name)\n",
    "        else:\n",
    "            _response2df = pd.DataFrame(data=response2.data.raw['data'], columns=headers_name)\n",
    "            response2df = response2df.append(_response2df, ignore_index=True)\n",
    "\n",
    "    IPADf = response2df.copy()\n",
    "    if AtOptionTradeOnly:\n",
    "        IPADf.index = ATdf.index\n",
    "        IPADf.columns.name = ATdf.columns.name\n",
    "    else:\n",
    "        IPADf.index = df.index\n",
    "        IPADf.columns.name = df.columns.name\n",
    "    IPADf.rename(columns={\"Volatility\": 'ImpliedVolatility'}, inplace=True)\n",
    "\n",
    "    if simpleGraph:\n",
    "        IPADf[['ImpliedVolatility']].plot()\n",
    "    else:\n",
    "\n",
    "        pd.options.display.max_colwidth = maxColwidth\n",
    "        display(searchDf.iloc[(searchDf['StrikePrice']-underlyingPrice).abs().argsort()[:1]])\n",
    "\n",
    "        IPADfGraph = IPADf[['ImpliedVolatility', 'MarketValueInDealCcy',\n",
    "                            'RiskFreeRatePercent', 'UnderlyingPrice', 'DeltaPercent',\n",
    "                            'GammaPercent', 'RhoPercent', 'ThetaPercent', 'VegaPercent']]\n",
    "\n",
    "        if debug: display(IPADfGraph)\n",
    "\n",
    "        try: # his is needed in case there is not enough data to calculate values for all timestamps , see https://stackoverflow.com/questions/67244912/wide-format-csv-with-plotly-express\n",
    "            fig = px.line(IPADfGraph)\n",
    "        except:\n",
    "            if returnDfGraph:\n",
    "                return IPADfGraph\n",
    "            else:\n",
    "                IPADfGraph = IPADfGraph[[\"ImpliedVolatility\",\"MarketValueInDealCcy\",\"RiskFreeRatePercent\",\"UnderlyingPrice\"]]\n",
    "                fig = px.line(IPADfGraph)\n",
    "\n",
    "        if graphStyle=='without out of trading hours':\n",
    "            fig.layout = dict(xaxis=dict(type=\"category\"))\n",
    "            # Format Graph: https://plotly.com/python/tick-formatting/\n",
    "            fig.update_layout(\n",
    "                title=instrument,\n",
    "                template='plotly_dark',\n",
    "                xaxis=dict(\n",
    "                    tickmode='array',\n",
    "                    tickvals=list(\n",
    "                        range(len(IPADfGraph.index)))[0::35],  # Thought of replacing `35` with `math.ceil(len(IPADfGraph.index)/10)`\n",
    "                    ticktext=[IPADf.index[i] for i in list(\n",
    "                        range(len(IPADfGraph.index)))[0::35]]))\n",
    "            # Make it so that only one line is shown by default: # https://stackoverflow.com/questions/73384807/plotly-express-plot-subset-of-dataframe-columns-by-default-and-the-rest-as-opt\n",
    "            fig.for_each_trace(\n",
    "                lambda t: t.update(\n",
    "                    visible=True if t.name in IPADfGraph.columns[:1] else \"legendonly\"))\n",
    "\n",
    "        # elif graphStyle=='with out of trading hours':\n",
    "        #     fig.update_layout(\n",
    "        #         title=instrument,\n",
    "        #         template=graphTemplate)\n",
    "        #     fig.for_each_trace(\n",
    "        #         lambda t: t.update(\n",
    "        #             visible=True if t.name in IPADfGraph.columns[:1] else \"legendonly\"))\n",
    "\n",
    "        else:\n",
    "            fig = make_subplots(rows=3, cols=1)\n",
    "\n",
    "            fig.add_trace(go.Scatter(x=IPADf.index, y=IPADf.ImpliedVolatility, name='Op Imp Volatility'), row=1, col=1)\n",
    "            fig.add_trace(go.Scatter(x=IPADf.index, y=IPADf.MarketValueInDealCcy, name='Op Mk Pr'), row=2, col=1)\n",
    "            fig.add_trace(go.Scatter(x=IPADf.index, y=IPADf.UnderlyingPrice, name=underlying+' Undrlyg Pr'), row=3, col=1)\n",
    "\n",
    "            fig.update(layout_xaxis_rangeslider_visible=False)\n",
    "            fig.update_layout(title=IPADf.columns.name)\n",
    "            fig.update_layout(\n",
    "                template=graphTemplate,\n",
    "                autosize=False,\n",
    "                width=1300,\n",
    "                height=500)\n",
    "\n",
    "        fig.show()"
   ]
  },
  {
   "cell_type": "code",
   "execution_count": 8,
   "id": "7d6bd445-20fa-4ad5-832c-6690c13d3182",
   "metadata": {
    "tags": []
   },
   "outputs": [
    {
     "data": {
      "text/html": [
       "<div>\n",
       "<style scoped>\n",
       "    .dataframe tbody tr th:only-of-type {\n",
       "        vertical-align: middle;\n",
       "    }\n",
       "\n",
       "    .dataframe tbody tr th {\n",
       "        vertical-align: top;\n",
       "    }\n",
       "\n",
       "    .dataframe thead th {\n",
       "        text-align: right;\n",
       "    }\n",
       "</style>\n",
       "<table border=\"1\" class=\"dataframe\">\n",
       "  <thead>\n",
       "    <tr style=\"text-align: right;\">\n",
       "      <th></th>\n",
       "      <th>DocumentTitle</th>\n",
       "      <th>RIC</th>\n",
       "      <th>StrikePrice</th>\n",
       "      <th>ExchangeCode</th>\n",
       "      <th>ExpiryDate</th>\n",
       "      <th>UnderlyingQuoteRIC</th>\n",
       "    </tr>\n",
       "  </thead>\n",
       "  <tbody>\n",
       "    <tr>\n",
       "      <th>84</th>\n",
       "      <td>Eurex Dow Jones EURO STOXX 50 Index Option 3725 Call Dec 2022 , Stock Index Cash Option, Call 3725 EUR 16-Dec-2022, Eurex</td>\n",
       "      <td>STXE37250L2.EX</td>\n",
       "      <td>3725</td>\n",
       "      <td>EUX</td>\n",
       "      <td>2022-12-16</td>\n",
       "      <td>[.STOXX50E]</td>\n",
       "    </tr>\n",
       "  </tbody>\n",
       "</table>\n",
       "</div>"
      ],
      "text/plain": [
       "                                                                                                                DocumentTitle  \\\n",
       "84  Eurex Dow Jones EURO STOXX 50 Index Option 3725 Call Dec 2022 , Stock Index Cash Option, Call 3725 EUR 16-Dec-2022, Eurex   \n",
       "\n",
       "               RIC  StrikePrice ExchangeCode ExpiryDate UnderlyingQuoteRIC  \n",
       "84  STXE37250L2.EX         3725          EUX 2022-12-16        [.STOXX50E]  "
      ]
     },
     "metadata": {},
     "output_type": "display_data"
    },
    {
     "data": {
      "application/vnd.plotly.v1+json": {
       "config": {
        "plotlyServerURL": "https://plot.ly"
       },
       "data": [
        {
         "hovertemplate": "variable=ImpliedVolatility<br>index=%{x}<br>value=%{y}<extra></extra>",
         "legendgroup": "ImpliedVolatility",
         "line": {
          "color": "#636efa",
          "dash": "solid"
         },
         "marker": {
          "symbol": "circle"
         },
         "mode": "lines",
         "name": "ImpliedVolatility",
         "orientation": "v",
         "showlegend": true,
         "type": "scatter",
         "visible": true,
         "x": [
          "2022-11-07T09:20:00+01:00",
          "2022-11-07T10:00:00+01:00",
          "2022-11-07T10:30:00+01:00",
          "2022-11-07T13:50:00+01:00",
          "2022-11-07T14:00:00+01:00",
          "2022-11-07T15:30:00+01:00",
          "2022-11-07T15:40:00+01:00",
          "2022-11-07T17:20:00+01:00",
          "2022-11-08T13:50:00+01:00",
          "2022-11-08T14:20:00+01:00",
          "2022-11-08T14:30:00+01:00",
          "2022-11-08T15:30:00+01:00",
          "2022-11-08T15:50:00+01:00",
          "2022-11-08T17:20:00+01:00",
          "2022-11-09T09:10:00+01:00",
          "2022-11-09T13:50:00+01:00"
         ],
         "xaxis": "x",
         "y": [
          21.1344175395928,
          21.3811199586102,
          21.5478345625296,
          20.971160879066,
          21.5268106375339,
          21.1447861019913,
          21.1118539007853,
          20.7412992241995,
          20.3637331175275,
          20.660939488404,
          20.10815604244,
          20.6753209807901,
          20.451094464165,
          20.5620513764455,
          21.1184111257087,
          20.7433335486874
         ],
         "yaxis": "y"
        },
        {
         "hovertemplate": "variable=MarketValueInDealCcy<br>index=%{x}<br>value=%{y}<extra></extra>",
         "legendgroup": "MarketValueInDealCcy",
         "line": {
          "color": "#EF553B",
          "dash": "solid"
         },
         "marker": {
          "symbol": "circle"
         },
         "mode": "lines",
         "name": "MarketValueInDealCcy",
         "orientation": "v",
         "showlegend": true,
         "type": "scatter",
         "visible": "legendonly",
         "x": [
          "2022-11-07T09:20:00+01:00",
          "2022-11-07T10:00:00+01:00",
          "2022-11-07T10:30:00+01:00",
          "2022-11-07T13:50:00+01:00",
          "2022-11-07T14:00:00+01:00",
          "2022-11-07T15:30:00+01:00",
          "2022-11-07T15:40:00+01:00",
          "2022-11-07T17:20:00+01:00",
          "2022-11-08T13:50:00+01:00",
          "2022-11-08T14:20:00+01:00",
          "2022-11-08T14:30:00+01:00",
          "2022-11-08T15:30:00+01:00",
          "2022-11-08T15:50:00+01:00",
          "2022-11-08T17:20:00+01:00",
          "2022-11-09T09:10:00+01:00",
          "2022-11-09T13:50:00+01:00"
         ],
         "xaxis": "x",
         "y": [
          83.4,
          94.9,
          94.7,
          93.9,
          94.4,
          88.7,
          89.2,
          89.6,
          93.9,
          95.1,
          94.2,
          95.4,
          96.8,
          104,
          105.6,
          96.5
         ],
         "yaxis": "y"
        },
        {
         "hovertemplate": "variable=RiskFreeRatePercent<br>index=%{x}<br>value=%{y}<extra></extra>",
         "legendgroup": "RiskFreeRatePercent",
         "line": {
          "color": "#00cc96",
          "dash": "solid"
         },
         "marker": {
          "symbol": "circle"
         },
         "mode": "lines",
         "name": "RiskFreeRatePercent",
         "orientation": "v",
         "showlegend": true,
         "type": "scatter",
         "visible": "legendonly",
         "x": [
          "2022-11-07T09:20:00+01:00",
          "2022-11-07T10:00:00+01:00",
          "2022-11-07T10:30:00+01:00",
          "2022-11-07T13:50:00+01:00",
          "2022-11-07T14:00:00+01:00",
          "2022-11-07T15:30:00+01:00",
          "2022-11-07T15:40:00+01:00",
          "2022-11-07T17:20:00+01:00",
          "2022-11-08T13:50:00+01:00",
          "2022-11-08T14:20:00+01:00",
          "2022-11-08T14:30:00+01:00",
          "2022-11-08T15:30:00+01:00",
          "2022-11-08T15:50:00+01:00",
          "2022-11-08T17:20:00+01:00",
          "2022-11-09T09:10:00+01:00",
          "2022-11-09T13:50:00+01:00"
         ],
         "xaxis": "x",
         "y": [
          1.742,
          1.742,
          1.742,
          1.742,
          1.742,
          1.742,
          1.742,
          1.742,
          1.791,
          1.791,
          1.791,
          1.791,
          1.791,
          1.791,
          1.802,
          1.802
         ],
         "yaxis": "y"
        },
        {
         "hovertemplate": "variable=UnderlyingPrice<br>index=%{x}<br>value=%{y}<extra></extra>",
         "legendgroup": "UnderlyingPrice",
         "line": {
          "color": "#ab63fa",
          "dash": "solid"
         },
         "marker": {
          "symbol": "circle"
         },
         "mode": "lines",
         "name": "UnderlyingPrice",
         "orientation": "v",
         "showlegend": true,
         "type": "scatter",
         "visible": "legendonly",
         "x": [
          "2022-11-07T09:20:00+01:00",
          "2022-11-07T10:00:00+01:00",
          "2022-11-07T10:30:00+01:00",
          "2022-11-07T13:50:00+01:00",
          "2022-11-07T14:00:00+01:00",
          "2022-11-07T15:30:00+01:00",
          "2022-11-07T15:40:00+01:00",
          "2022-11-07T17:20:00+01:00",
          "2022-11-08T13:50:00+01:00",
          "2022-11-08T14:20:00+01:00",
          "2022-11-08T14:30:00+01:00",
          "2022-11-08T15:30:00+01:00",
          "2022-11-08T15:50:00+01:00",
          "2022-11-08T17:20:00+01:00",
          "2022-11-09T09:10:00+01:00",
          "2022-11-09T13:50:00+01:00"
         ],
         "xaxis": "x",
         "y": [
          3691.48,
          3713.2,
          3711.2,
          3715.08,
          3710.79,
          3702.71,
          3704.08,
          3708.52,
          3720.63,
          3720.23,
          3723.6,
          3720.69,
          3725.52,
          3738.28,
          3736.31,
          3722.19
         ],
         "yaxis": "y"
        },
        {
         "hovertemplate": "variable=DeltaPercent<br>index=%{x}<br>value=%{y}<extra></extra>",
         "legendgroup": "DeltaPercent",
         "line": {
          "color": "#FFA15A",
          "dash": "solid"
         },
         "marker": {
          "symbol": "circle"
         },
         "mode": "lines",
         "name": "DeltaPercent",
         "orientation": "v",
         "showlegend": true,
         "type": "scatter",
         "visible": "legendonly",
         "x": [
          "2022-11-07T09:20:00+01:00",
          "2022-11-07T10:00:00+01:00",
          "2022-11-07T10:30:00+01:00",
          "2022-11-07T13:50:00+01:00",
          "2022-11-07T14:00:00+01:00",
          "2022-11-07T15:30:00+01:00",
          "2022-11-07T15:40:00+01:00",
          "2022-11-07T17:20:00+01:00",
          "2022-11-08T13:50:00+01:00",
          "2022-11-08T14:20:00+01:00",
          "2022-11-08T14:30:00+01:00",
          "2022-11-08T15:30:00+01:00",
          "2022-11-08T15:50:00+01:00",
          "2022-11-08T17:20:00+01:00",
          "2022-11-09T09:10:00+01:00",
          "2022-11-09T13:50:00+01:00"
         ],
         "xaxis": "x",
         "y": [
          0.458655485129884,
          0.493682107559618,
          0.490807696780154,
          0.496070243981868,
          0.490131176582997,
          0.476597962703465,
          0.478709596439357,
          0.485089193979243,
          0.504666851848888,
          0.504309929480572,
          0.509373860685322,
          0.50507240765486,
          0.512783666202956,
          0.533607363689108,
          0.530347189530402,
          0.507634852418611
         ],
         "yaxis": "y"
        },
        {
         "hovertemplate": "variable=GammaPercent<br>index=%{x}<br>value=%{y}<extra></extra>",
         "legendgroup": "GammaPercent",
         "line": {
          "color": "#19d3f3",
          "dash": "solid"
         },
         "marker": {
          "symbol": "circle"
         },
         "mode": "lines",
         "name": "GammaPercent",
         "orientation": "v",
         "showlegend": true,
         "type": "scatter",
         "visible": "legendonly",
         "x": [
          "2022-11-07T09:20:00+01:00",
          "2022-11-07T10:00:00+01:00",
          "2022-11-07T10:30:00+01:00",
          "2022-11-07T13:50:00+01:00",
          "2022-11-07T14:00:00+01:00",
          "2022-11-07T15:30:00+01:00",
          "2022-11-07T15:40:00+01:00",
          "2022-11-07T17:20:00+01:00",
          "2022-11-08T13:50:00+01:00",
          "2022-11-08T14:20:00+01:00",
          "2022-11-08T14:30:00+01:00",
          "2022-11-08T15:30:00+01:00",
          "2022-11-08T15:50:00+01:00",
          "2022-11-08T17:20:00+01:00",
          "2022-11-09T09:10:00+01:00",
          "2022-11-09T13:50:00+01:00"
         ],
         "xaxis": "x",
         "y": [
          0.00159487972929516,
          0.00157523931429223,
          0.00156370000575889,
          0.00160532238166408,
          0.00156534252194306,
          0.00159495657414087,
          0.0015973104874468,
          0.00162502574001633,
          0.00165062699434189,
          0.00162707751552886,
          0.00166988017563769,
          0.0016257009393872,
          0.00164060907097198,
          0.00162103214026704,
          0.00158023153325579,
          0.00161952753833013
         ],
         "yaxis": "y"
        },
        {
         "hovertemplate": "variable=RhoPercent<br>index=%{x}<br>value=%{y}<extra></extra>",
         "legendgroup": "RhoPercent",
         "line": {
          "color": "#FF6692",
          "dash": "solid"
         },
         "marker": {
          "symbol": "circle"
         },
         "mode": "lines",
         "name": "RhoPercent",
         "orientation": "v",
         "showlegend": true,
         "type": "scatter",
         "visible": "legendonly",
         "x": [
          "2022-11-07T09:20:00+01:00",
          "2022-11-07T10:00:00+01:00",
          "2022-11-07T10:30:00+01:00",
          "2022-11-07T13:50:00+01:00",
          "2022-11-07T14:00:00+01:00",
          "2022-11-07T15:30:00+01:00",
          "2022-11-07T15:40:00+01:00",
          "2022-11-07T17:20:00+01:00",
          "2022-11-08T13:50:00+01:00",
          "2022-11-08T14:20:00+01:00",
          "2022-11-08T14:30:00+01:00",
          "2022-11-08T15:30:00+01:00",
          "2022-11-08T15:50:00+01:00",
          "2022-11-08T17:20:00+01:00",
          "2022-11-09T09:10:00+01:00",
          "2022-11-09T13:50:00+01:00"
         ],
         "xaxis": "x",
         "y": [
          1.63176847559312,
          1.76205191414367,
          1.75044012051367,
          1.77300010286164,
          1.74799542859834,
          1.6989630019678,
          1.70704684255415,
          1.73277890885667,
          1.80821395267938,
          1.80544685948509,
          1.82719635021838,
          1.80825371748445,
          1.83842944526466,
          1.9166747456075,
          1.90163933658713,
          1.81757519832847
         ],
         "yaxis": "y"
        },
        {
         "hovertemplate": "variable=ThetaPercent<br>index=%{x}<br>value=%{y}<extra></extra>",
         "legendgroup": "ThetaPercent",
         "line": {
          "color": "#B6E880",
          "dash": "solid"
         },
         "marker": {
          "symbol": "circle"
         },
         "mode": "lines",
         "name": "ThetaPercent",
         "orientation": "v",
         "showlegend": true,
         "type": "scatter",
         "visible": "legendonly",
         "x": [
          "2022-11-07T09:20:00+01:00",
          "2022-11-07T10:00:00+01:00",
          "2022-11-07T10:30:00+01:00",
          "2022-11-07T13:50:00+01:00",
          "2022-11-07T14:00:00+01:00",
          "2022-11-07T15:30:00+01:00",
          "2022-11-07T15:40:00+01:00",
          "2022-11-07T17:20:00+01:00",
          "2022-11-08T13:50:00+01:00",
          "2022-11-08T14:20:00+01:00",
          "2022-11-08T14:30:00+01:00",
          "2022-11-08T15:30:00+01:00",
          "2022-11-08T15:50:00+01:00",
          "2022-11-08T17:20:00+01:00",
          "2022-11-09T09:10:00+01:00",
          "2022-11-09T13:50:00+01:00"
         ],
         "xaxis": "x",
         "y": [
          -1.32270076035177,
          -1.35222733736003,
          -1.36195551144432,
          -1.32693753558511,
          -1.36043670367019,
          -1.33179741794921,
          -1.33054950708475,
          -1.30948425942337,
          -1.29240958559977,
          -1.31117059796706,
          -1.27681516811545,
          -1.31219838156384,
          -1.2988886898907,
          -1.30589187415138,
          -1.34208208975392,
          -1.31738306837897
         ],
         "yaxis": "y"
        },
        {
         "hovertemplate": "variable=VegaPercent<br>index=%{x}<br>value=%{y}<extra></extra>",
         "legendgroup": "VegaPercent",
         "line": {
          "color": "#FF97FF",
          "dash": "solid"
         },
         "marker": {
          "symbol": "circle"
         },
         "mode": "lines",
         "name": "VegaPercent",
         "orientation": "v",
         "showlegend": true,
         "type": "scatter",
         "visible": "legendonly",
         "x": [
          "2022-11-07T09:20:00+01:00",
          "2022-11-07T10:00:00+01:00",
          "2022-11-07T10:30:00+01:00",
          "2022-11-07T13:50:00+01:00",
          "2022-11-07T14:00:00+01:00",
          "2022-11-07T15:30:00+01:00",
          "2022-11-07T15:40:00+01:00",
          "2022-11-07T17:20:00+01:00",
          "2022-11-08T13:50:00+01:00",
          "2022-11-08T14:20:00+01:00",
          "2022-11-08T14:30:00+01:00",
          "2022-11-08T15:30:00+01:00",
          "2022-11-08T15:50:00+01:00",
          "2022-11-08T17:20:00+01:00",
          "2022-11-09T09:10:00+01:00",
          "2022-11-09T13:50:00+01:00"
         ],
         "xaxis": "x",
         "y": [
          4.65616241387738,
          4.70741552758503,
          4.70429609364127,
          4.71009788536378,
          4.70360331878611,
          4.68705896198673,
          4.69013442558387,
          4.69900938038179,
          4.71680765405203,
          4.71635785811587,
          4.71946161911277,
          4.71681400117168,
          4.72067738273475,
          4.72183252926931,
          4.72255069144279,
          4.71816172902271
         ],
         "yaxis": "y"
        }
       ],
       "layout": {
        "autosize": true,
        "template": {
         "data": {
          "bar": [
           {
            "error_x": {
             "color": "#f2f5fa"
            },
            "error_y": {
             "color": "#f2f5fa"
            },
            "marker": {
             "line": {
              "color": "rgb(17,17,17)",
              "width": 0.5
             },
             "pattern": {
              "fillmode": "overlay",
              "size": 10,
              "solidity": 0.2
             }
            },
            "type": "bar"
           }
          ],
          "barpolar": [
           {
            "marker": {
             "line": {
              "color": "rgb(17,17,17)",
              "width": 0.5
             },
             "pattern": {
              "fillmode": "overlay",
              "size": 10,
              "solidity": 0.2
             }
            },
            "type": "barpolar"
           }
          ],
          "carpet": [
           {
            "aaxis": {
             "endlinecolor": "#A2B1C6",
             "gridcolor": "#506784",
             "linecolor": "#506784",
             "minorgridcolor": "#506784",
             "startlinecolor": "#A2B1C6"
            },
            "baxis": {
             "endlinecolor": "#A2B1C6",
             "gridcolor": "#506784",
             "linecolor": "#506784",
             "minorgridcolor": "#506784",
             "startlinecolor": "#A2B1C6"
            },
            "type": "carpet"
           }
          ],
          "choropleth": [
           {
            "colorbar": {
             "outlinewidth": 0,
             "ticks": ""
            },
            "type": "choropleth"
           }
          ],
          "contour": [
           {
            "colorbar": {
             "outlinewidth": 0,
             "ticks": ""
            },
            "colorscale": [
             [
              0,
              "#0d0887"
             ],
             [
              0.1111111111111111,
              "#46039f"
             ],
             [
              0.2222222222222222,
              "#7201a8"
             ],
             [
              0.3333333333333333,
              "#9c179e"
             ],
             [
              0.4444444444444444,
              "#bd3786"
             ],
             [
              0.5555555555555556,
              "#d8576b"
             ],
             [
              0.6666666666666666,
              "#ed7953"
             ],
             [
              0.7777777777777778,
              "#fb9f3a"
             ],
             [
              0.8888888888888888,
              "#fdca26"
             ],
             [
              1,
              "#f0f921"
             ]
            ],
            "type": "contour"
           }
          ],
          "contourcarpet": [
           {
            "colorbar": {
             "outlinewidth": 0,
             "ticks": ""
            },
            "type": "contourcarpet"
           }
          ],
          "heatmap": [
           {
            "colorbar": {
             "outlinewidth": 0,
             "ticks": ""
            },
            "colorscale": [
             [
              0,
              "#0d0887"
             ],
             [
              0.1111111111111111,
              "#46039f"
             ],
             [
              0.2222222222222222,
              "#7201a8"
             ],
             [
              0.3333333333333333,
              "#9c179e"
             ],
             [
              0.4444444444444444,
              "#bd3786"
             ],
             [
              0.5555555555555556,
              "#d8576b"
             ],
             [
              0.6666666666666666,
              "#ed7953"
             ],
             [
              0.7777777777777778,
              "#fb9f3a"
             ],
             [
              0.8888888888888888,
              "#fdca26"
             ],
             [
              1,
              "#f0f921"
             ]
            ],
            "type": "heatmap"
           }
          ],
          "heatmapgl": [
           {
            "colorbar": {
             "outlinewidth": 0,
             "ticks": ""
            },
            "colorscale": [
             [
              0,
              "#0d0887"
             ],
             [
              0.1111111111111111,
              "#46039f"
             ],
             [
              0.2222222222222222,
              "#7201a8"
             ],
             [
              0.3333333333333333,
              "#9c179e"
             ],
             [
              0.4444444444444444,
              "#bd3786"
             ],
             [
              0.5555555555555556,
              "#d8576b"
             ],
             [
              0.6666666666666666,
              "#ed7953"
             ],
             [
              0.7777777777777778,
              "#fb9f3a"
             ],
             [
              0.8888888888888888,
              "#fdca26"
             ],
             [
              1,
              "#f0f921"
             ]
            ],
            "type": "heatmapgl"
           }
          ],
          "histogram": [
           {
            "marker": {
             "pattern": {
              "fillmode": "overlay",
              "size": 10,
              "solidity": 0.2
             }
            },
            "type": "histogram"
           }
          ],
          "histogram2d": [
           {
            "colorbar": {
             "outlinewidth": 0,
             "ticks": ""
            },
            "colorscale": [
             [
              0,
              "#0d0887"
             ],
             [
              0.1111111111111111,
              "#46039f"
             ],
             [
              0.2222222222222222,
              "#7201a8"
             ],
             [
              0.3333333333333333,
              "#9c179e"
             ],
             [
              0.4444444444444444,
              "#bd3786"
             ],
             [
              0.5555555555555556,
              "#d8576b"
             ],
             [
              0.6666666666666666,
              "#ed7953"
             ],
             [
              0.7777777777777778,
              "#fb9f3a"
             ],
             [
              0.8888888888888888,
              "#fdca26"
             ],
             [
              1,
              "#f0f921"
             ]
            ],
            "type": "histogram2d"
           }
          ],
          "histogram2dcontour": [
           {
            "colorbar": {
             "outlinewidth": 0,
             "ticks": ""
            },
            "colorscale": [
             [
              0,
              "#0d0887"
             ],
             [
              0.1111111111111111,
              "#46039f"
             ],
             [
              0.2222222222222222,
              "#7201a8"
             ],
             [
              0.3333333333333333,
              "#9c179e"
             ],
             [
              0.4444444444444444,
              "#bd3786"
             ],
             [
              0.5555555555555556,
              "#d8576b"
             ],
             [
              0.6666666666666666,
              "#ed7953"
             ],
             [
              0.7777777777777778,
              "#fb9f3a"
             ],
             [
              0.8888888888888888,
              "#fdca26"
             ],
             [
              1,
              "#f0f921"
             ]
            ],
            "type": "histogram2dcontour"
           }
          ],
          "mesh3d": [
           {
            "colorbar": {
             "outlinewidth": 0,
             "ticks": ""
            },
            "type": "mesh3d"
           }
          ],
          "parcoords": [
           {
            "line": {
             "colorbar": {
              "outlinewidth": 0,
              "ticks": ""
             }
            },
            "type": "parcoords"
           }
          ],
          "pie": [
           {
            "automargin": true,
            "type": "pie"
           }
          ],
          "scatter": [
           {
            "marker": {
             "line": {
              "color": "#283442"
             }
            },
            "type": "scatter"
           }
          ],
          "scatter3d": [
           {
            "line": {
             "colorbar": {
              "outlinewidth": 0,
              "ticks": ""
             }
            },
            "marker": {
             "colorbar": {
              "outlinewidth": 0,
              "ticks": ""
             }
            },
            "type": "scatter3d"
           }
          ],
          "scattercarpet": [
           {
            "marker": {
             "colorbar": {
              "outlinewidth": 0,
              "ticks": ""
             }
            },
            "type": "scattercarpet"
           }
          ],
          "scattergeo": [
           {
            "marker": {
             "colorbar": {
              "outlinewidth": 0,
              "ticks": ""
             }
            },
            "type": "scattergeo"
           }
          ],
          "scattergl": [
           {
            "marker": {
             "line": {
              "color": "#283442"
             }
            },
            "type": "scattergl"
           }
          ],
          "scattermapbox": [
           {
            "marker": {
             "colorbar": {
              "outlinewidth": 0,
              "ticks": ""
             }
            },
            "type": "scattermapbox"
           }
          ],
          "scatterpolar": [
           {
            "marker": {
             "colorbar": {
              "outlinewidth": 0,
              "ticks": ""
             }
            },
            "type": "scatterpolar"
           }
          ],
          "scatterpolargl": [
           {
            "marker": {
             "colorbar": {
              "outlinewidth": 0,
              "ticks": ""
             }
            },
            "type": "scatterpolargl"
           }
          ],
          "scatterternary": [
           {
            "marker": {
             "colorbar": {
              "outlinewidth": 0,
              "ticks": ""
             }
            },
            "type": "scatterternary"
           }
          ],
          "surface": [
           {
            "colorbar": {
             "outlinewidth": 0,
             "ticks": ""
            },
            "colorscale": [
             [
              0,
              "#0d0887"
             ],
             [
              0.1111111111111111,
              "#46039f"
             ],
             [
              0.2222222222222222,
              "#7201a8"
             ],
             [
              0.3333333333333333,
              "#9c179e"
             ],
             [
              0.4444444444444444,
              "#bd3786"
             ],
             [
              0.5555555555555556,
              "#d8576b"
             ],
             [
              0.6666666666666666,
              "#ed7953"
             ],
             [
              0.7777777777777778,
              "#fb9f3a"
             ],
             [
              0.8888888888888888,
              "#fdca26"
             ],
             [
              1,
              "#f0f921"
             ]
            ],
            "type": "surface"
           }
          ],
          "table": [
           {
            "cells": {
             "fill": {
              "color": "#506784"
             },
             "line": {
              "color": "rgb(17,17,17)"
             }
            },
            "header": {
             "fill": {
              "color": "#2a3f5f"
             },
             "line": {
              "color": "rgb(17,17,17)"
             }
            },
            "type": "table"
           }
          ]
         },
         "layout": {
          "annotationdefaults": {
           "arrowcolor": "#f2f5fa",
           "arrowhead": 0,
           "arrowwidth": 1
          },
          "autotypenumbers": "strict",
          "coloraxis": {
           "colorbar": {
            "outlinewidth": 0,
            "ticks": ""
           }
          },
          "colorscale": {
           "diverging": [
            [
             0,
             "#8e0152"
            ],
            [
             0.1,
             "#c51b7d"
            ],
            [
             0.2,
             "#de77ae"
            ],
            [
             0.3,
             "#f1b6da"
            ],
            [
             0.4,
             "#fde0ef"
            ],
            [
             0.5,
             "#f7f7f7"
            ],
            [
             0.6,
             "#e6f5d0"
            ],
            [
             0.7,
             "#b8e186"
            ],
            [
             0.8,
             "#7fbc41"
            ],
            [
             0.9,
             "#4d9221"
            ],
            [
             1,
             "#276419"
            ]
           ],
           "sequential": [
            [
             0,
             "#0d0887"
            ],
            [
             0.1111111111111111,
             "#46039f"
            ],
            [
             0.2222222222222222,
             "#7201a8"
            ],
            [
             0.3333333333333333,
             "#9c179e"
            ],
            [
             0.4444444444444444,
             "#bd3786"
            ],
            [
             0.5555555555555556,
             "#d8576b"
            ],
            [
             0.6666666666666666,
             "#ed7953"
            ],
            [
             0.7777777777777778,
             "#fb9f3a"
            ],
            [
             0.8888888888888888,
             "#fdca26"
            ],
            [
             1,
             "#f0f921"
            ]
           ],
           "sequentialminus": [
            [
             0,
             "#0d0887"
            ],
            [
             0.1111111111111111,
             "#46039f"
            ],
            [
             0.2222222222222222,
             "#7201a8"
            ],
            [
             0.3333333333333333,
             "#9c179e"
            ],
            [
             0.4444444444444444,
             "#bd3786"
            ],
            [
             0.5555555555555556,
             "#d8576b"
            ],
            [
             0.6666666666666666,
             "#ed7953"
            ],
            [
             0.7777777777777778,
             "#fb9f3a"
            ],
            [
             0.8888888888888888,
             "#fdca26"
            ],
            [
             1,
             "#f0f921"
            ]
           ]
          },
          "colorway": [
           "#636efa",
           "#EF553B",
           "#00cc96",
           "#ab63fa",
           "#FFA15A",
           "#19d3f3",
           "#FF6692",
           "#B6E880",
           "#FF97FF",
           "#FECB52"
          ],
          "font": {
           "color": "#f2f5fa"
          },
          "geo": {
           "bgcolor": "rgb(17,17,17)",
           "lakecolor": "rgb(17,17,17)",
           "landcolor": "rgb(17,17,17)",
           "showlakes": true,
           "showland": true,
           "subunitcolor": "#506784"
          },
          "hoverlabel": {
           "align": "left"
          },
          "hovermode": "closest",
          "mapbox": {
           "style": "dark"
          },
          "paper_bgcolor": "rgb(17,17,17)",
          "plot_bgcolor": "rgb(17,17,17)",
          "polar": {
           "angularaxis": {
            "gridcolor": "#506784",
            "linecolor": "#506784",
            "ticks": ""
           },
           "bgcolor": "rgb(17,17,17)",
           "radialaxis": {
            "gridcolor": "#506784",
            "linecolor": "#506784",
            "ticks": ""
           }
          },
          "scene": {
           "xaxis": {
            "backgroundcolor": "rgb(17,17,17)",
            "gridcolor": "#506784",
            "gridwidth": 2,
            "linecolor": "#506784",
            "showbackground": true,
            "ticks": "",
            "zerolinecolor": "#C8D4E3"
           },
           "yaxis": {
            "backgroundcolor": "rgb(17,17,17)",
            "gridcolor": "#506784",
            "gridwidth": 2,
            "linecolor": "#506784",
            "showbackground": true,
            "ticks": "",
            "zerolinecolor": "#C8D4E3"
           },
           "zaxis": {
            "backgroundcolor": "rgb(17,17,17)",
            "gridcolor": "#506784",
            "gridwidth": 2,
            "linecolor": "#506784",
            "showbackground": true,
            "ticks": "",
            "zerolinecolor": "#C8D4E3"
           }
          },
          "shapedefaults": {
           "line": {
            "color": "#f2f5fa"
           }
          },
          "sliderdefaults": {
           "bgcolor": "#C8D4E3",
           "bordercolor": "rgb(17,17,17)",
           "borderwidth": 1,
           "tickwidth": 0
          },
          "ternary": {
           "aaxis": {
            "gridcolor": "#506784",
            "linecolor": "#506784",
            "ticks": ""
           },
           "baxis": {
            "gridcolor": "#506784",
            "linecolor": "#506784",
            "ticks": ""
           },
           "bgcolor": "rgb(17,17,17)",
           "caxis": {
            "gridcolor": "#506784",
            "linecolor": "#506784",
            "ticks": ""
           }
          },
          "title": {
           "x": 0.05
          },
          "updatemenudefaults": {
           "bgcolor": "#506784",
           "borderwidth": 0
          },
          "xaxis": {
           "automargin": true,
           "gridcolor": "#283442",
           "linecolor": "#506784",
           "ticks": "",
           "title": {
            "standoff": 15
           },
           "zerolinecolor": "#283442",
           "zerolinewidth": 2
          },
          "yaxis": {
           "automargin": true,
           "gridcolor": "#283442",
           "linecolor": "#506784",
           "ticks": "",
           "title": {
            "standoff": 15
           },
           "zerolinecolor": "#283442",
           "zerolinewidth": 2
          }
         }
        },
        "title": {
         "text": "STXE37250L2.EX"
        },
        "xaxis": {
         "autorange": true,
         "range": [
          0,
          15
         ],
         "tickmode": "array",
         "ticktext": [
          "2022-11-07T09:20:00+01:00"
         ],
         "tickvals": [
          0
         ],
         "type": "category"
        },
        "yaxis": {
         "autorange": true,
         "range": [
          20.02817390243502,
          21.62781670253458
         ],
         "type": "linear"
        }
       }
      },
      "image/png": "[encoded data removed]",
      "text/html": [
       "<div>                            <div id=\"1dc20bc8-2949-45e4-ba2c-64148658567e\" class=\"plotly-graph-div\" style=\"height:525px; width:100%;\"></div>            <script type=\"text/javascript\">                require([\"plotly\"], function(Plotly) {                    window.PLOTLYENV=window.PLOTLYENV || {};                                    if (document.getElementById(\"1dc20bc8-2949-45e4-ba2c-64148658567e\")) {                    Plotly.newPlot(                        \"1dc20bc8-2949-45e4-ba2c-64148658567e\",                        [{\"hovertemplate\":\"variable=ImpliedVolatility<br>index=%{x}<br>value=%{y}<extra></extra>\",\"legendgroup\":\"ImpliedVolatility\",\"line\":{\"color\":\"#636efa\",\"dash\":\"solid\"},\"marker\":{\"symbol\":\"circle\"},\"mode\":\"lines\",\"name\":\"ImpliedVolatility\",\"orientation\":\"v\",\"showlegend\":true,\"x\":[\"2022-11-07T09:20:00+01:00\",\"2022-11-07T10:00:00+01:00\",\"2022-11-07T10:30:00+01:00\",\"2022-11-07T13:50:00+01:00\",\"2022-11-07T14:00:00+01:00\",\"2022-11-07T15:30:00+01:00\",\"2022-11-07T15:40:00+01:00\",\"2022-11-07T17:20:00+01:00\",\"2022-11-08T13:50:00+01:00\",\"2022-11-08T14:20:00+01:00\",\"2022-11-08T14:30:00+01:00\",\"2022-11-08T15:30:00+01:00\",\"2022-11-08T15:50:00+01:00\",\"2022-11-08T17:20:00+01:00\",\"2022-11-09T09:10:00+01:00\",\"2022-11-09T13:50:00+01:00\"],\"xaxis\":\"x\",\"y\":[21.1344175395928,21.3811199586102,21.5478345625296,20.971160879066,21.5268106375339,21.1447861019913,21.1118539007853,20.7412992241995,20.3637331175275,20.660939488404,20.10815604244,20.6753209807901,20.451094464165,20.5620513764455,21.1184111257087,20.7433335486874],\"yaxis\":\"y\",\"type\":\"scatter\",\"visible\":true},{\"hovertemplate\":\"variable=MarketValueInDealCcy<br>index=%{x}<br>value=%{y}<extra></extra>\",\"legendgroup\":\"MarketValueInDealCcy\",\"line\":{\"color\":\"#EF553B\",\"dash\":\"solid\"},\"marker\":{\"symbol\":\"circle\"},\"mode\":\"lines\",\"name\":\"MarketValueInDealCcy\",\"orientation\":\"v\",\"showlegend\":true,\"x\":[\"2022-11-07T09:20:00+01:00\",\"2022-11-07T10:00:00+01:00\",\"2022-11-07T10:30:00+01:00\",\"2022-11-07T13:50:00+01:00\",\"2022-11-07T14:00:00+01:00\",\"2022-11-07T15:30:00+01:00\",\"2022-11-07T15:40:00+01:00\",\"2022-11-07T17:20:00+01:00\",\"2022-11-08T13:50:00+01:00\",\"2022-11-08T14:20:00+01:00\",\"2022-11-08T14:30:00+01:00\",\"2022-11-08T15:30:00+01:00\",\"2022-11-08T15:50:00+01:00\",\"2022-11-08T17:20:00+01:00\",\"2022-11-09T09:10:00+01:00\",\"2022-11-09T13:50:00+01:00\"],\"xaxis\":\"x\",\"y\":[83.4,94.9,94.7,93.9,94.4,88.7,89.2,89.6,93.9,95.1,94.2,95.4,96.8,104.0,105.6,96.5],\"yaxis\":\"y\",\"type\":\"scatter\",\"visible\":\"legendonly\"},{\"hovertemplate\":\"variable=RiskFreeRatePercent<br>index=%{x}<br>value=%{y}<extra></extra>\",\"legendgroup\":\"RiskFreeRatePercent\",\"line\":{\"color\":\"#00cc96\",\"dash\":\"solid\"},\"marker\":{\"symbol\":\"circle\"},\"mode\":\"lines\",\"name\":\"RiskFreeRatePercent\",\"orientation\":\"v\",\"showlegend\":true,\"x\":[\"2022-11-07T09:20:00+01:00\",\"2022-11-07T10:00:00+01:00\",\"2022-11-07T10:30:00+01:00\",\"2022-11-07T13:50:00+01:00\",\"2022-11-07T14:00:00+01:00\",\"2022-11-07T15:30:00+01:00\",\"2022-11-07T15:40:00+01:00\",\"2022-11-07T17:20:00+01:00\",\"2022-11-08T13:50:00+01:00\",\"2022-11-08T14:20:00+01:00\",\"2022-11-08T14:30:00+01:00\",\"2022-11-08T15:30:00+01:00\",\"2022-11-08T15:50:00+01:00\",\"2022-11-08T17:20:00+01:00\",\"2022-11-09T09:10:00+01:00\",\"2022-11-09T13:50:00+01:00\"],\"xaxis\":\"x\",\"y\":[1.742,1.742,1.742,1.742,1.742,1.742,1.742,1.742,1.791,1.791,1.791,1.791,1.791,1.791,1.802,1.802],\"yaxis\":\"y\",\"type\":\"scatter\",\"visible\":\"legendonly\"},{\"hovertemplate\":\"variable=UnderlyingPrice<br>index=%{x}<br>value=%{y}<extra></extra>\",\"legendgroup\":\"UnderlyingPrice\",\"line\":{\"color\":\"#ab63fa\",\"dash\":\"solid\"},\"marker\":{\"symbol\":\"circle\"},\"mode\":\"lines\",\"name\":\"UnderlyingPrice\",\"orientation\":\"v\",\"showlegend\":true,\"x\":[\"2022-11-07T09:20:00+01:00\",\"2022-11-07T10:00:00+01:00\",\"2022-11-07T10:30:00+01:00\",\"2022-11-07T13:50:00+01:00\",\"2022-11-07T14:00:00+01:00\",\"2022-11-07T15:30:00+01:00\",\"2022-11-07T15:40:00+01:00\",\"2022-11-07T17:20:00+01:00\",\"2022-11-08T13:50:00+01:00\",\"2022-11-08T14:20:00+01:00\",\"2022-11-08T14:30:00+01:00\",\"2022-11-08T15:30:00+01:00\",\"2022-11-08T15:50:00+01:00\",\"2022-11-08T17:20:00+01:00\",\"2022-11-09T09:10:00+01:00\",\"2022-11-09T13:50:00+01:00\"],\"xaxis\":\"x\",\"y\":[3691.48,3713.2,3711.2,3715.08,3710.79,3702.71,3704.08,3708.52,3720.63,3720.23,3723.6,3720.69,3725.52,3738.28,3736.31,3722.19],\"yaxis\":\"y\",\"type\":\"scatter\",\"visible\":\"legendonly\"},{\"hovertemplate\":\"variable=DeltaPercent<br>index=%{x}<br>value=%{y}<extra></extra>\",\"legendgroup\":\"DeltaPercent\",\"line\":{\"color\":\"#FFA15A\",\"dash\":\"solid\"},\"marker\":{\"symbol\":\"circle\"},\"mode\":\"lines\",\"name\":\"DeltaPercent\",\"orientation\":\"v\",\"showlegend\":true,\"x\":[\"2022-11-07T09:20:00+01:00\",\"2022-11-07T10:00:00+01:00\",\"2022-11-07T10:30:00+01:00\",\"2022-11-07T13:50:00+01:00\",\"2022-11-07T14:00:00+01:00\",\"2022-11-07T15:30:00+01:00\",\"2022-11-07T15:40:00+01:00\",\"2022-11-07T17:20:00+01:00\",\"2022-11-08T13:50:00+01:00\",\"2022-11-08T14:20:00+01:00\",\"2022-11-08T14:30:00+01:00\",\"2022-11-08T15:30:00+01:00\",\"2022-11-08T15:50:00+01:00\",\"2022-11-08T17:20:00+01:00\",\"2022-11-09T09:10:00+01:00\",\"2022-11-09T13:50:00+01:00\"],\"xaxis\":\"x\",\"y\":[0.458655485129884,0.493682107559618,0.490807696780154,0.496070243981868,0.490131176582997,0.476597962703465,0.478709596439357,0.485089193979243,0.504666851848888,0.504309929480572,0.509373860685322,0.50507240765486,0.512783666202956,0.533607363689108,0.530347189530402,0.507634852418611],\"yaxis\":\"y\",\"type\":\"scatter\",\"visible\":\"legendonly\"},{\"hovertemplate\":\"variable=GammaPercent<br>index=%{x}<br>value=%{y}<extra></extra>\",\"legendgroup\":\"GammaPercent\",\"line\":{\"color\":\"#19d3f3\",\"dash\":\"solid\"},\"marker\":{\"symbol\":\"circle\"},\"mode\":\"lines\",\"name\":\"GammaPercent\",\"orientation\":\"v\",\"showlegend\":true,\"x\":[\"2022-11-07T09:20:00+01:00\",\"2022-11-07T10:00:00+01:00\",\"2022-11-07T10:30:00+01:00\",\"2022-11-07T13:50:00+01:00\",\"2022-11-07T14:00:00+01:00\",\"2022-11-07T15:30:00+01:00\",\"2022-11-07T15:40:00+01:00\",\"2022-11-07T17:20:00+01:00\",\"2022-11-08T13:50:00+01:00\",\"2022-11-08T14:20:00+01:00\",\"2022-11-08T14:30:00+01:00\",\"2022-11-08T15:30:00+01:00\",\"2022-11-08T15:50:00+01:00\",\"2022-11-08T17:20:00+01:00\",\"2022-11-09T09:10:00+01:00\",\"2022-11-09T13:50:00+01:00\"],\"xaxis\":\"x\",\"y\":[0.00159487972929516,0.00157523931429223,0.00156370000575889,0.00160532238166408,0.00156534252194306,0.00159495657414087,0.0015973104874468,0.00162502574001633,0.00165062699434189,0.00162707751552886,0.00166988017563769,0.0016257009393872,0.00164060907097198,0.00162103214026704,0.00158023153325579,0.00161952753833013],\"yaxis\":\"y\",\"type\":\"scatter\",\"visible\":\"legendonly\"},{\"hovertemplate\":\"variable=RhoPercent<br>index=%{x}<br>value=%{y}<extra></extra>\",\"legendgroup\":\"RhoPercent\",\"line\":{\"color\":\"#FF6692\",\"dash\":\"solid\"},\"marker\":{\"symbol\":\"circle\"},\"mode\":\"lines\",\"name\":\"RhoPercent\",\"orientation\":\"v\",\"showlegend\":true,\"x\":[\"2022-11-07T09:20:00+01:00\",\"2022-11-07T10:00:00+01:00\",\"2022-11-07T10:30:00+01:00\",\"2022-11-07T13:50:00+01:00\",\"2022-11-07T14:00:00+01:00\",\"2022-11-07T15:30:00+01:00\",\"2022-11-07T15:40:00+01:00\",\"2022-11-07T17:20:00+01:00\",\"2022-11-08T13:50:00+01:00\",\"2022-11-08T14:20:00+01:00\",\"2022-11-08T14:30:00+01:00\",\"2022-11-08T15:30:00+01:00\",\"2022-11-08T15:50:00+01:00\",\"2022-11-08T17:20:00+01:00\",\"2022-11-09T09:10:00+01:00\",\"2022-11-09T13:50:00+01:00\"],\"xaxis\":\"x\",\"y\":[1.63176847559312,1.76205191414367,1.75044012051367,1.77300010286164,1.74799542859834,1.6989630019678,1.70704684255415,1.73277890885667,1.80821395267938,1.80544685948509,1.82719635021838,1.80825371748445,1.83842944526466,1.9166747456075,1.90163933658713,1.81757519832847],\"yaxis\":\"y\",\"type\":\"scatter\",\"visible\":\"legendonly\"},{\"hovertemplate\":\"variable=ThetaPercent<br>index=%{x}<br>value=%{y}<extra></extra>\",\"legendgroup\":\"ThetaPercent\",\"line\":{\"color\":\"#B6E880\",\"dash\":\"solid\"},\"marker\":{\"symbol\":\"circle\"},\"mode\":\"lines\",\"name\":\"ThetaPercent\",\"orientation\":\"v\",\"showlegend\":true,\"x\":[\"2022-11-07T09:20:00+01:00\",\"2022-11-07T10:00:00+01:00\",\"2022-11-07T10:30:00+01:00\",\"2022-11-07T13:50:00+01:00\",\"2022-11-07T14:00:00+01:00\",\"2022-11-07T15:30:00+01:00\",\"2022-11-07T15:40:00+01:00\",\"2022-11-07T17:20:00+01:00\",\"2022-11-08T13:50:00+01:00\",\"2022-11-08T14:20:00+01:00\",\"2022-11-08T14:30:00+01:00\",\"2022-11-08T15:30:00+01:00\",\"2022-11-08T15:50:00+01:00\",\"2022-11-08T17:20:00+01:00\",\"2022-11-09T09:10:00+01:00\",\"2022-11-09T13:50:00+01:00\"],\"xaxis\":\"x\",\"y\":[-1.32270076035177,-1.35222733736003,-1.36195551144432,-1.32693753558511,-1.36043670367019,-1.33179741794921,-1.33054950708475,-1.30948425942337,-1.29240958559977,-1.31117059796706,-1.27681516811545,-1.31219838156384,-1.2988886898907,-1.30589187415138,-1.34208208975392,-1.31738306837897],\"yaxis\":\"y\",\"type\":\"scatter\",\"visible\":\"legendonly\"},{\"hovertemplate\":\"variable=VegaPercent<br>index=%{x}<br>value=%{y}<extra></extra>\",\"legendgroup\":\"VegaPercent\",\"line\":{\"color\":\"#FF97FF\",\"dash\":\"solid\"},\"marker\":{\"symbol\":\"circle\"},\"mode\":\"lines\",\"name\":\"VegaPercent\",\"orientation\":\"v\",\"showlegend\":true,\"x\":[\"2022-11-07T09:20:00+01:00\",\"2022-11-07T10:00:00+01:00\",\"2022-11-07T10:30:00+01:00\",\"2022-11-07T13:50:00+01:00\",\"2022-11-07T14:00:00+01:00\",\"2022-11-07T15:30:00+01:00\",\"2022-11-07T15:40:00+01:00\",\"2022-11-07T17:20:00+01:00\",\"2022-11-08T13:50:00+01:00\",\"2022-11-08T14:20:00+01:00\",\"2022-11-08T14:30:00+01:00\",\"2022-11-08T15:30:00+01:00\",\"2022-11-08T15:50:00+01:00\",\"2022-11-08T17:20:00+01:00\",\"2022-11-09T09:10:00+01:00\",\"2022-11-09T13:50:00+01:00\"],\"xaxis\":\"x\",\"y\":[4.65616241387738,4.70741552758503,4.70429609364127,4.71009788536378,4.70360331878611,4.68705896198673,4.69013442558387,4.69900938038179,4.71680765405203,4.71635785811587,4.71946161911277,4.71681400117168,4.72067738273475,4.72183252926931,4.72255069144279,4.71816172902271],\"yaxis\":\"y\",\"type\":\"scatter\",\"visible\":\"legendonly\"}],                        {\"xaxis\":{\"type\":\"category\",\"tickmode\":\"array\",\"tickvals\":[0],\"ticktext\":[\"2022-11-07T09:20:00+01:00\"]},\"template\":{\"data\":{\"barpolar\":[{\"marker\":{\"line\":{\"color\":\"rgb(17,17,17)\",\"width\":0.5},\"pattern\":{\"fillmode\":\"overlay\",\"size\":10,\"solidity\":0.2}},\"type\":\"barpolar\"}],\"bar\":[{\"error_x\":{\"color\":\"#f2f5fa\"},\"error_y\":{\"color\":\"#f2f5fa\"},\"marker\":{\"line\":{\"color\":\"rgb(17,17,17)\",\"width\":0.5},\"pattern\":{\"fillmode\":\"overlay\",\"size\":10,\"solidity\":0.2}},\"type\":\"bar\"}],\"carpet\":[{\"aaxis\":{\"endlinecolor\":\"#A2B1C6\",\"gridcolor\":\"#506784\",\"linecolor\":\"#506784\",\"minorgridcolor\":\"#506784\",\"startlinecolor\":\"#A2B1C6\"},\"baxis\":{\"endlinecolor\":\"#A2B1C6\",\"gridcolor\":\"#506784\",\"linecolor\":\"#506784\",\"minorgridcolor\":\"#506784\",\"startlinecolor\":\"#A2B1C6\"},\"type\":\"carpet\"}],\"choropleth\":[{\"colorbar\":{\"outlinewidth\":0,\"ticks\":\"\"},\"type\":\"choropleth\"}],\"contourcarpet\":[{\"colorbar\":{\"outlinewidth\":0,\"ticks\":\"\"},\"type\":\"contourcarpet\"}],\"contour\":[{\"colorbar\":{\"outlinewidth\":0,\"ticks\":\"\"},\"colorscale\":[[0.0,\"#0d0887\"],[0.1111111111111111,\"#46039f\"],[0.2222222222222222,\"#7201a8\"],[0.3333333333333333,\"#9c179e\"],[0.4444444444444444,\"#bd3786\"],[0.5555555555555556,\"#d8576b\"],[0.6666666666666666,\"#ed7953\"],[0.7777777777777778,\"#fb9f3a\"],[0.8888888888888888,\"#fdca26\"],[1.0,\"#f0f921\"]],\"type\":\"contour\"}],\"heatmapgl\":[{\"colorbar\":{\"outlinewidth\":0,\"ticks\":\"\"},\"colorscale\":[[0.0,\"#0d0887\"],[0.1111111111111111,\"#46039f\"],[0.2222222222222222,\"#7201a8\"],[0.3333333333333333,\"#9c179e\"],[0.4444444444444444,\"#bd3786\"],[0.5555555555555556,\"#d8576b\"],[0.6666666666666666,\"#ed7953\"],[0.7777777777777778,\"#fb9f3a\"],[0.8888888888888888,\"#fdca26\"],[1.0,\"#f0f921\"]],\"type\":\"heatmapgl\"}],\"heatmap\":[{\"colorbar\":{\"outlinewidth\":0,\"ticks\":\"\"},\"colorscale\":[[0.0,\"#0d0887\"],[0.1111111111111111,\"#46039f\"],[0.2222222222222222,\"#7201a8\"],[0.3333333333333333,\"#9c179e\"],[0.4444444444444444,\"#bd3786\"],[0.5555555555555556,\"#d8576b\"],[0.6666666666666666,\"#ed7953\"],[0.7777777777777778,\"#fb9f3a\"],[0.8888888888888888,\"#fdca26\"],[1.0,\"#f0f921\"]],\"type\":\"heatmap\"}],\"histogram2dcontour\":[{\"colorbar\":{\"outlinewidth\":0,\"ticks\":\"\"},\"colorscale\":[[0.0,\"#0d0887\"],[0.1111111111111111,\"#46039f\"],[0.2222222222222222,\"#7201a8\"],[0.3333333333333333,\"#9c179e\"],[0.4444444444444444,\"#bd3786\"],[0.5555555555555556,\"#d8576b\"],[0.6666666666666666,\"#ed7953\"],[0.7777777777777778,\"#fb9f3a\"],[0.8888888888888888,\"#fdca26\"],[1.0,\"#f0f921\"]],\"type\":\"histogram2dcontour\"}],\"histogram2d\":[{\"colorbar\":{\"outlinewidth\":0,\"ticks\":\"\"},\"colorscale\":[[0.0,\"#0d0887\"],[0.1111111111111111,\"#46039f\"],[0.2222222222222222,\"#7201a8\"],[0.3333333333333333,\"#9c179e\"],[0.4444444444444444,\"#bd3786\"],[0.5555555555555556,\"#d8576b\"],[0.6666666666666666,\"#ed7953\"],[0.7777777777777778,\"#fb9f3a\"],[0.8888888888888888,\"#fdca26\"],[1.0,\"#f0f921\"]],\"type\":\"histogram2d\"}],\"histogram\":[{\"marker\":{\"pattern\":{\"fillmode\":\"overlay\",\"size\":10,\"solidity\":0.2}},\"type\":\"histogram\"}],\"mesh3d\":[{\"colorbar\":{\"outlinewidth\":0,\"ticks\":\"\"},\"type\":\"mesh3d\"}],\"parcoords\":[{\"line\":{\"colorbar\":{\"outlinewidth\":0,\"ticks\":\"\"}},\"type\":\"parcoords\"}],\"pie\":[{\"automargin\":true,\"type\":\"pie\"}],\"scatter3d\":[{\"line\":{\"colorbar\":{\"outlinewidth\":0,\"ticks\":\"\"}},\"marker\":{\"colorbar\":{\"outlinewidth\":0,\"ticks\":\"\"}},\"type\":\"scatter3d\"}],\"scattercarpet\":[{\"marker\":{\"colorbar\":{\"outlinewidth\":0,\"ticks\":\"\"}},\"type\":\"scattercarpet\"}],\"scattergeo\":[{\"marker\":{\"colorbar\":{\"outlinewidth\":0,\"ticks\":\"\"}},\"type\":\"scattergeo\"}],\"scattergl\":[{\"marker\":{\"line\":{\"color\":\"#283442\"}},\"type\":\"scattergl\"}],\"scattermapbox\":[{\"marker\":{\"colorbar\":{\"outlinewidth\":0,\"ticks\":\"\"}},\"type\":\"scattermapbox\"}],\"scatterpolargl\":[{\"marker\":{\"colorbar\":{\"outlinewidth\":0,\"ticks\":\"\"}},\"type\":\"scatterpolargl\"}],\"scatterpolar\":[{\"marker\":{\"colorbar\":{\"outlinewidth\":0,\"ticks\":\"\"}},\"type\":\"scatterpolar\"}],\"scatter\":[{\"marker\":{\"line\":{\"color\":\"#283442\"}},\"type\":\"scatter\"}],\"scatterternary\":[{\"marker\":{\"colorbar\":{\"outlinewidth\":0,\"ticks\":\"\"}},\"type\":\"scatterternary\"}],\"surface\":[{\"colorbar\":{\"outlinewidth\":0,\"ticks\":\"\"},\"colorscale\":[[0.0,\"#0d0887\"],[0.1111111111111111,\"#46039f\"],[0.2222222222222222,\"#7201a8\"],[0.3333333333333333,\"#9c179e\"],[0.4444444444444444,\"#bd3786\"],[0.5555555555555556,\"#d8576b\"],[0.6666666666666666,\"#ed7953\"],[0.7777777777777778,\"#fb9f3a\"],[0.8888888888888888,\"#fdca26\"],[1.0,\"#f0f921\"]],\"type\":\"surface\"}],\"table\":[{\"cells\":{\"fill\":{\"color\":\"#506784\"},\"line\":{\"color\":\"rgb(17,17,17)\"}},\"header\":{\"fill\":{\"color\":\"#2a3f5f\"},\"line\":{\"color\":\"rgb(17,17,17)\"}},\"type\":\"table\"}]},\"layout\":{\"annotationdefaults\":{\"arrowcolor\":\"#f2f5fa\",\"arrowhead\":0,\"arrowwidth\":1},\"autotypenumbers\":\"strict\",\"coloraxis\":{\"colorbar\":{\"outlinewidth\":0,\"ticks\":\"\"}},\"colorscale\":{\"diverging\":[[0,\"#8e0152\"],[0.1,\"#c51b7d\"],[0.2,\"#de77ae\"],[0.3,\"#f1b6da\"],[0.4,\"#fde0ef\"],[0.5,\"#f7f7f7\"],[0.6,\"#e6f5d0\"],[0.7,\"#b8e186\"],[0.8,\"#7fbc41\"],[0.9,\"#4d9221\"],[1,\"#276419\"]],\"sequential\":[[0.0,\"#0d0887\"],[0.1111111111111111,\"#46039f\"],[0.2222222222222222,\"#7201a8\"],[0.3333333333333333,\"#9c179e\"],[0.4444444444444444,\"#bd3786\"],[0.5555555555555556,\"#d8576b\"],[0.6666666666666666,\"#ed7953\"],[0.7777777777777778,\"#fb9f3a\"],[0.8888888888888888,\"#fdca26\"],[1.0,\"#f0f921\"]],\"sequentialminus\":[[0.0,\"#0d0887\"],[0.1111111111111111,\"#46039f\"],[0.2222222222222222,\"#7201a8\"],[0.3333333333333333,\"#9c179e\"],[0.4444444444444444,\"#bd3786\"],[0.5555555555555556,\"#d8576b\"],[0.6666666666666666,\"#ed7953\"],[0.7777777777777778,\"#fb9f3a\"],[0.8888888888888888,\"#fdca26\"],[1.0,\"#f0f921\"]]},\"colorway\":[\"#636efa\",\"#EF553B\",\"#00cc96\",\"#ab63fa\",\"#FFA15A\",\"#19d3f3\",\"#FF6692\",\"#B6E880\",\"#FF97FF\",\"#FECB52\"],\"font\":{\"color\":\"#f2f5fa\"},\"geo\":{\"bgcolor\":\"rgb(17,17,17)\",\"lakecolor\":\"rgb(17,17,17)\",\"landcolor\":\"rgb(17,17,17)\",\"showlakes\":true,\"showland\":true,\"subunitcolor\":\"#506784\"},\"hoverlabel\":{\"align\":\"left\"},\"hovermode\":\"closest\",\"mapbox\":{\"style\":\"dark\"},\"paper_bgcolor\":\"rgb(17,17,17)\",\"plot_bgcolor\":\"rgb(17,17,17)\",\"polar\":{\"angularaxis\":{\"gridcolor\":\"#506784\",\"linecolor\":\"#506784\",\"ticks\":\"\"},\"bgcolor\":\"rgb(17,17,17)\",\"radialaxis\":{\"gridcolor\":\"#506784\",\"linecolor\":\"#506784\",\"ticks\":\"\"}},\"scene\":{\"xaxis\":{\"backgroundcolor\":\"rgb(17,17,17)\",\"gridcolor\":\"#506784\",\"gridwidth\":2,\"linecolor\":\"#506784\",\"showbackground\":true,\"ticks\":\"\",\"zerolinecolor\":\"#C8D4E3\"},\"yaxis\":{\"backgroundcolor\":\"rgb(17,17,17)\",\"gridcolor\":\"#506784\",\"gridwidth\":2,\"linecolor\":\"#506784\",\"showbackground\":true,\"ticks\":\"\",\"zerolinecolor\":\"#C8D4E3\"},\"zaxis\":{\"backgroundcolor\":\"rgb(17,17,17)\",\"gridcolor\":\"#506784\",\"gridwidth\":2,\"linecolor\":\"#506784\",\"showbackground\":true,\"ticks\":\"\",\"zerolinecolor\":\"#C8D4E3\"}},\"shapedefaults\":{\"line\":{\"color\":\"#f2f5fa\"}},\"sliderdefaults\":{\"bgcolor\":\"#C8D4E3\",\"bordercolor\":\"rgb(17,17,17)\",\"borderwidth\":1,\"tickwidth\":0},\"ternary\":{\"aaxis\":{\"gridcolor\":\"#506784\",\"linecolor\":\"#506784\",\"ticks\":\"\"},\"baxis\":{\"gridcolor\":\"#506784\",\"linecolor\":\"#506784\",\"ticks\":\"\"},\"bgcolor\":\"rgb(17,17,17)\",\"caxis\":{\"gridcolor\":\"#506784\",\"linecolor\":\"#506784\",\"ticks\":\"\"}},\"title\":{\"x\":0.05},\"updatemenudefaults\":{\"bgcolor\":\"#506784\",\"borderwidth\":0},\"xaxis\":{\"automargin\":true,\"gridcolor\":\"#283442\",\"linecolor\":\"#506784\",\"ticks\":\"\",\"title\":{\"standoff\":15},\"zerolinecolor\":\"#283442\",\"zerolinewidth\":2},\"yaxis\":{\"automargin\":true,\"gridcolor\":\"#283442\",\"linecolor\":\"#506784\",\"ticks\":\"\",\"title\":{\"standoff\":15},\"zerolinecolor\":\"#283442\",\"zerolinewidth\":2}}},\"title\":{\"text\":\"STXE37250L2.EX\"}},                        {\"responsive\": true}                    ).then(function(){\n",
       "                            \n",
       "var gd = document.getElementById('1dc20bc8-2949-45e4-ba2c-64148658567e');\n",
       "var x = new MutationObserver(function (mutations, observer) {{\n",
       "        var display = window.getComputedStyle(gd).display;\n",
       "        if (!display || display === 'none') {{\n",
       "            console.log([gd, 'removed!']);\n",
       "            Plotly.purge(gd);\n",
       "            observer.disconnect();\n",
       "        }}\n",
       "}});\n",
       "\n",
       "// Listen for the removal of the full notebook cells\n",
       "var notebookContainer = gd.closest('#notebook-container');\n",
       "if (notebookContainer) {{\n",
       "    x.observe(notebookContainer, {childList: true});\n",
       "}}\n",
       "\n",
       "// Listen for the clearing of the current output cell\n",
       "var outputEl = gd.closest('.output');\n",
       "if (outputEl) {{\n",
       "    x.observe(outputEl, {childList: true});\n",
       "}}\n",
       "\n",
       "                        })                };                });            </script>        </div>"
      ]
     },
     "metadata": {},
     "output_type": "display_data"
    }
   ],
   "source": [
    "# ImpVolatilityCalcIPA(\n",
    "#     x=15,  # Number of days after which we start searching for Options' Expiries\n",
    "#     dateBack=3,  # Number of business days for which the chart will show data\n",
    "#     indexUnderlying=\".STOXX50E\",  # \".SPX\" or \".STOXX50E\"\n",
    "#     callOrPut='Call',\n",
    "#     simpleGraph=False,\n",
    "#     AtOptionTradeOnly=True)"
   ]
  },
  {
   "cell_type": "code",
   "execution_count": null,
   "id": "ec2e92e5-619c-4ac5-bc27-49b311abbecb",
   "metadata": {},
   "outputs": [
    {
     "data": {
      "text/html": [
       "<div>\n",
       "<style scoped>\n",
       "    .dataframe tbody tr th:only-of-type {\n",
       "        vertical-align: middle;\n",
       "    }\n",
       "\n",
       "    .dataframe tbody tr th {\n",
       "        vertical-align: top;\n",
       "    }\n",
       "\n",
       "    .dataframe thead th {\n",
       "        text-align: right;\n",
       "    }\n",
       "</style>\n",
       "<table border=\"1\" class=\"dataframe\">\n",
       "  <thead>\n",
       "    <tr style=\"text-align: right;\">\n",
       "      <th></th>\n",
       "      <th>DocumentTitle</th>\n",
       "      <th>RIC</th>\n",
       "      <th>StrikePrice</th>\n",
       "      <th>ExchangeCode</th>\n",
       "      <th>ExpiryDate</th>\n",
       "      <th>UnderlyingQuoteRIC</th>\n",
       "    </tr>\n",
       "  </thead>\n",
       "  <tbody>\n",
       "    <tr>\n",
       "      <th>84</th>\n",
       "      <td>Eurex Dow Jones EURO STOXX 50 Index Option 3725 Call Dec 2022 , Stock Index Cash Option, Call 3725 EUR 16-Dec-2022, Eurex</td>\n",
       "      <td>STXE37250L2.EX</td>\n",
       "      <td>3725</td>\n",
       "      <td>EUX</td>\n",
       "      <td>2022-12-16</td>\n",
       "      <td>[.STOXX50E]</td>\n",
       "    </tr>\n",
       "  </tbody>\n",
       "</table>\n",
       "</div>"
      ],
      "text/plain": [
       "                                                                                                                DocumentTitle  \\\n",
       "84  Eurex Dow Jones EURO STOXX 50 Index Option 3725 Call Dec 2022 , Stock Index Cash Option, Call 3725 EUR 16-Dec-2022, Eurex   \n",
       "\n",
       "               RIC  StrikePrice ExchangeCode ExpiryDate UnderlyingQuoteRIC  \n",
       "84  STXE37250L2.EX         3725          EUX 2022-12-16        [.STOXX50E]  "
      ]
     },
     "metadata": {},
     "output_type": "display_data"
    },
    {
     "data": {
      "application/vnd.plotly.v1+json": {
       "config": {
        "plotlyServerURL": "https://plot.ly"
       },
       "data": [
        {
         "hovertemplate": "variable=ImpliedVolatility<br>index=%{x}<br>value=%{y}<extra></extra>",
         "legendgroup": "ImpliedVolatility",
         "line": {
          "color": "#636efa",
          "dash": "solid"
         },
         "marker": {
          "symbol": "circle"
         },
         "mode": "lines",
         "name": "ImpliedVolatility",
         "orientation": "v",
         "showlegend": true,
         "type": "scatter",
         "visible": true,
         "x": [
          "2022-11-07T09:20:00+01:00",
          "2022-11-07T10:00:00+01:00",
          "2022-11-07T10:30:00+01:00",
          "2022-11-07T13:50:00+01:00",
          "2022-11-07T14:00:00+01:00",
          "2022-11-07T15:30:00+01:00",
          "2022-11-07T15:40:00+01:00",
          "2022-11-07T17:20:00+01:00",
          "2022-11-08T13:50:00+01:00",
          "2022-11-08T14:20:00+01:00",
          "2022-11-08T14:30:00+01:00",
          "2022-11-08T15:30:00+01:00",
          "2022-11-08T15:50:00+01:00",
          "2022-11-08T17:20:00+01:00",
          "2022-11-09T09:10:00+01:00",
          "2022-11-09T13:50:00+01:00"
         ],
         "xaxis": "x",
         "y": [
          21.1344175395928,
          21.3811199586102,
          21.5478345625296,
          20.971160879066,
          21.5268106375339,
          21.1447861019913,
          21.1118539007853,
          20.7412992241995,
          20.3637331175275,
          20.660939488404,
          20.10815604244,
          20.6753209807901,
          20.451094464165,
          20.5620513764455,
          21.1184111257087,
          20.7433335486874
         ],
         "yaxis": "y"
        },
        {
         "hovertemplate": "variable=MarketValueInDealCcy<br>index=%{x}<br>value=%{y}<extra></extra>",
         "legendgroup": "MarketValueInDealCcy",
         "line": {
          "color": "#EF553B",
          "dash": "solid"
         },
         "marker": {
          "symbol": "circle"
         },
         "mode": "lines",
         "name": "MarketValueInDealCcy",
         "orientation": "v",
         "showlegend": true,
         "type": "scatter",
         "visible": "legendonly",
         "x": [
          "2022-11-07T09:20:00+01:00",
          "2022-11-07T10:00:00+01:00",
          "2022-11-07T10:30:00+01:00",
          "2022-11-07T13:50:00+01:00",
          "2022-11-07T14:00:00+01:00",
          "2022-11-07T15:30:00+01:00",
          "2022-11-07T15:40:00+01:00",
          "2022-11-07T17:20:00+01:00",
          "2022-11-08T13:50:00+01:00",
          "2022-11-08T14:20:00+01:00",
          "2022-11-08T14:30:00+01:00",
          "2022-11-08T15:30:00+01:00",
          "2022-11-08T15:50:00+01:00",
          "2022-11-08T17:20:00+01:00",
          "2022-11-09T09:10:00+01:00",
          "2022-11-09T13:50:00+01:00"
         ],
         "xaxis": "x",
         "y": [
          83.4,
          94.9,
          94.7,
          93.9,
          94.4,
          88.7,
          89.2,
          89.6,
          93.9,
          95.1,
          94.2,
          95.4,
          96.8,
          104,
          105.6,
          96.5
         ],
         "yaxis": "y"
        },
        {
         "hovertemplate": "variable=RiskFreeRatePercent<br>index=%{x}<br>value=%{y}<extra></extra>",
         "legendgroup": "RiskFreeRatePercent",
         "line": {
          "color": "#00cc96",
          "dash": "solid"
         },
         "marker": {
          "symbol": "circle"
         },
         "mode": "lines",
         "name": "RiskFreeRatePercent",
         "orientation": "v",
         "showlegend": true,
         "type": "scatter",
         "visible": "legendonly",
         "x": [
          "2022-11-07T09:20:00+01:00",
          "2022-11-07T10:00:00+01:00",
          "2022-11-07T10:30:00+01:00",
          "2022-11-07T13:50:00+01:00",
          "2022-11-07T14:00:00+01:00",
          "2022-11-07T15:30:00+01:00",
          "2022-11-07T15:40:00+01:00",
          "2022-11-07T17:20:00+01:00",
          "2022-11-08T13:50:00+01:00",
          "2022-11-08T14:20:00+01:00",
          "2022-11-08T14:30:00+01:00",
          "2022-11-08T15:30:00+01:00",
          "2022-11-08T15:50:00+01:00",
          "2022-11-08T17:20:00+01:00",
          "2022-11-09T09:10:00+01:00",
          "2022-11-09T13:50:00+01:00"
         ],
         "xaxis": "x",
         "y": [
          1.742,
          1.742,
          1.742,
          1.742,
          1.742,
          1.742,
          1.742,
          1.742,
          1.791,
          1.791,
          1.791,
          1.791,
          1.791,
          1.791,
          1.802,
          1.802
         ],
         "yaxis": "y"
        },
        {
         "hovertemplate": "variable=UnderlyingPrice<br>index=%{x}<br>value=%{y}<extra></extra>",
         "legendgroup": "UnderlyingPrice",
         "line": {
          "color": "#ab63fa",
          "dash": "solid"
         },
         "marker": {
          "symbol": "circle"
         },
         "mode": "lines",
         "name": "UnderlyingPrice",
         "orientation": "v",
         "showlegend": true,
         "type": "scatter",
         "visible": "legendonly",
         "x": [
          "2022-11-07T09:20:00+01:00",
          "2022-11-07T10:00:00+01:00",
          "2022-11-07T10:30:00+01:00",
          "2022-11-07T13:50:00+01:00",
          "2022-11-07T14:00:00+01:00",
          "2022-11-07T15:30:00+01:00",
          "2022-11-07T15:40:00+01:00",
          "2022-11-07T17:20:00+01:00",
          "2022-11-08T13:50:00+01:00",
          "2022-11-08T14:20:00+01:00",
          "2022-11-08T14:30:00+01:00",
          "2022-11-08T15:30:00+01:00",
          "2022-11-08T15:50:00+01:00",
          "2022-11-08T17:20:00+01:00",
          "2022-11-09T09:10:00+01:00",
          "2022-11-09T13:50:00+01:00"
         ],
         "xaxis": "x",
         "y": [
          3691.48,
          3713.2,
          3711.2,
          3715.08,
          3710.79,
          3702.71,
          3704.08,
          3708.52,
          3720.63,
          3720.23,
          3723.6,
          3720.69,
          3725.52,
          3738.28,
          3736.31,
          3722.19
         ],
         "yaxis": "y"
        },
        {
         "hovertemplate": "variable=DeltaPercent<br>index=%{x}<br>value=%{y}<extra></extra>",
         "legendgroup": "DeltaPercent",
         "line": {
          "color": "#FFA15A",
          "dash": "solid"
         },
         "marker": {
          "symbol": "circle"
         },
         "mode": "lines",
         "name": "DeltaPercent",
         "orientation": "v",
         "showlegend": true,
         "type": "scatter",
         "visible": "legendonly",
         "x": [
          "2022-11-07T09:20:00+01:00",
          "2022-11-07T10:00:00+01:00",
          "2022-11-07T10:30:00+01:00",
          "2022-11-07T13:50:00+01:00",
          "2022-11-07T14:00:00+01:00",
          "2022-11-07T15:30:00+01:00",
          "2022-11-07T15:40:00+01:00",
          "2022-11-07T17:20:00+01:00",
          "2022-11-08T13:50:00+01:00",
          "2022-11-08T14:20:00+01:00",
          "2022-11-08T14:30:00+01:00",
          "2022-11-08T15:30:00+01:00",
          "2022-11-08T15:50:00+01:00",
          "2022-11-08T17:20:00+01:00",
          "2022-11-09T09:10:00+01:00",
          "2022-11-09T13:50:00+01:00"
         ],
         "xaxis": "x",
         "y": [
          0.458655485129884,
          0.493682107559618,
          0.490807696780154,
          0.496070243981868,
          0.490131176582997,
          0.476597962703465,
          0.478709596439357,
          0.485089193979243,
          0.504666851848888,
          0.504309929480572,
          0.509373860685322,
          0.50507240765486,
          0.512783666202956,
          0.533607363689108,
          0.530347189530402,
          0.507634852418611
         ],
         "yaxis": "y"
        },
        {
         "hovertemplate": "variable=GammaPercent<br>index=%{x}<br>value=%{y}<extra></extra>",
         "legendgroup": "GammaPercent",
         "line": {
          "color": "#19d3f3",
          "dash": "solid"
         },
         "marker": {
          "symbol": "circle"
         },
         "mode": "lines",
         "name": "GammaPercent",
         "orientation": "v",
         "showlegend": true,
         "type": "scatter",
         "visible": "legendonly",
         "x": [
          "2022-11-07T09:20:00+01:00",
          "2022-11-07T10:00:00+01:00",
          "2022-11-07T10:30:00+01:00",
          "2022-11-07T13:50:00+01:00",
          "2022-11-07T14:00:00+01:00",
          "2022-11-07T15:30:00+01:00",
          "2022-11-07T15:40:00+01:00",
          "2022-11-07T17:20:00+01:00",
          "2022-11-08T13:50:00+01:00",
          "2022-11-08T14:20:00+01:00",
          "2022-11-08T14:30:00+01:00",
          "2022-11-08T15:30:00+01:00",
          "2022-11-08T15:50:00+01:00",
          "2022-11-08T17:20:00+01:00",
          "2022-11-09T09:10:00+01:00",
          "2022-11-09T13:50:00+01:00"
         ],
         "xaxis": "x",
         "y": [
          0.00159487972929516,
          0.00157523931429223,
          0.00156370000575889,
          0.00160532238166408,
          0.00156534252194306,
          0.00159495657414087,
          0.0015973104874468,
          0.00162502574001633,
          0.00165062699434189,
          0.00162707751552886,
          0.00166988017563769,
          0.0016257009393872,
          0.00164060907097198,
          0.00162103214026704,
          0.00158023153325579,
          0.00161952753833013
         ],
         "yaxis": "y"
        },
        {
         "hovertemplate": "variable=RhoPercent<br>index=%{x}<br>value=%{y}<extra></extra>",
         "legendgroup": "RhoPercent",
         "line": {
          "color": "#FF6692",
          "dash": "solid"
         },
         "marker": {
          "symbol": "circle"
         },
         "mode": "lines",
         "name": "RhoPercent",
         "orientation": "v",
         "showlegend": true,
         "type": "scatter",
         "visible": "legendonly",
         "x": [
          "2022-11-07T09:20:00+01:00",
          "2022-11-07T10:00:00+01:00",
          "2022-11-07T10:30:00+01:00",
          "2022-11-07T13:50:00+01:00",
          "2022-11-07T14:00:00+01:00",
          "2022-11-07T15:30:00+01:00",
          "2022-11-07T15:40:00+01:00",
          "2022-11-07T17:20:00+01:00",
          "2022-11-08T13:50:00+01:00",
          "2022-11-08T14:20:00+01:00",
          "2022-11-08T14:30:00+01:00",
          "2022-11-08T15:30:00+01:00",
          "2022-11-08T15:50:00+01:00",
          "2022-11-08T17:20:00+01:00",
          "2022-11-09T09:10:00+01:00",
          "2022-11-09T13:50:00+01:00"
         ],
         "xaxis": "x",
         "y": [
          1.63176847559312,
          1.76205191414367,
          1.75044012051367,
          1.77300010286164,
          1.74799542859834,
          1.6989630019678,
          1.70704684255415,
          1.73277890885667,
          1.80821395267938,
          1.80544685948509,
          1.82719635021838,
          1.80825371748445,
          1.83842944526466,
          1.9166747456075,
          1.90163933658713,
          1.81757519832847
         ],
         "yaxis": "y"
        },
        {
         "hovertemplate": "variable=ThetaPercent<br>index=%{x}<br>value=%{y}<extra></extra>",
         "legendgroup": "ThetaPercent",
         "line": {
          "color": "#B6E880",
          "dash": "solid"
         },
         "marker": {
          "symbol": "circle"
         },
         "mode": "lines",
         "name": "ThetaPercent",
         "orientation": "v",
         "showlegend": true,
         "type": "scatter",
         "visible": "legendonly",
         "x": [
          "2022-11-07T09:20:00+01:00",
          "2022-11-07T10:00:00+01:00",
          "2022-11-07T10:30:00+01:00",
          "2022-11-07T13:50:00+01:00",
          "2022-11-07T14:00:00+01:00",
          "2022-11-07T15:30:00+01:00",
          "2022-11-07T15:40:00+01:00",
          "2022-11-07T17:20:00+01:00",
          "2022-11-08T13:50:00+01:00",
          "2022-11-08T14:20:00+01:00",
          "2022-11-08T14:30:00+01:00",
          "2022-11-08T15:30:00+01:00",
          "2022-11-08T15:50:00+01:00",
          "2022-11-08T17:20:00+01:00",
          "2022-11-09T09:10:00+01:00",
          "2022-11-09T13:50:00+01:00"
         ],
         "xaxis": "x",
         "y": [
          -1.32270076035177,
          -1.35222733736003,
          -1.36195551144432,
          -1.32693753558511,
          -1.36043670367019,
          -1.33179741794921,
          -1.33054950708475,
          -1.30948425942337,
          -1.29240958559977,
          -1.31117059796706,
          -1.27681516811545,
          -1.31219838156384,
          -1.2988886898907,
          -1.30589187415138,
          -1.34208208975392,
          -1.31738306837897
         ],
         "yaxis": "y"
        },
        {
         "hovertemplate": "variable=VegaPercent<br>index=%{x}<br>value=%{y}<extra></extra>",
         "legendgroup": "VegaPercent",
         "line": {
          "color": "#FF97FF",
          "dash": "solid"
         },
         "marker": {
          "symbol": "circle"
         },
         "mode": "lines",
         "name": "VegaPercent",
         "orientation": "v",
         "showlegend": true,
         "type": "scatter",
         "visible": "legendonly",
         "x": [
          "2022-11-07T09:20:00+01:00",
          "2022-11-07T10:00:00+01:00",
          "2022-11-07T10:30:00+01:00",
          "2022-11-07T13:50:00+01:00",
          "2022-11-07T14:00:00+01:00",
          "2022-11-07T15:30:00+01:00",
          "2022-11-07T15:40:00+01:00",
          "2022-11-07T17:20:00+01:00",
          "2022-11-08T13:50:00+01:00",
          "2022-11-08T14:20:00+01:00",
          "2022-11-08T14:30:00+01:00",
          "2022-11-08T15:30:00+01:00",
          "2022-11-08T15:50:00+01:00",
          "2022-11-08T17:20:00+01:00",
          "2022-11-09T09:10:00+01:00",
          "2022-11-09T13:50:00+01:00"
         ],
         "xaxis": "x",
         "y": [
          4.65616241387738,
          4.70741552758503,
          4.70429609364127,
          4.71009788536378,
          4.70360331878611,
          4.68705896198673,
          4.69013442558387,
          4.69900938038179,
          4.71680765405203,
          4.71635785811587,
          4.71946161911277,
          4.71681400117168,
          4.72067738273475,
          4.72183252926931,
          4.72255069144279,
          4.71816172902271
         ],
         "yaxis": "y"
        }
       ],
       "layout": {
        "autosize": true,
        "template": {
         "data": {
          "bar": [
           {
            "error_x": {
             "color": "#f2f5fa"
            },
            "error_y": {
             "color": "#f2f5fa"
            },
            "marker": {
             "line": {
              "color": "rgb(17,17,17)",
              "width": 0.5
             },
             "pattern": {
              "fillmode": "overlay",
              "size": 10,
              "solidity": 0.2
             }
            },
            "type": "bar"
           }
          ],
          "barpolar": [
           {
            "marker": {
             "line": {
              "color": "rgb(17,17,17)",
              "width": 0.5
             },
             "pattern": {
              "fillmode": "overlay",
              "size": 10,
              "solidity": 0.2
             }
            },
            "type": "barpolar"
           }
          ],
          "carpet": [
           {
            "aaxis": {
             "endlinecolor": "#A2B1C6",
             "gridcolor": "#506784",
             "linecolor": "#506784",
             "minorgridcolor": "#506784",
             "startlinecolor": "#A2B1C6"
            },
            "baxis": {
             "endlinecolor": "#A2B1C6",
             "gridcolor": "#506784",
             "linecolor": "#506784",
             "minorgridcolor": "#506784",
             "startlinecolor": "#A2B1C6"
            },
            "type": "carpet"
           }
          ],
          "choropleth": [
           {
            "colorbar": {
             "outlinewidth": 0,
             "ticks": ""
            },
            "type": "choropleth"
           }
          ],
          "contour": [
           {
            "colorbar": {
             "outlinewidth": 0,
             "ticks": ""
            },
            "colorscale": [
             [
              0,
              "#0d0887"
             ],
             [
              0.1111111111111111,
              "#46039f"
             ],
             [
              0.2222222222222222,
              "#7201a8"
             ],
             [
              0.3333333333333333,
              "#9c179e"
             ],
             [
              0.4444444444444444,
              "#bd3786"
             ],
             [
              0.5555555555555556,
              "#d8576b"
             ],
             [
              0.6666666666666666,
              "#ed7953"
             ],
             [
              0.7777777777777778,
              "#fb9f3a"
             ],
             [
              0.8888888888888888,
              "#fdca26"
             ],
             [
              1,
              "#f0f921"
             ]
            ],
            "type": "contour"
           }
          ],
          "contourcarpet": [
           {
            "colorbar": {
             "outlinewidth": 0,
             "ticks": ""
            },
            "type": "contourcarpet"
           }
          ],
          "heatmap": [
           {
            "colorbar": {
             "outlinewidth": 0,
             "ticks": ""
            },
            "colorscale": [
             [
              0,
              "#0d0887"
             ],
             [
              0.1111111111111111,
              "#46039f"
             ],
             [
              0.2222222222222222,
              "#7201a8"
             ],
             [
              0.3333333333333333,
              "#9c179e"
             ],
             [
              0.4444444444444444,
              "#bd3786"
             ],
             [
              0.5555555555555556,
              "#d8576b"
             ],
             [
              0.6666666666666666,
              "#ed7953"
             ],
             [
              0.7777777777777778,
              "#fb9f3a"
             ],
             [
              0.8888888888888888,
              "#fdca26"
             ],
             [
              1,
              "#f0f921"
             ]
            ],
            "type": "heatmap"
           }
          ],
          "heatmapgl": [
           {
            "colorbar": {
             "outlinewidth": 0,
             "ticks": ""
            },
            "colorscale": [
             [
              0,
              "#0d0887"
             ],
             [
              0.1111111111111111,
              "#46039f"
             ],
             [
              0.2222222222222222,
              "#7201a8"
             ],
             [
              0.3333333333333333,
              "#9c179e"
             ],
             [
              0.4444444444444444,
              "#bd3786"
             ],
             [
              0.5555555555555556,
              "#d8576b"
             ],
             [
              0.6666666666666666,
              "#ed7953"
             ],
             [
              0.7777777777777778,
              "#fb9f3a"
             ],
             [
              0.8888888888888888,
              "#fdca26"
             ],
             [
              1,
              "#f0f921"
             ]
            ],
            "type": "heatmapgl"
           }
          ],
          "histogram": [
           {
            "marker": {
             "pattern": {
              "fillmode": "overlay",
              "size": 10,
              "solidity": 0.2
             }
            },
            "type": "histogram"
           }
          ],
          "histogram2d": [
           {
            "colorbar": {
             "outlinewidth": 0,
             "ticks": ""
            },
            "colorscale": [
             [
              0,
              "#0d0887"
             ],
             [
              0.1111111111111111,
              "#46039f"
             ],
             [
              0.2222222222222222,
              "#7201a8"
             ],
             [
              0.3333333333333333,
              "#9c179e"
             ],
             [
              0.4444444444444444,
              "#bd3786"
             ],
             [
              0.5555555555555556,
              "#d8576b"
             ],
             [
              0.6666666666666666,
              "#ed7953"
             ],
             [
              0.7777777777777778,
              "#fb9f3a"
             ],
             [
              0.8888888888888888,
              "#fdca26"
             ],
             [
              1,
              "#f0f921"
             ]
            ],
            "type": "histogram2d"
           }
          ],
          "histogram2dcontour": [
           {
            "colorbar": {
             "outlinewidth": 0,
             "ticks": ""
            },
            "colorscale": [
             [
              0,
              "#0d0887"
             ],
             [
              0.1111111111111111,
              "#46039f"
             ],
             [
              0.2222222222222222,
              "#7201a8"
             ],
             [
              0.3333333333333333,
              "#9c179e"
             ],
             [
              0.4444444444444444,
              "#bd3786"
             ],
             [
              0.5555555555555556,
              "#d8576b"
             ],
             [
              0.6666666666666666,
              "#ed7953"
             ],
             [
              0.7777777777777778,
              "#fb9f3a"
             ],
             [
              0.8888888888888888,
              "#fdca26"
             ],
             [
              1,
              "#f0f921"
             ]
            ],
            "type": "histogram2dcontour"
           }
          ],
          "mesh3d": [
           {
            "colorbar": {
             "outlinewidth": 0,
             "ticks": ""
            },
            "type": "mesh3d"
           }
          ],
          "parcoords": [
           {
            "line": {
             "colorbar": {
              "outlinewidth": 0,
              "ticks": ""
             }
            },
            "type": "parcoords"
           }
          ],
          "pie": [
           {
            "automargin": true,
            "type": "pie"
           }
          ],
          "scatter": [
           {
            "marker": {
             "line": {
              "color": "#283442"
             }
            },
            "type": "scatter"
           }
          ],
          "scatter3d": [
           {
            "line": {
             "colorbar": {
              "outlinewidth": 0,
              "ticks": ""
             }
            },
            "marker": {
             "colorbar": {
              "outlinewidth": 0,
              "ticks": ""
             }
            },
            "type": "scatter3d"
           }
          ],
          "scattercarpet": [
           {
            "marker": {
             "colorbar": {
              "outlinewidth": 0,
              "ticks": ""
             }
            },
            "type": "scattercarpet"
           }
          ],
          "scattergeo": [
           {
            "marker": {
             "colorbar": {
              "outlinewidth": 0,
              "ticks": ""
             }
            },
            "type": "scattergeo"
           }
          ],
          "scattergl": [
           {
            "marker": {
             "line": {
              "color": "#283442"
             }
            },
            "type": "scattergl"
           }
          ],
          "scattermapbox": [
           {
            "marker": {
             "colorbar": {
              "outlinewidth": 0,
              "ticks": ""
             }
            },
            "type": "scattermapbox"
           }
          ],
          "scatterpolar": [
           {
            "marker": {
             "colorbar": {
              "outlinewidth": 0,
              "ticks": ""
             }
            },
            "type": "scatterpolar"
           }
          ],
          "scatterpolargl": [
           {
            "marker": {
             "colorbar": {
              "outlinewidth": 0,
              "ticks": ""
             }
            },
            "type": "scatterpolargl"
           }
          ],
          "scatterternary": [
           {
            "marker": {
             "colorbar": {
              "outlinewidth": 0,
              "ticks": ""
             }
            },
            "type": "scatterternary"
           }
          ],
          "surface": [
           {
            "colorbar": {
             "outlinewidth": 0,
             "ticks": ""
            },
            "colorscale": [
             [
              0,
              "#0d0887"
             ],
             [
              0.1111111111111111,
              "#46039f"
             ],
             [
              0.2222222222222222,
              "#7201a8"
             ],
             [
              0.3333333333333333,
              "#9c179e"
             ],
             [
              0.4444444444444444,
              "#bd3786"
             ],
             [
              0.5555555555555556,
              "#d8576b"
             ],
             [
              0.6666666666666666,
              "#ed7953"
             ],
             [
              0.7777777777777778,
              "#fb9f3a"
             ],
             [
              0.8888888888888888,
              "#fdca26"
             ],
             [
              1,
              "#f0f921"
             ]
            ],
            "type": "surface"
           }
          ],
          "table": [
           {
            "cells": {
             "fill": {
              "color": "#506784"
             },
             "line": {
              "color": "rgb(17,17,17)"
             }
            },
            "header": {
             "fill": {
              "color": "#2a3f5f"
             },
             "line": {
              "color": "rgb(17,17,17)"
             }
            },
            "type": "table"
           }
          ]
         },
         "layout": {
          "annotationdefaults": {
           "arrowcolor": "#f2f5fa",
           "arrowhead": 0,
           "arrowwidth": 1
          },
          "autotypenumbers": "strict",
          "coloraxis": {
           "colorbar": {
            "outlinewidth": 0,
            "ticks": ""
           }
          },
          "colorscale": {
           "diverging": [
            [
             0,
             "#8e0152"
            ],
            [
             0.1,
             "#c51b7d"
            ],
            [
             0.2,
             "#de77ae"
            ],
            [
             0.3,
             "#f1b6da"
            ],
            [
             0.4,
             "#fde0ef"
            ],
            [
             0.5,
             "#f7f7f7"
            ],
            [
             0.6,
             "#e6f5d0"
            ],
            [
             0.7,
             "#b8e186"
            ],
            [
             0.8,
             "#7fbc41"
            ],
            [
             0.9,
             "#4d9221"
            ],
            [
             1,
             "#276419"
            ]
           ],
           "sequential": [
            [
             0,
             "#0d0887"
            ],
            [
             0.1111111111111111,
             "#46039f"
            ],
            [
             0.2222222222222222,
             "#7201a8"
            ],
            [
             0.3333333333333333,
             "#9c179e"
            ],
            [
             0.4444444444444444,
             "#bd3786"
            ],
            [
             0.5555555555555556,
             "#d8576b"
            ],
            [
             0.6666666666666666,
             "#ed7953"
            ],
            [
             0.7777777777777778,
             "#fb9f3a"
            ],
            [
             0.8888888888888888,
             "#fdca26"
            ],
            [
             1,
             "#f0f921"
            ]
           ],
           "sequentialminus": [
            [
             0,
             "#0d0887"
            ],
            [
             0.1111111111111111,
             "#46039f"
            ],
            [
             0.2222222222222222,
             "#7201a8"
            ],
            [
             0.3333333333333333,
             "#9c179e"
            ],
            [
             0.4444444444444444,
             "#bd3786"
            ],
            [
             0.5555555555555556,
             "#d8576b"
            ],
            [
             0.6666666666666666,
             "#ed7953"
            ],
            [
             0.7777777777777778,
             "#fb9f3a"
            ],
            [
             0.8888888888888888,
             "#fdca26"
            ],
            [
             1,
             "#f0f921"
            ]
           ]
          },
          "colorway": [
           "#636efa",
           "#EF553B",
           "#00cc96",
           "#ab63fa",
           "#FFA15A",
           "#19d3f3",
           "#FF6692",
           "#B6E880",
           "#FF97FF",
           "#FECB52"
          ],
          "font": {
           "color": "#f2f5fa"
          },
          "geo": {
           "bgcolor": "rgb(17,17,17)",
           "lakecolor": "rgb(17,17,17)",
           "landcolor": "rgb(17,17,17)",
           "showlakes": true,
           "showland": true,
           "subunitcolor": "#506784"
          },
          "hoverlabel": {
           "align": "left"
          },
          "hovermode": "closest",
          "mapbox": {
           "style": "dark"
          },
          "paper_bgcolor": "rgb(17,17,17)",
          "plot_bgcolor": "rgb(17,17,17)",
          "polar": {
           "angularaxis": {
            "gridcolor": "#506784",
            "linecolor": "#506784",
            "ticks": ""
           },
           "bgcolor": "rgb(17,17,17)",
           "radialaxis": {
            "gridcolor": "#506784",
            "linecolor": "#506784",
            "ticks": ""
           }
          },
          "scene": {
           "xaxis": {
            "backgroundcolor": "rgb(17,17,17)",
            "gridcolor": "#506784",
            "gridwidth": 2,
            "linecolor": "#506784",
            "showbackground": true,
            "ticks": "",
            "zerolinecolor": "#C8D4E3"
           },
           "yaxis": {
            "backgroundcolor": "rgb(17,17,17)",
            "gridcolor": "#506784",
            "gridwidth": 2,
            "linecolor": "#506784",
            "showbackground": true,
            "ticks": "",
            "zerolinecolor": "#C8D4E3"
           },
           "zaxis": {
            "backgroundcolor": "rgb(17,17,17)",
            "gridcolor": "#506784",
            "gridwidth": 2,
            "linecolor": "#506784",
            "showbackground": true,
            "ticks": "",
            "zerolinecolor": "#C8D4E3"
           }
          },
          "shapedefaults": {
           "line": {
            "color": "#f2f5fa"
           }
          },
          "sliderdefaults": {
           "bgcolor": "#C8D4E3",
           "bordercolor": "rgb(17,17,17)",
           "borderwidth": 1,
           "tickwidth": 0
          },
          "ternary": {
           "aaxis": {
            "gridcolor": "#506784",
            "linecolor": "#506784",
            "ticks": ""
           },
           "baxis": {
            "gridcolor": "#506784",
            "linecolor": "#506784",
            "ticks": ""
           },
           "bgcolor": "rgb(17,17,17)",
           "caxis": {
            "gridcolor": "#506784",
            "linecolor": "#506784",
            "ticks": ""
           }
          },
          "title": {
           "x": 0.05
          },
          "updatemenudefaults": {
           "bgcolor": "#506784",
           "borderwidth": 0
          },
          "xaxis": {
           "automargin": true,
           "gridcolor": "#283442",
           "linecolor": "#506784",
           "ticks": "",
           "title": {
            "standoff": 15
           },
           "zerolinecolor": "#283442",
           "zerolinewidth": 2
          },
          "yaxis": {
           "automargin": true,
           "gridcolor": "#283442",
           "linecolor": "#506784",
           "ticks": "",
           "title": {
            "standoff": 15
           },
           "zerolinecolor": "#283442",
           "zerolinewidth": 2
          }
         }
        },
        "title": {
         "text": "STXE37250L2.EX"
        },
        "xaxis": {
         "autorange": true,
         "range": [
          0,
          15
         ],
         "tickmode": "array",
         "ticktext": [
          "2022-11-07T09:20:00+01:00"
         ],
         "tickvals": [
          0
         ],
         "type": "category"
        },
        "yaxis": {
         "autorange": true,
         "range": [
          20.02817390243502,
          21.62781670253458
         ],
         "type": "linear"
        }
       }
      },
      "image/png": "[encoded data removed]",
      "text/html": [
       "<div>                            <div id=\"5427ef02-b6a7-432f-9233-5b3a89f82fc0\" class=\"plotly-graph-div\" style=\"height:525px; width:100%;\"></div>            <script type=\"text/javascript\">                require([\"plotly\"], function(Plotly) {                    window.PLOTLYENV=window.PLOTLYENV || {};                                    if (document.getElementById(\"5427ef02-b6a7-432f-9233-5b3a89f82fc0\")) {                    Plotly.newPlot(                        \"5427ef02-b6a7-432f-9233-5b3a89f82fc0\",                        [{\"hovertemplate\":\"variable=ImpliedVolatility<br>index=%{x}<br>value=%{y}<extra></extra>\",\"legendgroup\":\"ImpliedVolatility\",\"line\":{\"color\":\"#636efa\",\"dash\":\"solid\"},\"marker\":{\"symbol\":\"circle\"},\"mode\":\"lines\",\"name\":\"ImpliedVolatility\",\"orientation\":\"v\",\"showlegend\":true,\"x\":[\"2022-11-07T09:20:00+01:00\",\"2022-11-07T10:00:00+01:00\",\"2022-11-07T10:30:00+01:00\",\"2022-11-07T13:50:00+01:00\",\"2022-11-07T14:00:00+01:00\",\"2022-11-07T15:30:00+01:00\",\"2022-11-07T15:40:00+01:00\",\"2022-11-07T17:20:00+01:00\",\"2022-11-08T13:50:00+01:00\",\"2022-11-08T14:20:00+01:00\",\"2022-11-08T14:30:00+01:00\",\"2022-11-08T15:30:00+01:00\",\"2022-11-08T15:50:00+01:00\",\"2022-11-08T17:20:00+01:00\",\"2022-11-09T09:10:00+01:00\",\"2022-11-09T13:50:00+01:00\"],\"xaxis\":\"x\",\"y\":[21.1344175395928,21.3811199586102,21.5478345625296,20.971160879066,21.5268106375339,21.1447861019913,21.1118539007853,20.7412992241995,20.3637331175275,20.660939488404,20.10815604244,20.6753209807901,20.451094464165,20.5620513764455,21.1184111257087,20.7433335486874],\"yaxis\":\"y\",\"type\":\"scatter\",\"visible\":true},{\"hovertemplate\":\"variable=MarketValueInDealCcy<br>index=%{x}<br>value=%{y}<extra></extra>\",\"legendgroup\":\"MarketValueInDealCcy\",\"line\":{\"color\":\"#EF553B\",\"dash\":\"solid\"},\"marker\":{\"symbol\":\"circle\"},\"mode\":\"lines\",\"name\":\"MarketValueInDealCcy\",\"orientation\":\"v\",\"showlegend\":true,\"x\":[\"2022-11-07T09:20:00+01:00\",\"2022-11-07T10:00:00+01:00\",\"2022-11-07T10:30:00+01:00\",\"2022-11-07T13:50:00+01:00\",\"2022-11-07T14:00:00+01:00\",\"2022-11-07T15:30:00+01:00\",\"2022-11-07T15:40:00+01:00\",\"2022-11-07T17:20:00+01:00\",\"2022-11-08T13:50:00+01:00\",\"2022-11-08T14:20:00+01:00\",\"2022-11-08T14:30:00+01:00\",\"2022-11-08T15:30:00+01:00\",\"2022-11-08T15:50:00+01:00\",\"2022-11-08T17:20:00+01:00\",\"2022-11-09T09:10:00+01:00\",\"2022-11-09T13:50:00+01:00\"],\"xaxis\":\"x\",\"y\":[83.4,94.9,94.7,93.9,94.4,88.7,89.2,89.6,93.9,95.1,94.2,95.4,96.8,104.0,105.6,96.5],\"yaxis\":\"y\",\"type\":\"scatter\",\"visible\":\"legendonly\"},{\"hovertemplate\":\"variable=RiskFreeRatePercent<br>index=%{x}<br>value=%{y}<extra></extra>\",\"legendgroup\":\"RiskFreeRatePercent\",\"line\":{\"color\":\"#00cc96\",\"dash\":\"solid\"},\"marker\":{\"symbol\":\"circle\"},\"mode\":\"lines\",\"name\":\"RiskFreeRatePercent\",\"orientation\":\"v\",\"showlegend\":true,\"x\":[\"2022-11-07T09:20:00+01:00\",\"2022-11-07T10:00:00+01:00\",\"2022-11-07T10:30:00+01:00\",\"2022-11-07T13:50:00+01:00\",\"2022-11-07T14:00:00+01:00\",\"2022-11-07T15:30:00+01:00\",\"2022-11-07T15:40:00+01:00\",\"2022-11-07T17:20:00+01:00\",\"2022-11-08T13:50:00+01:00\",\"2022-11-08T14:20:00+01:00\",\"2022-11-08T14:30:00+01:00\",\"2022-11-08T15:30:00+01:00\",\"2022-11-08T15:50:00+01:00\",\"2022-11-08T17:20:00+01:00\",\"2022-11-09T09:10:00+01:00\",\"2022-11-09T13:50:00+01:00\"],\"xaxis\":\"x\",\"y\":[1.742,1.742,1.742,1.742,1.742,1.742,1.742,1.742,1.791,1.791,1.791,1.791,1.791,1.791,1.802,1.802],\"yaxis\":\"y\",\"type\":\"scatter\",\"visible\":\"legendonly\"},{\"hovertemplate\":\"variable=UnderlyingPrice<br>index=%{x}<br>value=%{y}<extra></extra>\",\"legendgroup\":\"UnderlyingPrice\",\"line\":{\"color\":\"#ab63fa\",\"dash\":\"solid\"},\"marker\":{\"symbol\":\"circle\"},\"mode\":\"lines\",\"name\":\"UnderlyingPrice\",\"orientation\":\"v\",\"showlegend\":true,\"x\":[\"2022-11-07T09:20:00+01:00\",\"2022-11-07T10:00:00+01:00\",\"2022-11-07T10:30:00+01:00\",\"2022-11-07T13:50:00+01:00\",\"2022-11-07T14:00:00+01:00\",\"2022-11-07T15:30:00+01:00\",\"2022-11-07T15:40:00+01:00\",\"2022-11-07T17:20:00+01:00\",\"2022-11-08T13:50:00+01:00\",\"2022-11-08T14:20:00+01:00\",\"2022-11-08T14:30:00+01:00\",\"2022-11-08T15:30:00+01:00\",\"2022-11-08T15:50:00+01:00\",\"2022-11-08T17:20:00+01:00\",\"2022-11-09T09:10:00+01:00\",\"2022-11-09T13:50:00+01:00\"],\"xaxis\":\"x\",\"y\":[3691.48,3713.2,3711.2,3715.08,3710.79,3702.71,3704.08,3708.52,3720.63,3720.23,3723.6,3720.69,3725.52,3738.28,3736.31,3722.19],\"yaxis\":\"y\",\"type\":\"scatter\",\"visible\":\"legendonly\"},{\"hovertemplate\":\"variable=DeltaPercent<br>index=%{x}<br>value=%{y}<extra></extra>\",\"legendgroup\":\"DeltaPercent\",\"line\":{\"color\":\"#FFA15A\",\"dash\":\"solid\"},\"marker\":{\"symbol\":\"circle\"},\"mode\":\"lines\",\"name\":\"DeltaPercent\",\"orientation\":\"v\",\"showlegend\":true,\"x\":[\"2022-11-07T09:20:00+01:00\",\"2022-11-07T10:00:00+01:00\",\"2022-11-07T10:30:00+01:00\",\"2022-11-07T13:50:00+01:00\",\"2022-11-07T14:00:00+01:00\",\"2022-11-07T15:30:00+01:00\",\"2022-11-07T15:40:00+01:00\",\"2022-11-07T17:20:00+01:00\",\"2022-11-08T13:50:00+01:00\",\"2022-11-08T14:20:00+01:00\",\"2022-11-08T14:30:00+01:00\",\"2022-11-08T15:30:00+01:00\",\"2022-11-08T15:50:00+01:00\",\"2022-11-08T17:20:00+01:00\",\"2022-11-09T09:10:00+01:00\",\"2022-11-09T13:50:00+01:00\"],\"xaxis\":\"x\",\"y\":[0.458655485129884,0.493682107559618,0.490807696780154,0.496070243981868,0.490131176582997,0.476597962703465,0.478709596439357,0.485089193979243,0.504666851848888,0.504309929480572,0.509373860685322,0.50507240765486,0.512783666202956,0.533607363689108,0.530347189530402,0.507634852418611],\"yaxis\":\"y\",\"type\":\"scatter\",\"visible\":\"legendonly\"},{\"hovertemplate\":\"variable=GammaPercent<br>index=%{x}<br>value=%{y}<extra></extra>\",\"legendgroup\":\"GammaPercent\",\"line\":{\"color\":\"#19d3f3\",\"dash\":\"solid\"},\"marker\":{\"symbol\":\"circle\"},\"mode\":\"lines\",\"name\":\"GammaPercent\",\"orientation\":\"v\",\"showlegend\":true,\"x\":[\"2022-11-07T09:20:00+01:00\",\"2022-11-07T10:00:00+01:00\",\"2022-11-07T10:30:00+01:00\",\"2022-11-07T13:50:00+01:00\",\"2022-11-07T14:00:00+01:00\",\"2022-11-07T15:30:00+01:00\",\"2022-11-07T15:40:00+01:00\",\"2022-11-07T17:20:00+01:00\",\"2022-11-08T13:50:00+01:00\",\"2022-11-08T14:20:00+01:00\",\"2022-11-08T14:30:00+01:00\",\"2022-11-08T15:30:00+01:00\",\"2022-11-08T15:50:00+01:00\",\"2022-11-08T17:20:00+01:00\",\"2022-11-09T09:10:00+01:00\",\"2022-11-09T13:50:00+01:00\"],\"xaxis\":\"x\",\"y\":[0.00159487972929516,0.00157523931429223,0.00156370000575889,0.00160532238166408,0.00156534252194306,0.00159495657414087,0.0015973104874468,0.00162502574001633,0.00165062699434189,0.00162707751552886,0.00166988017563769,0.0016257009393872,0.00164060907097198,0.00162103214026704,0.00158023153325579,0.00161952753833013],\"yaxis\":\"y\",\"type\":\"scatter\",\"visible\":\"legendonly\"},{\"hovertemplate\":\"variable=RhoPercent<br>index=%{x}<br>value=%{y}<extra></extra>\",\"legendgroup\":\"RhoPercent\",\"line\":{\"color\":\"#FF6692\",\"dash\":\"solid\"},\"marker\":{\"symbol\":\"circle\"},\"mode\":\"lines\",\"name\":\"RhoPercent\",\"orientation\":\"v\",\"showlegend\":true,\"x\":[\"2022-11-07T09:20:00+01:00\",\"2022-11-07T10:00:00+01:00\",\"2022-11-07T10:30:00+01:00\",\"2022-11-07T13:50:00+01:00\",\"2022-11-07T14:00:00+01:00\",\"2022-11-07T15:30:00+01:00\",\"2022-11-07T15:40:00+01:00\",\"2022-11-07T17:20:00+01:00\",\"2022-11-08T13:50:00+01:00\",\"2022-11-08T14:20:00+01:00\",\"2022-11-08T14:30:00+01:00\",\"2022-11-08T15:30:00+01:00\",\"2022-11-08T15:50:00+01:00\",\"2022-11-08T17:20:00+01:00\",\"2022-11-09T09:10:00+01:00\",\"2022-11-09T13:50:00+01:00\"],\"xaxis\":\"x\",\"y\":[1.63176847559312,1.76205191414367,1.75044012051367,1.77300010286164,1.74799542859834,1.6989630019678,1.70704684255415,1.73277890885667,1.80821395267938,1.80544685948509,1.82719635021838,1.80825371748445,1.83842944526466,1.9166747456075,1.90163933658713,1.81757519832847],\"yaxis\":\"y\",\"type\":\"scatter\",\"visible\":\"legendonly\"},{\"hovertemplate\":\"variable=ThetaPercent<br>index=%{x}<br>value=%{y}<extra></extra>\",\"legendgroup\":\"ThetaPercent\",\"line\":{\"color\":\"#B6E880\",\"dash\":\"solid\"},\"marker\":{\"symbol\":\"circle\"},\"mode\":\"lines\",\"name\":\"ThetaPercent\",\"orientation\":\"v\",\"showlegend\":true,\"x\":[\"2022-11-07T09:20:00+01:00\",\"2022-11-07T10:00:00+01:00\",\"2022-11-07T10:30:00+01:00\",\"2022-11-07T13:50:00+01:00\",\"2022-11-07T14:00:00+01:00\",\"2022-11-07T15:30:00+01:00\",\"2022-11-07T15:40:00+01:00\",\"2022-11-07T17:20:00+01:00\",\"2022-11-08T13:50:00+01:00\",\"2022-11-08T14:20:00+01:00\",\"2022-11-08T14:30:00+01:00\",\"2022-11-08T15:30:00+01:00\",\"2022-11-08T15:50:00+01:00\",\"2022-11-08T17:20:00+01:00\",\"2022-11-09T09:10:00+01:00\",\"2022-11-09T13:50:00+01:00\"],\"xaxis\":\"x\",\"y\":[-1.32270076035177,-1.35222733736003,-1.36195551144432,-1.32693753558511,-1.36043670367019,-1.33179741794921,-1.33054950708475,-1.30948425942337,-1.29240958559977,-1.31117059796706,-1.27681516811545,-1.31219838156384,-1.2988886898907,-1.30589187415138,-1.34208208975392,-1.31738306837897],\"yaxis\":\"y\",\"type\":\"scatter\",\"visible\":\"legendonly\"},{\"hovertemplate\":\"variable=VegaPercent<br>index=%{x}<br>value=%{y}<extra></extra>\",\"legendgroup\":\"VegaPercent\",\"line\":{\"color\":\"#FF97FF\",\"dash\":\"solid\"},\"marker\":{\"symbol\":\"circle\"},\"mode\":\"lines\",\"name\":\"VegaPercent\",\"orientation\":\"v\",\"showlegend\":true,\"x\":[\"2022-11-07T09:20:00+01:00\",\"2022-11-07T10:00:00+01:00\",\"2022-11-07T10:30:00+01:00\",\"2022-11-07T13:50:00+01:00\",\"2022-11-07T14:00:00+01:00\",\"2022-11-07T15:30:00+01:00\",\"2022-11-07T15:40:00+01:00\",\"2022-11-07T17:20:00+01:00\",\"2022-11-08T13:50:00+01:00\",\"2022-11-08T14:20:00+01:00\",\"2022-11-08T14:30:00+01:00\",\"2022-11-08T15:30:00+01:00\",\"2022-11-08T15:50:00+01:00\",\"2022-11-08T17:20:00+01:00\",\"2022-11-09T09:10:00+01:00\",\"2022-11-09T13:50:00+01:00\"],\"xaxis\":\"x\",\"y\":[4.65616241387738,4.70741552758503,4.70429609364127,4.71009788536378,4.70360331878611,4.68705896198673,4.69013442558387,4.69900938038179,4.71680765405203,4.71635785811587,4.71946161911277,4.71681400117168,4.72067738273475,4.72183252926931,4.72255069144279,4.71816172902271],\"yaxis\":\"y\",\"type\":\"scatter\",\"visible\":\"legendonly\"}],                        {\"xaxis\":{\"type\":\"category\",\"tickmode\":\"array\",\"tickvals\":[0],\"ticktext\":[\"2022-11-07T09:20:00+01:00\"]},\"template\":{\"data\":{\"barpolar\":[{\"marker\":{\"line\":{\"color\":\"rgb(17,17,17)\",\"width\":0.5},\"pattern\":{\"fillmode\":\"overlay\",\"size\":10,\"solidity\":0.2}},\"type\":\"barpolar\"}],\"bar\":[{\"error_x\":{\"color\":\"#f2f5fa\"},\"error_y\":{\"color\":\"#f2f5fa\"},\"marker\":{\"line\":{\"color\":\"rgb(17,17,17)\",\"width\":0.5},\"pattern\":{\"fillmode\":\"overlay\",\"size\":10,\"solidity\":0.2}},\"type\":\"bar\"}],\"carpet\":[{\"aaxis\":{\"endlinecolor\":\"#A2B1C6\",\"gridcolor\":\"#506784\",\"linecolor\":\"#506784\",\"minorgridcolor\":\"#506784\",\"startlinecolor\":\"#A2B1C6\"},\"baxis\":{\"endlinecolor\":\"#A2B1C6\",\"gridcolor\":\"#506784\",\"linecolor\":\"#506784\",\"minorgridcolor\":\"#506784\",\"startlinecolor\":\"#A2B1C6\"},\"type\":\"carpet\"}],\"choropleth\":[{\"colorbar\":{\"outlinewidth\":0,\"ticks\":\"\"},\"type\":\"choropleth\"}],\"contourcarpet\":[{\"colorbar\":{\"outlinewidth\":0,\"ticks\":\"\"},\"type\":\"contourcarpet\"}],\"contour\":[{\"colorbar\":{\"outlinewidth\":0,\"ticks\":\"\"},\"colorscale\":[[0.0,\"#0d0887\"],[0.1111111111111111,\"#46039f\"],[0.2222222222222222,\"#7201a8\"],[0.3333333333333333,\"#9c179e\"],[0.4444444444444444,\"#bd3786\"],[0.5555555555555556,\"#d8576b\"],[0.6666666666666666,\"#ed7953\"],[0.7777777777777778,\"#fb9f3a\"],[0.8888888888888888,\"#fdca26\"],[1.0,\"#f0f921\"]],\"type\":\"contour\"}],\"heatmapgl\":[{\"colorbar\":{\"outlinewidth\":0,\"ticks\":\"\"},\"colorscale\":[[0.0,\"#0d0887\"],[0.1111111111111111,\"#46039f\"],[0.2222222222222222,\"#7201a8\"],[0.3333333333333333,\"#9c179e\"],[0.4444444444444444,\"#bd3786\"],[0.5555555555555556,\"#d8576b\"],[0.6666666666666666,\"#ed7953\"],[0.7777777777777778,\"#fb9f3a\"],[0.8888888888888888,\"#fdca26\"],[1.0,\"#f0f921\"]],\"type\":\"heatmapgl\"}],\"heatmap\":[{\"colorbar\":{\"outlinewidth\":0,\"ticks\":\"\"},\"colorscale\":[[0.0,\"#0d0887\"],[0.1111111111111111,\"#46039f\"],[0.2222222222222222,\"#7201a8\"],[0.3333333333333333,\"#9c179e\"],[0.4444444444444444,\"#bd3786\"],[0.5555555555555556,\"#d8576b\"],[0.6666666666666666,\"#ed7953\"],[0.7777777777777778,\"#fb9f3a\"],[0.8888888888888888,\"#fdca26\"],[1.0,\"#f0f921\"]],\"type\":\"heatmap\"}],\"histogram2dcontour\":[{\"colorbar\":{\"outlinewidth\":0,\"ticks\":\"\"},\"colorscale\":[[0.0,\"#0d0887\"],[0.1111111111111111,\"#46039f\"],[0.2222222222222222,\"#7201a8\"],[0.3333333333333333,\"#9c179e\"],[0.4444444444444444,\"#bd3786\"],[0.5555555555555556,\"#d8576b\"],[0.6666666666666666,\"#ed7953\"],[0.7777777777777778,\"#fb9f3a\"],[0.8888888888888888,\"#fdca26\"],[1.0,\"#f0f921\"]],\"type\":\"histogram2dcontour\"}],\"histogram2d\":[{\"colorbar\":{\"outlinewidth\":0,\"ticks\":\"\"},\"colorscale\":[[0.0,\"#0d0887\"],[0.1111111111111111,\"#46039f\"],[0.2222222222222222,\"#7201a8\"],[0.3333333333333333,\"#9c179e\"],[0.4444444444444444,\"#bd3786\"],[0.5555555555555556,\"#d8576b\"],[0.6666666666666666,\"#ed7953\"],[0.7777777777777778,\"#fb9f3a\"],[0.8888888888888888,\"#fdca26\"],[1.0,\"#f0f921\"]],\"type\":\"histogram2d\"}],\"histogram\":[{\"marker\":{\"pattern\":{\"fillmode\":\"overlay\",\"size\":10,\"solidity\":0.2}},\"type\":\"histogram\"}],\"mesh3d\":[{\"colorbar\":{\"outlinewidth\":0,\"ticks\":\"\"},\"type\":\"mesh3d\"}],\"parcoords\":[{\"line\":{\"colorbar\":{\"outlinewidth\":0,\"ticks\":\"\"}},\"type\":\"parcoords\"}],\"pie\":[{\"automargin\":true,\"type\":\"pie\"}],\"scatter3d\":[{\"line\":{\"colorbar\":{\"outlinewidth\":0,\"ticks\":\"\"}},\"marker\":{\"colorbar\":{\"outlinewidth\":0,\"ticks\":\"\"}},\"type\":\"scatter3d\"}],\"scattercarpet\":[{\"marker\":{\"colorbar\":{\"outlinewidth\":0,\"ticks\":\"\"}},\"type\":\"scattercarpet\"}],\"scattergeo\":[{\"marker\":{\"colorbar\":{\"outlinewidth\":0,\"ticks\":\"\"}},\"type\":\"scattergeo\"}],\"scattergl\":[{\"marker\":{\"line\":{\"color\":\"#283442\"}},\"type\":\"scattergl\"}],\"scattermapbox\":[{\"marker\":{\"colorbar\":{\"outlinewidth\":0,\"ticks\":\"\"}},\"type\":\"scattermapbox\"}],\"scatterpolargl\":[{\"marker\":{\"colorbar\":{\"outlinewidth\":0,\"ticks\":\"\"}},\"type\":\"scatterpolargl\"}],\"scatterpolar\":[{\"marker\":{\"colorbar\":{\"outlinewidth\":0,\"ticks\":\"\"}},\"type\":\"scatterpolar\"}],\"scatter\":[{\"marker\":{\"line\":{\"color\":\"#283442\"}},\"type\":\"scatter\"}],\"scatterternary\":[{\"marker\":{\"colorbar\":{\"outlinewidth\":0,\"ticks\":\"\"}},\"type\":\"scatterternary\"}],\"surface\":[{\"colorbar\":{\"outlinewidth\":0,\"ticks\":\"\"},\"colorscale\":[[0.0,\"#0d0887\"],[0.1111111111111111,\"#46039f\"],[0.2222222222222222,\"#7201a8\"],[0.3333333333333333,\"#9c179e\"],[0.4444444444444444,\"#bd3786\"],[0.5555555555555556,\"#d8576b\"],[0.6666666666666666,\"#ed7953\"],[0.7777777777777778,\"#fb9f3a\"],[0.8888888888888888,\"#fdca26\"],[1.0,\"#f0f921\"]],\"type\":\"surface\"}],\"table\":[{\"cells\":{\"fill\":{\"color\":\"#506784\"},\"line\":{\"color\":\"rgb(17,17,17)\"}},\"header\":{\"fill\":{\"color\":\"#2a3f5f\"},\"line\":{\"color\":\"rgb(17,17,17)\"}},\"type\":\"table\"}]},\"layout\":{\"annotationdefaults\":{\"arrowcolor\":\"#f2f5fa\",\"arrowhead\":0,\"arrowwidth\":1},\"autotypenumbers\":\"strict\",\"coloraxis\":{\"colorbar\":{\"outlinewidth\":0,\"ticks\":\"\"}},\"colorscale\":{\"diverging\":[[0,\"#8e0152\"],[0.1,\"#c51b7d\"],[0.2,\"#de77ae\"],[0.3,\"#f1b6da\"],[0.4,\"#fde0ef\"],[0.5,\"#f7f7f7\"],[0.6,\"#e6f5d0\"],[0.7,\"#b8e186\"],[0.8,\"#7fbc41\"],[0.9,\"#4d9221\"],[1,\"#276419\"]],\"sequential\":[[0.0,\"#0d0887\"],[0.1111111111111111,\"#46039f\"],[0.2222222222222222,\"#7201a8\"],[0.3333333333333333,\"#9c179e\"],[0.4444444444444444,\"#bd3786\"],[0.5555555555555556,\"#d8576b\"],[0.6666666666666666,\"#ed7953\"],[0.7777777777777778,\"#fb9f3a\"],[0.8888888888888888,\"#fdca26\"],[1.0,\"#f0f921\"]],\"sequentialminus\":[[0.0,\"#0d0887\"],[0.1111111111111111,\"#46039f\"],[0.2222222222222222,\"#7201a8\"],[0.3333333333333333,\"#9c179e\"],[0.4444444444444444,\"#bd3786\"],[0.5555555555555556,\"#d8576b\"],[0.6666666666666666,\"#ed7953\"],[0.7777777777777778,\"#fb9f3a\"],[0.8888888888888888,\"#fdca26\"],[1.0,\"#f0f921\"]]},\"colorway\":[\"#636efa\",\"#EF553B\",\"#00cc96\",\"#ab63fa\",\"#FFA15A\",\"#19d3f3\",\"#FF6692\",\"#B6E880\",\"#FF97FF\",\"#FECB52\"],\"font\":{\"color\":\"#f2f5fa\"},\"geo\":{\"bgcolor\":\"rgb(17,17,17)\",\"lakecolor\":\"rgb(17,17,17)\",\"landcolor\":\"rgb(17,17,17)\",\"showlakes\":true,\"showland\":true,\"subunitcolor\":\"#506784\"},\"hoverlabel\":{\"align\":\"left\"},\"hovermode\":\"closest\",\"mapbox\":{\"style\":\"dark\"},\"paper_bgcolor\":\"rgb(17,17,17)\",\"plot_bgcolor\":\"rgb(17,17,17)\",\"polar\":{\"angularaxis\":{\"gridcolor\":\"#506784\",\"linecolor\":\"#506784\",\"ticks\":\"\"},\"bgcolor\":\"rgb(17,17,17)\",\"radialaxis\":{\"gridcolor\":\"#506784\",\"linecolor\":\"#506784\",\"ticks\":\"\"}},\"scene\":{\"xaxis\":{\"backgroundcolor\":\"rgb(17,17,17)\",\"gridcolor\":\"#506784\",\"gridwidth\":2,\"linecolor\":\"#506784\",\"showbackground\":true,\"ticks\":\"\",\"zerolinecolor\":\"#C8D4E3\"},\"yaxis\":{\"backgroundcolor\":\"rgb(17,17,17)\",\"gridcolor\":\"#506784\",\"gridwidth\":2,\"linecolor\":\"#506784\",\"showbackground\":true,\"ticks\":\"\",\"zerolinecolor\":\"#C8D4E3\"},\"zaxis\":{\"backgroundcolor\":\"rgb(17,17,17)\",\"gridcolor\":\"#506784\",\"gridwidth\":2,\"linecolor\":\"#506784\",\"showbackground\":true,\"ticks\":\"\",\"zerolinecolor\":\"#C8D4E3\"}},\"shapedefaults\":{\"line\":{\"color\":\"#f2f5fa\"}},\"sliderdefaults\":{\"bgcolor\":\"#C8D4E3\",\"bordercolor\":\"rgb(17,17,17)\",\"borderwidth\":1,\"tickwidth\":0},\"ternary\":{\"aaxis\":{\"gridcolor\":\"#506784\",\"linecolor\":\"#506784\",\"ticks\":\"\"},\"baxis\":{\"gridcolor\":\"#506784\",\"linecolor\":\"#506784\",\"ticks\":\"\"},\"bgcolor\":\"rgb(17,17,17)\",\"caxis\":{\"gridcolor\":\"#506784\",\"linecolor\":\"#506784\",\"ticks\":\"\"}},\"title\":{\"x\":0.05},\"updatemenudefaults\":{\"bgcolor\":\"#506784\",\"borderwidth\":0},\"xaxis\":{\"automargin\":true,\"gridcolor\":\"#283442\",\"linecolor\":\"#506784\",\"ticks\":\"\",\"title\":{\"standoff\":15},\"zerolinecolor\":\"#283442\",\"zerolinewidth\":2},\"yaxis\":{\"automargin\":true,\"gridcolor\":\"#283442\",\"linecolor\":\"#506784\",\"ticks\":\"\",\"title\":{\"standoff\":15},\"zerolinecolor\":\"#283442\",\"zerolinewidth\":2}}},\"title\":{\"text\":\"STXE37250L2.EX\"}},                        {\"responsive\": true}                    ).then(function(){\n",
       "                            \n",
       "var gd = document.getElementById('5427ef02-b6a7-432f-9233-5b3a89f82fc0');\n",
       "var x = new MutationObserver(function (mutations, observer) {{\n",
       "        var display = window.getComputedStyle(gd).display;\n",
       "        if (!display || display === 'none') {{\n",
       "            console.log([gd, 'removed!']);\n",
       "            Plotly.purge(gd);\n",
       "            observer.disconnect();\n",
       "        }}\n",
       "}});\n",
       "\n",
       "// Listen for the removal of the full notebook cells\n",
       "var notebookContainer = gd.closest('#notebook-container');\n",
       "if (notebookContainer) {{\n",
       "    x.observe(notebookContainer, {childList: true});\n",
       "}}\n",
       "\n",
       "// Listen for the clearing of the current output cell\n",
       "var outputEl = gd.closest('.output');\n",
       "if (outputEl) {{\n",
       "    x.observe(outputEl, {childList: true});\n",
       "}}\n",
       "\n",
       "                        })                };                });            </script>        </div>"
      ]
     },
     "metadata": {},
     "output_type": "display_data"
    }
   ],
   "source": [
    "while True:\n",
    "    # Code executed here\n",
    "    clear_output(wait=True)\n",
    "    try:\n",
    "        ImpVolatilityCalcIPA(\n",
    "            x=15,  # Number of days after which we start searching for Options' Expiries\n",
    "            dateBack=3,  # Number of business days for which the chart will show data\n",
    "            indexUnderlying=\".STOXX50E\",  # \".SPX\" or \".STOXX50E\"\n",
    "            callOrPut='Call',\n",
    "            simpleGraph=False,\n",
    "            AtOptionTradeOnly=True)\n",
    "        time.sleep(60*10)\n",
    "    except:\n",
    "        print(\"Please wait for next roll\")"
   ]
  },
  {
   "cell_type": "code",
   "execution_count": null,
   "id": "8e524676-7c92-4dd8-92ab-bb9efac445dd",
   "metadata": {},
   "outputs": [],
   "source": []
  }
 ],
 "metadata": {
  "kernelspec": {
   "display_name": "Python 3 (ipykernel)",
   "language": "python",
   "name": "python3"
  },
  "language_info": {
   "codemirror_mode": {
    "name": "ipython",
    "version": 3
   },
   "file_extension": ".py",
   "mimetype": "text/x-python",
   "name": "python",
   "nbconvert_exporter": "python",
   "pygments_lexer": "ipython3",
   "version": "3.8.2"
  },
  "toc-autonumbering": false,
  "toc-showcode": false,
  "toc-showmarkdowntxt": false
 },
 "nbformat": 4,
 "nbformat_minor": 5
}
