{
 "cells": [
  {
   "cell_type": "markdown",
   "id": "36ef8e77-76d4-4a0d-8f5b-c853d88fe1bc",
   "metadata": {},
   "source": [
    "# Implied Volatility of Index Options\n",
    "\n",
    "In the article below, we will calculate the Implied Volatility of Future (Monthly) Options on the Index .STOXX50E (EURO STOXX 50 EUR PRICE INDEX) ('[EUREX](https://go.refinitiv.com/?u=Y3B1cmw6Ly9hcHBzLmNwLi9BcHBzL0luZGV4Lz9zPS5TVE9YWDUwJnN0PVJJQw%3D%3D&title=.STOXX50%20OV&key=bUq%2BNCiQGAcHQjSNEkJSlZLTgjo9cios8rz4heIBiU8%3D)'). To do so, we need to implement the Black-Scholes-Merton model. I have chosen to use the [py_vollib](py_vollib.black_scholes_merton.implied_volatility.implied_volatility) library for which the following parameters are needed:\n",
    "* S (float) – underlying asset price\n",
    "* K (float) – strike price\n",
    "* sigma (float) – annualized standard deviation, or volatility, of the stock's returns. This is the square root of the quadratic variation of the stock's log price process, a measure of its volatility.\n",
    "* t (float) – time to expiration in years\n",
    "* r (float) – risk-free interest rate\n",
    "* q (float) – annualized continuous dividend rate\n",
    "* flag (str) – ‘c’ or ‘p’ for call or put."
   ]
  },
  {
   "cell_type": "code",
   "execution_count": 1,
   "id": "43aad444-4821-4788-98e9-354769584a33",
   "metadata": {},
   "outputs": [],
   "source": [
    "try:  # The following libraries are not available in Codebook, thus this try loop\n",
    "    import py_vollib  # pip install py_vollib\n",
    "    import py_vollib.black_scholes_merton.implied_volatility\n",
    "except:\n",
    "    pass\n",
    "# ========================================================================================\n",
    "# Copyright © 2013-2014 Peter Jäckel.\n",
    "\n",
    "# Permission to use, copy, modify, and distribute this software is freely granted,\n",
    "# provided that this notice is preserved.\n",
    "\n",
    "# WARRANTY DISCLAIMER\n",
    "# The Software is provided \"as is\" without warranty of any kind, either express or implied,\n",
    "# including without limitation any implied warranties of condition, uninterrupted use,\n",
    "# merchantability, fitness for a particular purpose, or non-infringement.\n",
    "# ========================================================================================"
   ]
  },
  {
   "cell_type": "code",
   "execution_count": 2,
   "id": "c130fafc-75eb-4de2-82bd-380587477117",
   "metadata": {},
   "outputs": [],
   "source": [
    "import refinitiv.data as rd\n",
    "from refinitiv.data.content import historical_pricing\n",
    "from refinitiv.data.content.historical_pricing import Intervals\n",
    "from refinitiv.data.content.historical_pricing import Adjustments\n",
    "from refinitiv.data.content.historical_pricing import MarketSession\n",
    "from refinitiv.data.content import search\n",
    "\n",
    "import time\n",
    "import numpy as np\n",
    "import pandas as pd\n",
    "import calendar\n",
    "import pytz\n",
    "import math\n",
    "import pandas_market_calendars as mcal  # See `https://github.com/rsheftel/pandas_market_calendars/blob/master/examples/usage.ipynb` for info on this market calendar library\n",
    "from datetime import datetime, timedelta, timezone\n",
    "from dateutil.relativedelta import relativedelta\n",
    "from pandas.tseries.offsets import BDay\n",
    "from plotly.subplots import make_subplots\n",
    "import plotly.graph_objects as go\n",
    "import plotly.express as px # This is just to see the implied vol graph when that field is available\n",
    "from IPython.display import clear_output\n",
    "\n",
    "try:  # The following libraries are not available in Codebook, thus this try loop\n",
    "    rd.open_session(config_name=\"C:\\\\Example.DataLibrary.Python-main\\\\Example.DataLibrary.Python-main\\\\Configuration\\\\refinitiv-data.config.json\")\n",
    "    rd.open_session(\"desktop.workspace\")\n",
    "except:\n",
    "    rd.open_session()"
   ]
  },
  {
   "cell_type": "code",
   "execution_count": 3,
   "id": "368ea440-de45-4594-a3e7-c1812abc4186",
   "metadata": {},
   "outputs": [
    {
     "name": "stdout",
     "output_type": "stream",
     "text": [
      "Here we are using the refinitiv Data Library version 1.0.0b20\n"
     ]
    }
   ],
   "source": [
    "print(f\"Here we are using the refinitiv Data Library version {rd.__version__}\")"
   ]
  },
  {
   "cell_type": "markdown",
   "id": "364a0f7c-43cf-4bd7-9fd2-da425ed8d489",
   "metadata": {},
   "source": [
    "## EUREX Call Options\n",
    "\n",
    "In this article, we will attempt to calculate the Implied Volatility (IV) for Future Options on 2 indecies (.STOXX50E & .SPX) trading 'ATM', meaning that the contract's strike price is at (or near - within x%) parity with (equal to) its current treading price (`TRDPRC_1`). We are also only looking for such Options expiroing within a set time window; allowing for the option 'forever', i.e.: that expire whenever after date of calculation. To do so, we 1st have to find the option in question. To find live Options, we best use the [Search API](https://developers.refinitiv.com/en/article-catalog/article/building-search-into-your-application-workflow). To find Expiered Options we will use functions created in Haykaz's amazing articles \"[Finding Expired Options and Backtesting a Short Iron Condor Strategy](https://developers.refinitiv.com/en/article-catalog/article/finding-expired-options-and-backtesting-a-short-iron-condor-stra)\" & \"[Functions to find Option RICs traded on different exchanges](https://developers.refinitiv.com/en/article-catalog/article/functions-to-find-option-rics-traded-on-different-exchanges#1.1-Function-to-get-exchange-codes-where-the-option-is-traded)\"\n",
    "\n",
    "### Finding Live Options (using Search API)\n",
    "\n",
    "Live Options, in this context, are Options that have not expiered at time of computation. To be explisit:\n",
    "\n",
    "- 'time of calculation' refers here to the time for which the calculation is done, i.e.: if we compute today an IV for an Option as if it was 3 days ago, 'time of calculation' is 3 days ago.\n",
    "- 'time of computation' refers here to the time when we are computing the values, i.e.: if we compute today an IV for an Option as if it was 3 days ago, 'time of computation' is today.\n",
    "\n",
    "As afformentioned, to find live Options, we best use the [Search API](https://developers.refinitiv.com/en/article-catalog/article/building-search-into-your-application-workflow): Here we look for options on .STOXX50E that mature on the 3rd friday of Jully 2023, 2023-07-21:"
   ]
  },
  {
   "cell_type": "code",
   "execution_count": 6,
   "id": "0c3ff058-3c36-4e09-9a68-59889701ccd0",
   "metadata": {},
   "outputs": [
    {
     "ename": "RDError",
     "evalue": "Error code 429 | {\"message\":\"Too many requests, please try again later.\"}",
     "output_type": "error",
     "traceback": [
      "\u001b[1;31m---------------------------------------------------------------------------\u001b[0m",
      "\u001b[1;31mRDError\u001b[0m                                   Traceback (most recent call last)",
      "\u001b[1;32m~\\AppData\\Local\\Temp/ipykernel_4208/1308141032.py\u001b[0m in \u001b[0;36m<module>\u001b[1;34m\u001b[0m\n\u001b[1;32m----> 1\u001b[1;33m response1 = search.Definition(\n\u001b[0m\u001b[0;32m      2\u001b[0m     \u001b[0mview\u001b[0m \u001b[1;33m=\u001b[0m \u001b[0msearch\u001b[0m\u001b[1;33m.\u001b[0m\u001b[0mViews\u001b[0m\u001b[1;33m.\u001b[0m\u001b[0mSEARCH_ALL\u001b[0m\u001b[1;33m,\u001b[0m \u001b[1;31m# To see what views are available: `help(search.Views)` & `search.metadata.Definition(view = search.Views.SEARCH_ALL).get_data().data.df.to_excel(\"SEARCH_ALL.xlsx\")`\u001b[0m\u001b[1;33m\u001b[0m\u001b[1;33m\u001b[0m\u001b[0m\n\u001b[0;32m      3\u001b[0m     \u001b[0mquery\u001b[0m\u001b[1;33m=\u001b[0m\u001b[1;34m\".STOXX50E\"\u001b[0m\u001b[1;33m,\u001b[0m\u001b[1;33m\u001b[0m\u001b[1;33m\u001b[0m\u001b[0m\n\u001b[0;32m      4\u001b[0m     \u001b[0mselect\u001b[0m\u001b[1;33m=\u001b[0m\u001b[1;34m\"DocumentTitle, RIC, StrikePrice, ExchangeCode, ExpiryDate, UnderlyingAsset, \"\u001b[0m \u001b[1;33m+\u001b[0m\u001b[1;33m\u001b[0m\u001b[1;33m\u001b[0m\u001b[0m\n\u001b[0;32m      5\u001b[0m             \u001b[1;34m\"UnderlyingAssetName, UnderlyingAssetRIC, ESMAUnderlyingIndexCode, RCSUnderlyingMarket\"\u001b[0m \u001b[1;33m+\u001b[0m\u001b[1;33m\u001b[0m\u001b[1;33m\u001b[0m\u001b[0m\n",
      "\u001b[1;32mC:\\JupyterLab\\resources\\jlab_server\\lib\\site-packages\\refinitiv\\data\\delivery\\_data\\_data_provider.py\u001b[0m in \u001b[0;36mget_data\u001b[1;34m(self, session, on_response, **kwargs)\u001b[0m\n\u001b[0;32m    668\u001b[0m         )\n\u001b[0;32m    669\u001b[0m         \u001b[0mon_response\u001b[0m \u001b[1;32mand\u001b[0m \u001b[0memit_event\u001b[0m\u001b[1;33m(\u001b[0m\u001b[0mon_response\u001b[0m\u001b[1;33m,\u001b[0m \u001b[0mresponse\u001b[0m\u001b[1;33m,\u001b[0m \u001b[0mself\u001b[0m\u001b[1;33m,\u001b[0m \u001b[0msession\u001b[0m\u001b[1;33m)\u001b[0m\u001b[1;33m\u001b[0m\u001b[1;33m\u001b[0m\u001b[0m\n\u001b[1;32m--> 670\u001b[1;33m         \u001b[0mself\u001b[0m\u001b[1;33m.\u001b[0m\u001b[0m_check_response\u001b[0m\u001b[1;33m(\u001b[0m\u001b[0mresponse\u001b[0m\u001b[1;33m,\u001b[0m \u001b[0mconfig\u001b[0m\u001b[1;33m)\u001b[0m\u001b[1;33m\u001b[0m\u001b[1;33m\u001b[0m\u001b[0m\n\u001b[0m\u001b[0;32m    671\u001b[0m         \u001b[1;32mreturn\u001b[0m \u001b[0mresponse\u001b[0m\u001b[1;33m\u001b[0m\u001b[1;33m\u001b[0m\u001b[0m\n\u001b[0;32m    672\u001b[0m \u001b[1;33m\u001b[0m\u001b[0m\n",
      "\u001b[1;32mC:\\JupyterLab\\resources\\jlab_server\\lib\\site-packages\\refinitiv\\data\\delivery\\_data\\_data_provider.py\u001b[0m in \u001b[0;36m_check_response\u001b[1;34m(self, response, config)\u001b[0m\n\u001b[0;32m    653\u001b[0m \u001b[1;33m\u001b[0m\u001b[0m\n\u001b[0;32m    654\u001b[0m     \u001b[1;32mdef\u001b[0m \u001b[0m_check_response\u001b[0m\u001b[1;33m(\u001b[0m\u001b[0mself\u001b[0m\u001b[1;33m,\u001b[0m \u001b[0mresponse\u001b[0m\u001b[1;33m,\u001b[0m \u001b[0mconfig\u001b[0m\u001b[1;33m)\u001b[0m\u001b[1;33m:\u001b[0m\u001b[1;33m\u001b[0m\u001b[1;33m\u001b[0m\u001b[0m\n\u001b[1;32m--> 655\u001b[1;33m         \u001b[0m_check_response\u001b[0m\u001b[1;33m(\u001b[0m\u001b[0mresponse\u001b[0m\u001b[1;33m,\u001b[0m \u001b[0mconfig\u001b[0m\u001b[1;33m)\u001b[0m\u001b[1;33m\u001b[0m\u001b[1;33m\u001b[0m\u001b[0m\n\u001b[0m\u001b[0;32m    656\u001b[0m \u001b[1;33m\u001b[0m\u001b[0m\n\u001b[0;32m    657\u001b[0m     \u001b[1;32mdef\u001b[0m \u001b[0mget_data\u001b[0m\u001b[1;33m(\u001b[0m\u001b[0mself\u001b[0m\u001b[1;33m,\u001b[0m \u001b[0msession\u001b[0m\u001b[1;33m=\u001b[0m\u001b[1;32mNone\u001b[0m\u001b[1;33m,\u001b[0m \u001b[0mon_response\u001b[0m\u001b[1;33m=\u001b[0m\u001b[1;32mNone\u001b[0m\u001b[1;33m,\u001b[0m \u001b[1;33m**\u001b[0m\u001b[0mkwargs\u001b[0m\u001b[1;33m)\u001b[0m \u001b[1;33m->\u001b[0m \u001b[0mT\u001b[0m\u001b[1;33m:\u001b[0m\u001b[1;33m\u001b[0m\u001b[1;33m\u001b[0m\u001b[0m\n",
      "\u001b[1;32mC:\\JupyterLab\\resources\\jlab_server\\lib\\site-packages\\refinitiv\\data\\delivery\\_data\\_data_provider.py\u001b[0m in \u001b[0;36m_check_response\u001b[1;34m(response, config, response_class)\u001b[0m\n\u001b[0;32m    555\u001b[0m \u001b[1;33m\u001b[0m\u001b[0m\n\u001b[0;32m    556\u001b[0m             \u001b[1;32melse\u001b[0m\u001b[1;33m:\u001b[0m\u001b[1;33m\u001b[0m\u001b[1;33m\u001b[0m\u001b[0m\n\u001b[1;32m--> 557\u001b[1;33m                 \u001b[1;32mraise\u001b[0m \u001b[0mRDError\u001b[0m\u001b[1;33m(\u001b[0m\u001b[0merror_code\u001b[0m\u001b[1;33m,\u001b[0m \u001b[0merror_message\u001b[0m\u001b[1;33m)\u001b[0m\u001b[1;33m\u001b[0m\u001b[1;33m\u001b[0m\u001b[0m\n\u001b[0m\u001b[0;32m    558\u001b[0m \u001b[1;33m\u001b[0m\u001b[0m\n\u001b[0;32m    559\u001b[0m \u001b[1;33m\u001b[0m\u001b[0m\n",
      "\u001b[1;31mRDError\u001b[0m: Error code 429 | {\"message\":\"Too many requests, please try again later.\"}"
     ]
    }
   ],
   "source": [
    "response1 = search.Definition(\n",
    "    view = search.Views.SEARCH_ALL, # To see what views are available: `help(search.Views)` & `search.metadata.Definition(view = search.Views.SEARCH_ALL).get_data().data.df.to_excel(\"SEARCH_ALL.xlsx\")`\n",
    "    query=\".STOXX50E\",\n",
    "    select=\"DocumentTitle, RIC, StrikePrice, ExchangeCode, ExpiryDate, UnderlyingAsset, \" +\n",
    "            \"UnderlyingAssetName, UnderlyingAssetRIC, ESMAUnderlyingIndexCode, RCSUnderlyingMarket\" +\n",
    "            \"UnderlyingQuoteName, UnderlyingQuoteRIC\",\n",
    "    filter=\"RCSAssetCategoryLeaf eq 'Option' and RIC eq 'STX*' and DocumentTitle ne '*Weekly*'  \" +\n",
    "    \"and CallPutOption eq 'Call' and ExchangeCode eq 'EUX' and \" +\n",
    "    \"ExpiryDate ge 2022-07-10 and ExpiryDate lt 2023-07-22\",  # ge (greater than or equal to), gt (greater than), lt (less than) and le (less than or equal to). These can only be applied to numeric and date properties.\n",
    "    top=10,\n",
    ").get_data()\n",
    "searchDf1 = response1.data.df"
   ]
  },
  {
   "cell_type": "code",
   "execution_count": null,
   "id": "683575e4-0405-4147-9228-d365e93849ed",
   "metadata": {},
   "outputs": [],
   "source": [
    "searchDf1"
   ]
  },
  {
   "cell_type": "markdown",
   "id": "984e48be-d788-4109-b757-e14564a5112d",
   "metadata": {},
   "source": [
    "Let's say the current underlying price is 3331.7EUR, now we can pick the option with strike price closest to that, i.e.: the most 'At The Money'; note that this means that the option can be in or out the money, as long as it is the closest to at the money:"
   ]
  },
  {
   "cell_type": "code",
   "execution_count": null,
   "id": "982c79cc-efb9-4f85-b7fc-bd28961449fb",
   "metadata": {},
   "outputs": [],
   "source": [
    "currentUnderlyingPrc =  rd.get_history(\n",
    "    universe=[searchDf1.UnderlyingQuoteRIC[0][0]],\n",
    "    fields=[\"TRDPRC_1\"],\n",
    "    interval=\"tick\").iloc[-1][0]"
   ]
  },
  {
   "cell_type": "code",
   "execution_count": null,
   "id": "e0a5b723-1eef-4f36-9b5a-126308c44a00",
   "metadata": {},
   "outputs": [],
   "source": [
    "currentUnderlyingPrc"
   ]
  },
  {
   "cell_type": "code",
   "execution_count": null,
   "id": "361fd09b-9837-4da9-8f22-9b57cde981f4",
   "metadata": {},
   "outputs": [],
   "source": [
    "searchDf1.iloc[(searchDf1['StrikePrice']-currentUnderlyingPrc).abs().argsort()[:1]]"
   ]
  },
  {
   "cell_type": "markdown",
   "id": "68c4d867-8183-4711-bcbc-0f2abc093f98",
   "metadata": {},
   "source": [
    "In this instance, for this Call Option, 'STXE33500G3.EX', the strike price is 3350, higher than the spot price of our underlying which is 3331.7. The holder of this 'STXE33500G3.EX' option has the right (but not the obligation) to buy the underlying for 3350EUR, which, was the price of the underlying to stay the same till expiry (3331.7EUR on 2023-07-21), means a loss of (3350 - 3331.7 =) 18.3EUR. This option in this instance is 'Out-The-Money'."
   ]
  },
  {
   "cell_type": "markdown",
   "id": "19147b5c-e366-4262-a0f7-9eae32166490",
   "metadata": {},
   "source": [
    "N.B.: When using the Filter in Search and playing with dates, it is good to read the [API Playground Documentation](https://apidocs.refinitiv.com/Apps/ApiDocs#/details/L2Rpc2NvdmVyeS9zZWFyY2gvdjE=/Lw==/POST/README); it mentions that: \"Dates are written in ISO datetime format. The time portion is optional, as is the timezone (assumed to be UTC unless otherwise specified). Valid examples include 2012-03-11T17\\:13:55Z, 2012-03-11T17\\:13:55, 2012-03-11T12\\:00-03:30, 2012-03-11.\":\n",
    "\n",
    "<img src=\"Docs/SearchFilter.PNG\">"
   ]
  },
  {
   "cell_type": "markdown",
   "id": "c63d2f37-24ba-45b8-8099-5a7eec911f96",
   "metadata": {
    "tags": []
   },
   "source": [
    "#### Function for Expiration days\n",
    "\n",
    "Most of the time, market agents will be interested in the next expiring Option, unless we are too close to it. We would not be interested, for example, in an option expiring in 1 hour, or even tomorrow, because that is so close (in time) that the information reflected in the Option's trades in the market does not represent future expectations of its underlying, but current expectations of it.\n",
    "\n",
    "To implement such a logic, we need to know what are the expiry dates of the option that we are interested in. We are looking for a Python function narrowing our search to options expiring on the 3rd friday of any one month. For info on this function, please read articles \"[Finding Expired Options and Backtesting a Short Iron Condor Strategy](https://developers.refinitiv.com/en/article-catalog/article/finding-expired-options-and-backtesting-a-short-iron-condor-stra)\" & \"[Functions to find Option RICs traded on different exchanges](https://developers.refinitiv.com/en/article-catalog/article/functions-to-find-option-rics-traded-on-different-exchanges#1.1-Function-to-get-exchange-codes-where-the-option-is-traded)\""
   ]
  },
  {
   "cell_type": "code",
   "execution_count": null,
   "id": "6346a2ac-12f9-443b-8fc7-fcedc8decb58",
   "metadata": {},
   "outputs": [],
   "source": [
    "def get_exp_dates(year, days=True, mcal_get_calendar='EUREX'):\n",
    "    '''\n",
    "    get_exp_dates Version 2.0:\n",
    "\n",
    "    This function gets expiration dates for a year for NDX options, which are the 3rd Fridays of each month.\n",
    "\n",
    "    Changes\n",
    "    ----------------------------------------------\n",
    "    Changed from Version 1.0 to 2.0: Jonathan Legrand chaned Haykaz Aramyan's original code to allow\n",
    "        (i) for the function's holiday argument to be changed, and defaulted to 'EUREX' as opposed to 'CBOE_Index_Options' and\n",
    "        (ii) for the function to output full date objects as opposed to just days of the month if agument days=True.\n",
    "\n",
    "    Dependencies\n",
    "    ----------------------------------------------\n",
    "    Python library 'pandas_market_calendars' version 3.2\n",
    "\n",
    "    Parameters\n",
    "    -----------------------------------------------\n",
    "    Input:\n",
    "        year(int): year for which expiration days are requested\n",
    "\n",
    "        mcal_get_calendar(str): String of the calendar for which holidays have to be taken into account. More on this calendar (link to Github chacked 2022-10-11): https://github.com/rsheftel/pandas_market_calendars/blob/177e7922c7df5ad249b0d066b5c9e730a3ee8596/pandas_market_calendars/exchange_calendar_cboe.py\n",
    "            Default: mcal_get_calendar='EUREX'\n",
    "\n",
    "        days(bool): If True, only days of the month is outputed, else it's dataeime objects\n",
    "            Default: days=True\n",
    "\n",
    "    Output:\n",
    "        dates(dict): dictionary of expiration days for each month of a specified year in datetime.date format.\n",
    "    '''\n",
    "\n",
    "    # get CBOE market holidays\n",
    "    EUREXCal = mcal.get_calendar(mcal_get_calendar)\n",
    "    holidays = EUREXCal.holidays().holidays\n",
    "\n",
    "    # set calendar starting from Saturday\n",
    "    c = calendar.Calendar(firstweekday=calendar.SATURDAY)\n",
    "\n",
    "    # get the 3rd Friday of each month\n",
    "    exp_dates = {}\n",
    "    for i in range(1, 13):\n",
    "        monthcal = c.monthdatescalendar(year, i)\n",
    "        date = monthcal[2][-1]\n",
    "        # check if found date is an holiday and get the previous date if it is\n",
    "        if date in holidays:\n",
    "            date = date + timedelta(-1)\n",
    "        # append the date to the dictionary\n",
    "        if year in exp_dates:\n",
    "            ### Changed from original code from here on by Jonathan Legrand on 2022-10-11\n",
    "            if days: exp_dates[year].append(date.day)\n",
    "            else: exp_dates[year].append(date)\n",
    "        else:\n",
    "            if days: exp_dates[year] = [date.day]\n",
    "            else: exp_dates[year] = [date]\n",
    "    return exp_dates"
   ]
  },
  {
   "cell_type": "code",
   "execution_count": null,
   "id": "9cb09a72-4f5a-4be2-936f-4713586893e6",
   "metadata": {},
   "outputs": [],
   "source": [
    "fullDates = get_exp_dates(2022, days=False)\n",
    "dates = get_exp_dates(2022)\n",
    "fullDatesStrDict = {i: [fullDates[i][j].strftime('%Y-%m-%d')\n",
    "                        for j in range(len(fullDates[i]))]\n",
    "                    for i in list(fullDates.keys())}\n",
    "fullDatesDayDict = {i: [fullDates[i][j].day\n",
    "                        for j in range(len(fullDates[i]))]\n",
    "                    for i in list(fullDates.keys())}"
   ]
  },
  {
   "cell_type": "code",
   "execution_count": null,
   "id": "507eec68-b42a-46d4-a140-146653d29e13",
   "metadata": {},
   "outputs": [],
   "source": [
    "print(fullDates)"
   ]
  },
  {
   "cell_type": "code",
   "execution_count": null,
   "id": "9cada82d-37f0-4de1-8cc0-5e05269c22c4",
   "metadata": {},
   "outputs": [],
   "source": [
    "print(fullDatesStrDict)"
   ]
  },
  {
   "cell_type": "code",
   "execution_count": null,
   "id": "7615b711-66d3-425e-9ebf-1c7fa28a4cc8",
   "metadata": {},
   "outputs": [],
   "source": [
    "print(dates)"
   ]
  },
  {
   "cell_type": "code",
   "execution_count": null,
   "id": "8212400d-6bd5-4b7d-a07b-256ca997eb7c",
   "metadata": {},
   "outputs": [],
   "source": [
    "print(fullDatesDayDict)"
   ]
  },
  {
   "cell_type": "markdown",
   "id": "c941d968-e005-44b2-ad8e-4c14cf57ae0e",
   "metadata": {},
   "source": [
    "#### Function to find the next expiring Option outside the next x day window\n",
    "\n",
    "Most of the time, market agents will be interested in the next expiring Option, unless we are too close to it. We would not be interested, for example, in an option expiring in 1 hour, or even tomorrow, because that is so close (in time) that the information reflected in the Option's trades in the market does not represent future expectations of its underlying, but current expectations of it.\n",
    "\n",
    "E.g.: I would like to know what is the next Future (Monthly) Option (i) on the Index '.STOXX50E' (ii) closest to ATM (i.e.: with an underlying spot price closest to the option's strike price) (ii) Expiring in more than x days (i.e.: not too close to calculated time 't'), let's say 15 days:"
   ]
  },
  {
   "cell_type": "code",
   "execution_count": null,
   "id": "0b1d943e-7ef1-493e-a489-6921cb85f670",
   "metadata": {},
   "outputs": [],
   "source": [
    "x = 15"
   ]
  },
  {
   "cell_type": "code",
   "execution_count": null,
   "id": "2958a589-b439-4288-b278-de7064f9cdf9",
   "metadata": {},
   "outputs": [],
   "source": [
    "timeOfCalcDatetime = datetime.now()  # For now, we will focuss on the use-case where we are calculating values for today; later we will allow for it historically for any day going back a few business days.\n",
    "timeOfCalcStr = datetime.now().strftime('%Y-%m-%d')\n",
    "timeOfCalcStr"
   ]
  },
  {
   "cell_type": "code",
   "execution_count": null,
   "id": "7d82523e-03f4-427b-b298-88cb8747c1bf",
   "metadata": {},
   "outputs": [],
   "source": [
    "fullDatesAtTimeOfCalc = get_exp_dates(timeOfCalcDatetime.year, days=False)  # `timeOfCalcDatetime.year` here is 2022\n",
    "fullDatesAtTimeOfCalcDatetime = [\n",
    "    datetime(i.year, i.month, i.day)\n",
    "    for i in fullDatesAtTimeOfCalc[list(fullDatesAtTimeOfCalc.keys())[0]]]"
   ]
  },
  {
   "cell_type": "code",
   "execution_count": null,
   "id": "3f23458b-d3d2-4a5f-ac4c-12306cedf22e",
   "metadata": {},
   "outputs": [],
   "source": [
    "print(fullDatesAtTimeOfCalcDatetime)"
   ]
  },
  {
   "cell_type": "code",
   "execution_count": null,
   "id": "770c7293-35ff-483f-a337-124130b22374",
   "metadata": {},
   "outputs": [],
   "source": [
    "expiryDateOfInt = [i for i in fullDatesAtTimeOfCalcDatetime\n",
    "                   if i > timeOfCalcDatetime + relativedelta(days=x)][0]\n",
    "expiryDateOfInt"
   ]
  },
  {
   "cell_type": "markdown",
   "id": "6ed23b1c-a5f3-444f-b376-817ccf2d48f6",
   "metadata": {},
   "source": [
    "Now we can look for the one option we're after:"
   ]
  },
  {
   "cell_type": "code",
   "execution_count": null,
   "id": "ad5f39da-01cd-4e1d-8182-5f5f008cf688",
   "metadata": {},
   "outputs": [],
   "source": [
    "response2 = search.Definition(\n",
    "    view = search.Views.SEARCH_ALL, # To see what views are available: `help(search.Views)` & `search.metadata.Definition(view = search.Views.SEARCH_ALL).get_data().data.df.to_excel(\"SEARCH_ALL.xlsx\")`\n",
    "    query=\".STOXX50E\",\n",
    "    select=\"DocumentTitle, RIC, StrikePrice, ExchangeCode, ExpiryDate, UnderlyingAsset, \" +\n",
    "            \"UnderlyingAssetName, UnderlyingAssetRIC, ESMAUnderlyingIndexCode, RCSUnderlyingMarket\" +\n",
    "            \"UnderlyingQuoteName, UnderlyingQuoteRIC\",\n",
    "    filter=\"RCSAssetCategoryLeaf eq 'Option' and RIC eq 'STX*' and DocumentTitle ne '*Weekly*' \" +\n",
    "    \"and CallPutOption eq 'Call' and ExchangeCode eq 'EUX' and \" +\n",
    "    f\"ExpiryDate ge {(expiryDateOfInt - relativedelta(days=1)).strftime('%Y-%m-%d')} \" +\n",
    "    f\"and ExpiryDate lt {(expiryDateOfInt + relativedelta(days=1)).strftime('%Y-%m-%d')}\",  # ge (greater than or equal to), gt (greater than), lt (less than) and le (less than or equal to). These can only be applied to numeric and date properties.\n",
    "    top=10000,\n",
    ").get_data()\n",
    "searchDf2 = response2.data.df"
   ]
  },
  {
   "cell_type": "code",
   "execution_count": null,
   "id": "e3f0a41a-f7b2-4c8e-8f51-a5117a738656",
   "metadata": {},
   "outputs": [],
   "source": [
    "searchDf2"
   ]
  },
  {
   "cell_type": "markdown",
   "id": "4924b04e-5c4f-47af-8a5d-fde999cee1f5",
   "metadata": {},
   "source": [
    "And again, we can collect the closest to ATM:"
   ]
  },
  {
   "cell_type": "code",
   "execution_count": null,
   "id": "ebce9718-c9dc-4ed8-a391-440adbfa861b",
   "metadata": {},
   "outputs": [],
   "source": [
    "searchDf2.iloc[(searchDf2['StrikePrice']-currentUnderlyingPrc).abs().argsort()[:1]]"
   ]
  },
  {
   "cell_type": "markdown",
   "id": "a23cfa2f-82d7-4f23-80ae-50d620e7d845",
   "metadata": {},
   "source": [
    "Now we have our instrument:"
   ]
  },
  {
   "cell_type": "code",
   "execution_count": null,
   "id": "3a2115a8-4f28-46af-8169-59eeceab06cb",
   "metadata": {},
   "outputs": [],
   "source": [
    "instrument = searchDf2.iloc[(searchDf2['StrikePrice']-currentUnderlyingPrc).abs().argsort()[:1]].RIC.values[0]\n",
    "instrument"
   ]
  },
  {
   "cell_type": "markdown",
   "id": "15d204ff-2a6e-4180-a130-a0fa1d2ec276",
   "metadata": {},
   "source": [
    "## Refinitiv-provided Daily Implied Volatility\n",
    "\n",
    "Refinitiv provides pre-calculated Implied Volatility values, but they are daily, and we will look into calculating them in higher frequencies:"
   ]
  },
  {
   "cell_type": "code",
   "execution_count": null,
   "id": "e99f68ec-63f8-4e2b-b82c-e5eb45b60c03",
   "metadata": {},
   "outputs": [],
   "source": [
    "## Example Options:\n",
    "\n",
    "# instrument_1 = 'SPXv212240000.U'\n",
    "# instrument_2 = 'STXE35500J2.EX'  # Eurex Dow Jones EURO STOXX 50 Index Option 3550 Call Oct 2022, Stock Index Cash Option, Underlying RIC: .STOXX50E\n",
    "# instrument_3 = 'SPXj212240000.U'"
   ]
  },
  {
   "cell_type": "code",
   "execution_count": null,
   "id": "8f8e97a0-42a0-4841-8d87-ee61db79dde0",
   "metadata": {},
   "outputs": [],
   "source": [
    "datetime.now().isoformat(timespec='minutes')"
   ]
  },
  {
   "cell_type": "code",
   "execution_count": null,
   "id": "3c587606-67c1-4607-bbfd-3785b0b12f22",
   "metadata": {},
   "outputs": [],
   "source": [
    "start = (timeOfCalcDatetime - pd.tseries.offsets.BDay(7)).strftime('%Y-%m-%dT%H:%M:%S.%f')  # '2022-10-05T07:30:00.000'\n",
    "endDateTime = datetime.now()\n",
    "end = endDateTime.strftime('%Y-%m-%dT%H:%M:%S.%f')  #  e.g.: '2022-09-09T20:00:00.000'\n",
    "end"
   ]
  },
  {
   "cell_type": "code",
   "execution_count": null,
   "id": "0718d0e8-0e62-4b22-ad9c-1111bf8c5f24",
   "metadata": {},
   "outputs": [],
   "source": [
    "_RefDailyImpVolDf = historical_pricing.events.Definition(instrument, fields=['IMP_VOLT'], count=2000).get_data()"
   ]
  },
  {
   "cell_type": "code",
   "execution_count": null,
   "id": "84f7a572-89eb-4ac2-aaa0-9ba785a200b5",
   "metadata": {},
   "outputs": [],
   "source": [
    "_RefDailyImpVolDf.data.df"
   ]
  },
  {
   "cell_type": "code",
   "execution_count": null,
   "id": "4d6e43e9-2130-4da2-963f-f4b998f027b8",
   "metadata": {},
   "outputs": [],
   "source": [
    "try: RefDailyImpVolDf = _RefDailyImpVolDf.data.df.drop(['EVENT_TYPE'], axis=1) # In codebook, this line is needed\n",
    "except: RefDailyImpVolDf = _RefDailyImpVolDf.data.df # If outside of codebook\n",
    "fig = px.line(RefDailyImpVolDf, title = RefDailyImpVolDf.columns.name + \" \" + RefDailyImpVolDf.columns[0]) # This is just to see the implied vol graph when that field is available\n",
    "fig.show()"
   ]
  },
  {
   "cell_type": "markdown",
   "id": "c5114738-949d-46fc-912a-c36e6c6fc3aa",
   "metadata": {},
   "source": [
    "## Option Price"
   ]
  },
  {
   "cell_type": "code",
   "execution_count": null,
   "id": "31b62cd0-c6d9-441c-b149-5f6acaaf95a1",
   "metadata": {},
   "outputs": [],
   "source": [
    "# rd.get_history(\n",
    "#     universe=[\"STXE35500J2.EX\"],\n",
    "#     fields=[\"TRDPRC_1\"],\n",
    "#     interval=\"tick\")"
   ]
  },
  {
   "cell_type": "code",
   "execution_count": null,
   "id": "497750a3-92c1-42fa-9cab-642f6d9da215",
   "metadata": {},
   "outputs": [],
   "source": [
    "_optnMrktPrice = rd.get_history(\n",
    "    universe=[instrument],\n",
    "    fields=[\"TRDPRC_1\"],\n",
    "    interval=\"10min\",\n",
    "    start=start,  # Ought to always start at 4 am for OPRA exchanged Options, more info in the article below\n",
    "    end=end)  # Ought to always end at 8 pm for OPRA exchanged Options, more info in the article below"
   ]
  },
  {
   "cell_type": "markdown",
   "id": "6b6c3159-49d6-4b77-94c4-95e0720b81a9",
   "metadata": {},
   "source": [
    "As you can see, there isn't nessesarily a trade every 10 min.:"
   ]
  },
  {
   "cell_type": "code",
   "execution_count": null,
   "id": "91243caf-3b32-46d1-84d4-d57e33cddbee",
   "metadata": {
    "tags": []
   },
   "outputs": [],
   "source": [
    "_optnMrktPrice"
   ]
  },
  {
   "cell_type": "markdown",
   "id": "4499ee16-dcf9-4ee1-9df0-19c9ac898666",
   "metadata": {},
   "source": [
    "However, for the statistical inferences taht we will make further in the article, when we will calculate Implied Volatilities and therefore implement the Black Scholes model, we will need 'continuous timeseries' with which to deal. There are several ways to go from discrete time series (like ours, even if we go down to tick data), but for this article, we will 1st focuss on making 'buckets' of 10 min. If no trade is made in any 10 min. bucket, we will assume the price to have stayed the same as previously, thoughout the exchange's trading hours which are:\n",
    "\n",
    "* [4am to 8pm ET](https://www.nasdaq.com/market-activity/stocks/opra/after-hours) for OPRA and\n",
    "* typically [7:30am to 22:00 CET](https://www.eurex.com/ex-en/trade/trading-hours#:~:text=The%20trading%20day%20at%20Eurex,30%20to%2022%3A00%20CET.) at the Eurex Exchange (EUREX)\n",
    "\n",
    "thankfully [this is simple](https://stackoverflow.com/questions/65607986/add-missing-timestamp-row-to-a-dataframe). Let's stick with the EUREX for now:"
   ]
  },
  {
   "cell_type": "code",
   "execution_count": null,
   "id": "29bf5891-d6e9-4922-a19c-f54472fb6817",
   "metadata": {},
   "outputs": [],
   "source": [
    "optnMrktPrice = _optnMrktPrice.resample('10Min').mean() # get a datapoint every 10 min\n",
    "optnMrktPrice = optnMrktPrice[optnMrktPrice.index.strftime('%Y-%m-%d').isin([i for i in _optnMrktPrice.index.strftime('%Y-%m-%d').unique()])]  # Only keep trading days\n",
    "optnMrktPrice = optnMrktPrice.loc[(optnMrktPrice.index.strftime('%H:%M:%S') >= '07:30:00') & (optnMrktPrice.index.strftime('%H:%M:%S') <= '22:00:00')]  # Only keep trading hours\n",
    "optnMrktPrice.fillna(method='ffill', inplace=True)  # Forward Fill to populate NaN values\n",
    "print(f\"Our dataframe started at {str(optnMrktPrice.index[0])} and went on continuously till {str(optnMrktPrice.index[-1])}, so out of trading hours rows are removed\")\n",
    "optnMrktPrice"
   ]
  },
  {
   "cell_type": "markdown",
   "id": "08cab23d-5800-4d0a-b292-4ba38278a642",
   "metadata": {},
   "source": [
    "Note that the option might not have traded in the past 10 min. This can cause issues in the [code below](https://stackoverflow.com/questions/32723150/rounding-up-to-nearest-30-minutes-in-python), we thus ought to add a row for the current time:"
   ]
  },
  {
   "cell_type": "code",
   "execution_count": null,
   "id": "a38b0286-7801-4030-a242-1240908510dd",
   "metadata": {},
   "outputs": [],
   "source": [
    "# optnMrktPrice = optnMrktPrice.append(\n",
    "#     pd.DataFrame(\n",
    "#         [[pd.NA]], columns=optnMrktPrice.columns,\n",
    "#         index=[(endDateTime + (datetime.min - endDateTime) % timedelta(minutes=10))]))\n",
    "# optnMrktPrice"
   ]
  },
  {
   "cell_type": "markdown",
   "id": "05c2df1e-ec2d-41a0-8851-032e80093935",
   "metadata": {},
   "source": [
    "## Underlying Asset Price\n",
    "\n",
    "Now let's get data for the underying, which we need to calculate IV:"
   ]
  },
  {
   "cell_type": "code",
   "execution_count": null,
   "id": "35f1681a-1b82-47d3-ad6b-8625a1f7464c",
   "metadata": {},
   "outputs": [],
   "source": [
    "underlying = searchDf2.iloc[(searchDf2['StrikePrice']-currentUnderlyingPrc).abs().argsort()[:1]].UnderlyingQuoteRIC.values[0][0]\n",
    "underlying"
   ]
  },
  {
   "cell_type": "markdown",
   "id": "b2084538-a967-4892-8f32-ecd4ee0a9c12",
   "metadata": {},
   "source": [
    "If you are interested in the opening times of any one exchange, you can use the following:"
   ]
  },
  {
   "cell_type": "code",
   "execution_count": null,
   "id": "4b2158f0-cc6e-4de5-8b95-f2b61cb24239",
   "metadata": {},
   "outputs": [],
   "source": [
    "hoursDf = rd.get_data(universe=[\"EUREX21\"],\n",
    "                      fields=[\"ROW80_10\"])\n",
    "display(hoursDf)\n",
    "hoursDf.iloc[0,1]"
   ]
  },
  {
   "cell_type": "code",
   "execution_count": null,
   "id": "6d4b2ef9-a3da-4080-8d52-ff420ef2fe9b",
   "metadata": {},
   "outputs": [],
   "source": [
    "_underlyingMrktPrice = rd.get_history(\n",
    "    universe=[underlying],\n",
    "    fields=[\"TRDPRC_1\"],\n",
    "    interval=\"10min\",\n",
    "    start=start,\n",
    "    end=end)"
   ]
  },
  {
   "cell_type": "code",
   "execution_count": null,
   "id": "44ff0bd5-320b-4b93-a33b-936486a3082d",
   "metadata": {},
   "outputs": [],
   "source": [
    "_underlyingMrktPrice"
   ]
  },
  {
   "cell_type": "markdown",
   "id": "3f6dc88a-ba0d-4205-98c0-b38e070b8665",
   "metadata": {},
   "source": [
    "Let's put it al in one data-frame, `df`. Some datasets will have data going from the time we sert for `start` all the way to `end`. Some won't because no trade happened in the past few minutes/hours. We ought to base ourselves on the dataset with values getting closer to `end` and `ffill` for the other column. As a result, the following `if` loop is needed:"
   ]
  },
  {
   "cell_type": "code",
   "execution_count": null,
   "id": "5224e808-0a37-4620-a0c8-60dca142cd62",
   "metadata": {},
   "outputs": [],
   "source": [
    "if optnMrktPrice.index[-1] >= _underlyingMrktPrice.index[-1]:\n",
    "    df = optnMrktPrice.copy()\n",
    "    df['underlying ' + underlying + ' TRDPRC_1'] = _underlyingMrktPrice\n",
    "else:\n",
    "    df = _underlyingMrktPrice.copy()\n",
    "    df.rename(columns={\"TRDPRC_1\": 'underlying ' + underlying + ' TRDPRC_1'}, inplace=True)\n",
    "    df['TRDPRC_1'] = optnMrktPrice\n",
    "    df.columns.name = optnMrktPrice.columns.name\n",
    "df.fillna(method='ffill', inplace=True)  # Forward Fill to populate NaN values\n",
    "df = df.dropna()\n",
    "df"
   ]
  },
  {
   "cell_type": "markdown",
   "id": "ce1bfcaa-22f2-4631-9abc-e738225206b3",
   "metadata": {},
   "source": [
    "## Strike Price"
   ]
  },
  {
   "cell_type": "code",
   "execution_count": null,
   "id": "a6167a3b-ac44-4355-b1b3-5cdc44e2d3c2",
   "metadata": {},
   "outputs": [],
   "source": [
    "strikePrice = searchDf2.iloc[(searchDf2['StrikePrice']-currentUnderlyingPrc).abs().argsort()[:1]].StrikePrice.values[0]"
   ]
  },
  {
   "cell_type": "code",
   "execution_count": null,
   "id": "a46000db-e90a-4041-80c3-6b1339edb447",
   "metadata": {},
   "outputs": [],
   "source": [
    "strikePrice"
   ]
  },
  {
   "cell_type": "markdown",
   "id": "8e122a89-8026-448b-85e1-94cd333a6315",
   "metadata": {},
   "source": [
    "## Risk-Free Interest Rate"
   ]
  },
  {
   "cell_type": "code",
   "execution_count": null,
   "id": "e94b03d0-7443-4c4d-bab1-18e26c21e248",
   "metadata": {},
   "outputs": [],
   "source": [
    "_EurRfRate = rd.get_history(\n",
    "    universe=['EURIBOR3MD='],  # USD3MFSR=, USDSOFR=\n",
    "    fields=['TR.FIXINGVALUE'],\n",
    "    # Since we will use `dropna()` as a way to select the rows we are after later on in the code, we need to ask for more risk-free data than needed, just in case we don't have enough:\n",
    "    start=(datetime.strptime(start, '%Y-%m-%dT%H:%M:%S.%f') - timedelta(days=1)).strftime('%Y-%m-%d'),\n",
    "    end=(datetime.strptime(end, '%Y-%m-%dT%H:%M:%S.%f') + timedelta(days=1)).strftime('%Y-%m-%d'))"
   ]
  },
  {
   "cell_type": "code",
   "execution_count": null,
   "id": "be641d50-abaf-48a9-acb8-ff68bae63bf9",
   "metadata": {},
   "outputs": [],
   "source": [
    "_EurRfRate"
   ]
  },
  {
   "cell_type": "markdown",
   "id": "1fa2f2fc-e8a2-4b89-9377-4c28daef8f8f",
   "metadata": {},
   "source": [
    "Euribor values are released daily at [11am CET](https://www.emmi-benchmarks.eu/benchmarks/euribor/), and it is published as such on Refinitiv:\n",
    "\n",
    "<img src=\"Docs/EUREX Fixing Value update time.PNG\">"
   ]
  },
  {
   "cell_type": "code",
   "execution_count": null,
   "id": "9ce8ca1b-74be-418a-815e-d3d156fbc2cc",
   "metadata": {},
   "outputs": [],
   "source": [
    "EurRfRate = _EurRfRate.resample('10Min').mean().fillna(method='ffill')\n",
    "df['EurRfRate'] = EurRfRate\n",
    "df = df.fillna(method='ffill')\n",
    "df"
   ]
  },
  {
   "cell_type": "markdown",
   "id": "0113cabf-3c3a-4f85-abb0-c10f99d61f17",
   "metadata": {},
   "source": [
    "## annualized continuous dividend rate\n",
    "\n",
    "We are going to assume no dividends."
   ]
  },
  {
   "cell_type": "markdown",
   "id": "1d556a3a-1dec-49bc-b82c-75da8e80db57",
   "metadata": {
    "tags": []
   },
   "source": [
    "## Calculating IV"
   ]
  },
  {
   "cell_type": "markdown",
   "id": "3e9b9dea-a77a-4645-bd63-d6071e61285e",
   "metadata": {
    "tags": []
   },
   "source": [
    "### Using IPA\n",
    "\n",
    "On the Developer Portal, one can see [documentation](https://developers.refinitiv.com/en/api-catalog/refinitiv-data-platform/refinitiv-data-platform-apis/documentation#ipa-financial-contracts-option-contracts-eti) about the Instrument Pricing Analytics service that allows access to calculating functions (that use to be called 'AdFin'). This service is accessible via several [RESTful](https://aws.amazon.com/what-is/restful-api/) endpoints (in a familly of endpoints called 'Quantitative Analytics') which can be used via [RD](https://developers.refinitiv.com/en/api-catalog/refinitiv-data-platform/refinitiv-data-library-for-python):"
   ]
  },
  {
   "cell_type": "markdown",
   "id": "ee6b0a9f-e7f0-4b47-9e7c-a098fe54c775",
   "metadata": {},
   "source": [
    "Data returned this far was time-stamped in the GMT Time Zone, we need to re-calibrate it to the timezone of our machine:"
   ]
  },
  {
   "cell_type": "code",
   "execution_count": null,
   "id": "c23336bf-c829-4621-9f12-dcb97e6c9f5e",
   "metadata": {},
   "outputs": [],
   "source": [
    "dfGMT = df.copy()\n",
    "dfLocalTimeZone = df.copy()\n",
    "dfLocalTimeZone.index = [\n",
    "    df.index[i].replace(\n",
    "        tzinfo=pytz.timezone(\n",
    "            'GMT')).astimezone(\n",
    "        tz=datetime.now().astimezone().tzinfo)\n",
    "    for i in range(len(df))]"
   ]
  },
  {
   "cell_type": "code",
   "execution_count": null,
   "id": "83780db4-dc9b-4c13-8eb7-ec75ef29839c",
   "metadata": {},
   "outputs": [],
   "source": [
    "dfGMT"
   ]
  },
  {
   "cell_type": "code",
   "execution_count": null,
   "id": "0f2ddc04-6b25-433b-b713-e7ad53c20eff",
   "metadata": {},
   "outputs": [],
   "source": [
    "dfLocalTimeZone"
   ]
  },
  {
   "cell_type": "code",
   "execution_count": null,
   "id": "bbc7a28c-8424-4891-8d97-9349b09ab829",
   "metadata": {},
   "outputs": [],
   "source": [
    "universeL = [\n",
    "        {\n",
    "          \"instrumentType\": \"Option\",\n",
    "          \"instrumentDefinition\": {\n",
    "            \"buySell\": \"Buy\",\n",
    "            \"underlyingType\": \"Eti\",\n",
    "            \"instrumentCode\": instrument,\n",
    "            \"strike\": str(strikePrice),\n",
    "          },\n",
    "          \"pricingParameters\": {\n",
    "            \"marketValueInDealCcy\": str(dfLocalTimeZone['TRDPRC_1'][i]),\n",
    "            \"riskFreeRatePercent\": str(dfLocalTimeZone['EurRfRate'][i]),\n",
    "            \"underlyingPrice\": str(dfLocalTimeZone['underlying ' + underlying + ' TRDPRC_1'][i]),\n",
    "            \"pricingModelType\": \"BlackScholes\",\n",
    "            \"dividendType\": \"ImpliedYield\",\n",
    "            \"volatilityType\": \"Implied\",\n",
    "            \"underlyingTimeStamp\": \"Default\",\n",
    "            \"reportCcy\": \"EUR\"\n",
    "          }\n",
    "        }\n",
    "      for i in range(len(dfLocalTimeZone.index))]"
   ]
  },
  {
   "cell_type": "code",
   "execution_count": null,
   "id": "8f4b3972-66b7-49e7-88c8-ea8e1b791ba5",
   "metadata": {},
   "outputs": [],
   "source": [
    "def chunks(lst, n):\n",
    "    \"\"\"Yield successive n-sized chunks from lst.\"\"\"\n",
    "    for i in range(0, len(lst), n):\n",
    "        yield lst[i:i + n]"
   ]
  },
  {
   "cell_type": "code",
   "execution_count": null,
   "id": "4310cf4b-6f2c-42a1-85e6-e4ecea25e135",
   "metadata": {},
   "outputs": [],
   "source": [
    "for i, j in enumerate(chunks(universeL, 100)):\n",
    "    print(i)\n",
    "    # Example request with Body Parameter - Symbology Lookup\n",
    "    request_definition = rd.delivery.endpoint_request.Definition(\n",
    "        method=rd.delivery.endpoint_request.RequestMethod.POST,\n",
    "        url='https://api.refinitiv.com/data/quantitative-analytics/v1/financial-contracts',\n",
    "        body_parameters={\n",
    "            \"fields\": [\n",
    "                \"MarketValueInDealCcy\",\n",
    "                \"RiskFreeRatePercent\",\n",
    "                \"UnderlyingPrice\",\n",
    "                \"PricingModelType\",\n",
    "                \"DividendType\",\n",
    "                \"VolatilityType\",\n",
    "                \"UnderlyingTimeStamp\",\n",
    "                \"ReportCcy\",\n",
    "                \"VolatilityType\",\n",
    "                \"Volatility\",\n",
    "                \"DeltaPercent\",\n",
    "                \"GammaPercent\",\n",
    "                \"RhoPercent\",\n",
    "                \"ThetaPercent\",\n",
    "                \"VegaPercent\"\n",
    "            ],\n",
    "            \"outputs\": [\n",
    "                \"Data\",\n",
    "                \"Headers\"\n",
    "            ],\n",
    "            \"universe\": j\n",
    "        }\n",
    "    )\n",
    "\n",
    "    response3 = request_definition.get_data()\n",
    "    headers_name = [h['name'] for h in response3.data.raw['headers']]\n",
    "\n",
    "    if i == 0:\n",
    "        response3df = pd.DataFrame(data=response3.data.raw['data'], columns=headers_name)\n",
    "    else:\n",
    "        _response3df = pd.DataFrame(data=response3.data.raw['data'], columns=headers_name)\n",
    "        response3df = response3df.append(_response3df, ignore_index=True)"
   ]
  },
  {
   "cell_type": "code",
   "execution_count": null,
   "id": "57f85b7d-0130-4ee1-974a-08d8e5afb8f7",
   "metadata": {},
   "outputs": [],
   "source": [
    "response3df"
   ]
  },
  {
   "cell_type": "code",
   "execution_count": null,
   "id": "388739a6-b138-47b3-b92b-9d4b0828581a",
   "metadata": {},
   "outputs": [],
   "source": [
    "IPADf = response3df.copy()\n",
    "IPADf.index = dfLocalTimeZone.index\n",
    "IPADf.columns.name = dfLocalTimeZone.columns.name\n",
    "IPADf.rename(columns={\"Volatility\": 'ImpliedVolatility'}, inplace=True)"
   ]
  },
  {
   "cell_type": "code",
   "execution_count": null,
   "id": "0af504e3-004f-4dd8-a87a-f7132c97d91d",
   "metadata": {},
   "outputs": [],
   "source": [
    "IPADf"
   ]
  },
  {
   "cell_type": "code",
   "execution_count": null,
   "id": "a173c89e-d814-48e2-acb8-151be1b1288f",
   "metadata": {},
   "outputs": [],
   "source": [
    "IPADf[\"100 - Volatility\"] = 100 - IPADf[\"ImpliedVolatility\"]"
   ]
  },
  {
   "cell_type": "markdown",
   "id": "21631c58-e7ce-4270-a322-52cd8230578d",
   "metadata": {},
   "source": [
    "### Simple Line Graphs without out-of-trading hours"
   ]
  },
  {
   "cell_type": "code",
   "execution_count": null,
   "id": "4ad650e8-9d5c-4d32-b79f-0f3da511a36f",
   "metadata": {},
   "outputs": [],
   "source": [
    "display(searchDf2.iloc[(searchDf2['StrikePrice']-currentUnderlyingPrc).abs().argsort()[:1]])\n",
    "\n",
    "IPADfGraph = IPADf[['ImpliedVolatility', 'MarketValueInDealCcy',\n",
    "                    'RiskFreeRatePercent', 'UnderlyingPrice', 'DeltaPercent',\n",
    "                    'GammaPercent', 'RhoPercent', 'ThetaPercent', 'VegaPercent']]\n",
    "\n",
    "fig = px.line(IPADfGraph)  # This is just to see the implied vol graph when that field is available\n",
    "fig.layout = dict(xaxis=dict(type=\"category\"))\n",
    "\n",
    "# Format Graph: https://plotly.com/python/tick-formatting/\n",
    "fig.update_layout(\n",
    "    title=instrument,\n",
    "    template='plotly_dark',\n",
    "    xaxis=dict(\n",
    "        tickmode='array',\n",
    "        tickvals=list(\n",
    "            range(len(IPADfGraph.index)))[0::35],  # Thought of replacing `35` with `math.ceil(len(IPADfGraph.index)/10)`\n",
    "        ticktext=[IPADf.index[i] for i in list(\n",
    "            range(len(IPADfGraph.index)))[0::35]]))\n",
    "\n",
    "# Make it so that only one line is shown by default: # https://stackoverflow.com/questions/73384807/plotly-express-plot-subset-of-dataframe-columns-by-default-and-the-rest-as-opt\n",
    "fig.for_each_trace(\n",
    "    lambda t: t.update(\n",
    "        visible=True if t.name in IPADfGraph.columns[:1] else \"legendonly\"))\n",
    "\n",
    "# fig.update_xaxes(autorange=True)\n",
    "# fig.update_layout(yaxis=IPADf.index[0::10])\n",
    "\n",
    "fig.show()"
   ]
  },
  {
   "cell_type": "markdown",
   "id": "8b9725da-1d4e-4f82-9097-e4a3b49b1303",
   "metadata": {},
   "source": [
    "### With out-of-trading hours"
   ]
  },
  {
   "cell_type": "code",
   "execution_count": null,
   "id": "056e6bb0-9e22-437c-809c-a88cc3097ff5",
   "metadata": {},
   "outputs": [],
   "source": [
    "display(searchDf2.iloc[(searchDf2['StrikePrice']-currentUnderlyingPrc).abs().argsort()[:1]])\n",
    "\n",
    "IPADfGraph = IPADf[['ImpliedVolatility', 'MarketValueInDealCcy',\n",
    "                    'RiskFreeRatePercent', 'UnderlyingPrice', 'DeltaPercent',\n",
    "                    'GammaPercent', 'RhoPercent', 'ThetaPercent', 'VegaPercent']]\n",
    "\n",
    "fig = px.line(IPADfGraph)  # This is just to see the implied vol graph when that field is available\n",
    "# fig.layout = dict(xaxis=dict(type=\"category\"))\n",
    "\n",
    "# Format Graph: https://plotly.com/python/tick-formatting/\n",
    "fig.update_layout(\n",
    "    title=instrument,\n",
    "    template='plotly_dark')\n",
    "\n",
    "# Make it so that only one line is shown by default: # https://stackoverflow.com/questions/73384807/plotly-express-plot-subset-of-dataframe-columns-by-default-and-the-rest-as-opt\n",
    "fig.for_each_trace(\n",
    "    lambda t: t.update(\n",
    "        visible=True if t.name in IPADfGraph.columns[:1] else \"legendonly\"))\n",
    "\n",
    "# fig.update_xaxes(autorange=True)\n",
    "# fig.update_layout(yaxis=IPADf.index[0::10])\n",
    "\n",
    "fig.show()"
   ]
  },
  {
   "cell_type": "markdown",
   "id": "5211ca55-1bd6-483c-a521-bfc4bb6830a4",
   "metadata": {},
   "source": [
    "### 3 Graphs"
   ]
  },
  {
   "cell_type": "code",
   "execution_count": null,
   "id": "1c80f207-86a5-4b6c-999d-e17ae0a18f0a",
   "metadata": {},
   "outputs": [],
   "source": [
    "fig = make_subplots(rows=3, cols=1)\n",
    "\n",
    "fig.add_trace(go.Scatter(x=IPADf.index, y=IPADf.ImpliedVolatility, name='Op Imp Volatility'), row=1, col=1)\n",
    "fig.add_trace(go.Scatter(x=IPADf.index, y=IPADf.MarketValueInDealCcy, name='Op Mk Pr'), row=2, col=1)\n",
    "fig.add_trace(go.Scatter(x=IPADf.index, y=IPADf.UnderlyingPrice, name=underlying+' Undrlyg Pr'), row=3, col=1)\n",
    "\n",
    "\n",
    "fig.update(layout_xaxis_rangeslider_visible=False)\n",
    "fig.update_layout(title=IPADf.columns.name)\n",
    "fig.update_layout(\n",
    "    template='plotly_dark',\n",
    "    autosize=False,\n",
    "    width=1300,\n",
    "    height=500)\n",
    "fig.show()\n",
    "searchDf2.iloc[(searchDf2['StrikePrice']-currentUnderlyingPrc).abs().argsort()[:1]]"
   ]
  },
  {
   "cell_type": "markdown",
   "id": "acea300d-7764-492f-a43f-15301d7ef4e5",
   "metadata": {},
   "source": [
    "## EUREX Put Options"
   ]
  },
  {
   "cell_type": "code",
   "execution_count": null,
   "id": "12d0e1bc-d89c-4f08-b0b6-95e7f19ccd35",
   "metadata": {},
   "outputs": [],
   "source": [
    "def ImpVolatilityCalcIPA(x=15,\n",
    "                         indexUnderlying=\".STOXX50E\",\n",
    "                         callOrPut='Put',\n",
    "                         dateBack=4,\n",
    "                         expiryYearOfInterest=datetime.now().year,\n",
    "                         riskFreeRate=None, riskFreeRateField=None,\n",
    "                         timeZoneInGraph=datetime.now().astimezone(),\n",
    "                         maxColwidth=200,\n",
    "                         graphStyle='without out of trading hours',\n",
    "                         graphTemplate='plotly_dark',\n",
    "                         debug=False,\n",
    "                         returnDfGraph=False):\n",
    "\n",
    "\n",
    "    if indexUnderlying == \".STOXX50E\":\n",
    "        exchangeC, exchangeRIC, mcalGetCalendar = 'EUX', 'STX', 'EUREX'\n",
    "    elif indexUnderlying == '.SPX':\n",
    "        exchangeC, exchangeRIC, mcalGetCalendar = 'OPQ', 'SPX', 'CBOE_Futures'# 'CBOE_Index_Options'  # should be 'CBOE_Index_Options'... CBOT_Equity\n",
    "\n",
    "\n",
    "    def get_exp_dates(year=expiryYearOfInterest,\n",
    "                      days=True,\n",
    "                      mcal_get_calendar=mcalGetCalendar):\n",
    "        '''\n",
    "        get_exp_dates Version 3.0:\n",
    "\n",
    "        This function gets expiration dates for a year for NDX options, which are the 3rd Fridays of each month.\n",
    "\n",
    "        Changes\n",
    "        ----------------------------------------------\n",
    "        Changed from Version 1.0 to 2.0: Jonathan Legrand chaned Haykaz Aramyan's original code to allow\n",
    "            (i) for the function's holiday argument to be changed, and defaulted to 'EUREX' as opposed to 'CBOE_Index_Options' and\n",
    "            (ii) for the function to output full date objects as opposed to just days of the month if agument days=True.\n",
    "\n",
    "        Changed from Version 2.0 to 3.0: Jonathan Legrand chaned this function to reflec tthe fact that it can be used for indexes other than EUREX.\n",
    "\n",
    "        Dependencies\n",
    "        ----------------------------------------------\n",
    "        Python library 'pandas_market_calendars' version 3.2\n",
    "\n",
    "        Parameters\n",
    "        -----------------------------------------------\n",
    "        Input:\n",
    "            year(int): year for which expiration days are requested\n",
    "\n",
    "            mcal_get_calendar(str): String of the calendar for which holidays have to be taken into account. More on this calendar (link to Github chacked 2022-10-11): https://github.com/rsheftel/pandas_market_calendars/blob/177e7922c7df5ad249b0d066b5c9e730a3ee8596/pandas_market_calendars/exchange_calendar_cboe.py\n",
    "                Default: mcal_get_calendar='EUREX'\n",
    "\n",
    "            days(bool): If True, only days of the month is outputed, else it's dataeime objects\n",
    "                Default: days=True\n",
    "\n",
    "        Output:\n",
    "            dates(dict): dictionary of expiration days for each month of a specified year in datetime.date format.\n",
    "        '''\n",
    "\n",
    "        # get CBOE market holidays\n",
    "        Cal = mcal.get_calendar(mcal_get_calendar)\n",
    "        holidays = Cal.holidays().holidays\n",
    "\n",
    "        # set calendar starting from Saturday\n",
    "        c = calendar.Calendar(firstweekday=calendar.SATURDAY)\n",
    "\n",
    "        # get the 3rd Friday of each month\n",
    "        exp_dates = {}\n",
    "        for i in range(1, 13):\n",
    "            monthcal = c.monthdatescalendar(year, i)\n",
    "            date = monthcal[2][-1]\n",
    "            # check if found date is an holiday and get the previous date if it is\n",
    "            if date in holidays:\n",
    "                date = date + timedelta(-1)\n",
    "            # append the date to the dictionary\n",
    "            if year in exp_dates:\n",
    "                ### Changed from original code from here on by Jonathan Legrand on 2022-10-11\n",
    "                if days: exp_dates[year].append(date.day)\n",
    "                else: exp_dates[year].append(date)\n",
    "            else:\n",
    "                if days: exp_dates[year] = [date.day]\n",
    "                else: exp_dates[year] = [date]\n",
    "        return exp_dates\n",
    "\n",
    "    timeOfCalcDatetime = datetime.now()  # For now, we will focuss on the use-case where we are calculating values for today; later we will allow for it historically for any day going back a few business days.\n",
    "    timeOfCalcStr = datetime.now().strftime('%Y-%m-%d')\n",
    "    fullDatesAtTimeOfCalc = get_exp_dates(timeOfCalcDatetime.year, days=False)  # `timeOfCalcDatetime.year` here is 2022\n",
    "    fullDatesAtTimeOfCalcDatetime = [\n",
    "        datetime(i.year, i.month, i.day)\n",
    "        for i in fullDatesAtTimeOfCalc[list(fullDatesAtTimeOfCalc.keys())[0]]]\n",
    "    expiryDateOfInt = [i for i in fullDatesAtTimeOfCalcDatetime\n",
    "                       if i > timeOfCalcDatetime + relativedelta(days=x)][0]\n",
    "\n",
    "    if debug==True: print(f\"expiryDateOfInt: {expiryDateOfInt}\")\n",
    "\n",
    "    response = search.Definition(\n",
    "        view = search.Views.SEARCH_ALL, # To see what views are available: `help(search.Views)` & `search.metadata.Definition(view = search.Views.SEARCH_ALL).get_data().data.df.to_excel(\"SEARCH_ALL.xlsx\")`\n",
    "        query=indexUnderlying,\n",
    "        select=\"DocumentTitle, RIC, StrikePrice, ExchangeCode, ExpiryDate, UnderlyingAsset, \" +\n",
    "                \"UnderlyingAssetName, UnderlyingAssetRIC, ESMAUnderlyingIndexCode, RCSUnderlyingMarket\" +\n",
    "                \"UnderlyingQuoteName, UnderlyingQuoteRIC\",\n",
    "        filter=f\"RCSAssetCategoryLeaf eq 'Option' and RIC eq '{exchangeRIC}*' and DocumentTitle ne '*Weekly*' \" +\n",
    "        f\"and CallPutOption eq '{callOrPut}' and ExchangeCode eq '{exchangeC}' and \" +\n",
    "        f\"ExpiryDate ge {(expiryDateOfInt - relativedelta(days=1)).strftime('%Y-%m-%d')} \" +\n",
    "        f\"and ExpiryDate lt {(expiryDateOfInt + relativedelta(days=1)).strftime('%Y-%m-%d')}\",  # ge (greater than or equal to), gt (greater than), lt (less than) and le (less than or equal to). These can only be applied to numeric and date properties.\n",
    "        top=10000,\n",
    "    ).get_data()\n",
    "    searchDf = response.data.df\n",
    "\n",
    "    if debug==True: display(searchDf)\n",
    "\n",
    "    if debug==True: display(searchDf.iloc[(searchDf['StrikePrice']-currentUnderlyingPrc).abs().argsort()[:10]])\n",
    "\n",
    "    try:\n",
    "        underlyingPrice =  rd.get_history(\n",
    "            universe=[searchDf.UnderlyingQuoteRIC[0][0]],\n",
    "            fields=[\"TRDPRC_1\"],\n",
    "            interval=\"tick\").iloc[-1][0]\n",
    "    except:\n",
    "        print(\"Function failed at the search strage, returning the following dataframe: \")\n",
    "        display(searchDf)\n",
    "\n",
    "    instrument = searchDf.iloc[(searchDf['StrikePrice']-currentUnderlyingPrc).abs().argsort()[:1]].RIC.values[0]\n",
    "\n",
    "    start = (timeOfCalcDatetime - pd.tseries.offsets.BDay(dateBack)).strftime('%Y-%m-%dT%H:%M:%S.%f')  # '2022-10-05T07:30:00.000'\n",
    "    endDateTime = datetime.now()\n",
    "    end = endDateTime.strftime('%Y-%m-%dT%H:%M:%S.%f')  #  e.g.: '2022-09-09T20:00:00.000'\n",
    "\n",
    "    _optnMrktPrice = rd.get_history(\n",
    "        universe=[instrument],\n",
    "        fields=[\"TRDPRC_1\"],\n",
    "        interval=\"10min\",\n",
    "        start=start,  # Ought to always start at 4 am for OPRA exchanged Options, more info in the article below\n",
    "        end=end)  # Ought to always end at 8 pm for OPRA exchanged Options, more info in the article below\n",
    "\n",
    "    if debug==True: print(instrument)\n",
    "\n",
    "    if debug==True: display(_optnMrktPrice)\n",
    "\n",
    "    ## Data on certain options are stale and do not nessesarily show up on Workspace, in case that happens, we will pick the next ATM Option, which probably will have the same strike, but we will only do so once, any more and we could get too far from strike:\n",
    "    if _optnMrktPrice.empty:\n",
    "        if debug==True: print(f\"No data could be found for {instrument}, so the next ATM Option was chosen\")\n",
    "        instrument = searchDf.iloc[(searchDf['StrikePrice']-currentUnderlyingPrc).abs().argsort()[1:2]].RIC.values[0]\n",
    "        if debug==True: print(f\"{instrument}\")\n",
    "        _optnMrktPrice = rd.get_history(universe=[instrument],\n",
    "                                        fields=[\"TRDPRC_1\"], interval=\"10min\",\n",
    "                                        start=start, end=end)\n",
    "        if debug==True: display(_optnMrktPrice)\n",
    "    if _optnMrktPrice.empty:  # Let's try one more time, as is often nessesary\n",
    "        if debug==True: print(f\"No data could be found for {instrument}, so the next ATM Option was chosen\")\n",
    "        instrument = searchDf.iloc[(searchDf['StrikePrice']-currentUnderlyingPrc).abs().argsort()[2:3]].RIC.values[0]\n",
    "        if debug==True: print(f\"{instrument}\")\n",
    "        _optnMrktPrice = rd.get_history(universe=[instrument],\n",
    "                                        fields=[\"TRDPRC_1\"], interval=\"10min\",\n",
    "                                        start=start, end=end)\n",
    "        if debug==True: display(_optnMrktPrice)\n",
    "    if _optnMrktPrice.empty:\n",
    "        print(f\"No data could be found for {instrument}, please check it on Refinitiv Workspace\")\n",
    "\n",
    "    optnMrktPrice = _optnMrktPrice.resample('10Min').mean() # get a datapoint every 10 min\n",
    "    optnMrktPrice = optnMrktPrice[optnMrktPrice.index.strftime('%Y-%m-%d').isin([i for i in _optnMrktPrice.index.strftime('%Y-%m-%d').unique()])]  # Only keep trading days\n",
    "    optnMrktPrice = optnMrktPrice.loc[(optnMrktPrice.index.strftime('%H:%M:%S') >= '07:30:00') & (optnMrktPrice.index.strftime('%H:%M:%S') <= '22:00:00')]  # Only keep trading hours\n",
    "    optnMrktPrice.fillna(method='ffill', inplace=True)  # Forward Fill to populate NaN values\n",
    "\n",
    "    underlying = searchDf.iloc[(searchDf['StrikePrice']-currentUnderlyingPrc).abs().argsort()[:1]].UnderlyingQuoteRIC.values[0][0]\n",
    "\n",
    "    _underlyingMrktPrice = rd.get_history(\n",
    "        universe=[underlying],\n",
    "        fields=[\"TRDPRC_1\"],\n",
    "        interval=\"10min\",\n",
    "        start=start,\n",
    "        end=end)\n",
    "    # Let's put it al in one data-frame, `df`. Some datasets will have data\n",
    "    # going from the time we sert for `start` all the way to `end`. Some won't\n",
    "    # because no trade happened in the past few minutes/hours. We ought to base\n",
    "    # ourselves on the dataset with values getting closer to `end` and `ffill`\n",
    "    # for the other column. As a result, the following `if` loop is needed:\n",
    "    if optnMrktPrice.index[-1] >= _underlyingMrktPrice.index[-1]:\n",
    "        df = optnMrktPrice.copy()\n",
    "        df['underlying ' + underlying + ' TRDPRC_1'] = _underlyingMrktPrice\n",
    "    else:\n",
    "        df = _underlyingMrktPrice.copy()\n",
    "        df.rename(\n",
    "            columns={\"TRDPRC_1\": 'underlying ' + underlying + ' TRDPRC_1'},\n",
    "            inplace=True)\n",
    "        df['TRDPRC_1'] = optnMrktPrice\n",
    "        df.columns.name = optnMrktPrice.columns.name\n",
    "    df.fillna(method='ffill', inplace=True)  # Forward Fill to populate NaN values\n",
    "    df = df.dropna()\n",
    "\n",
    "    strikePrice = searchDf.iloc[(searchDf['StrikePrice']-currentUnderlyingPrc).abs().argsort()[:1]].StrikePrice.values[0]\n",
    "\n",
    "    if riskFreeRate is None and indexUnderlying == \".SPX\":\n",
    "        _riskFreeRate = 'USDCFCFCTSA3M='\n",
    "        _riskFreeRateField = 'TR.FIXINGVALUE'\n",
    "    elif riskFreeRate is None and indexUnderlying == \".STOXX50E\":\n",
    "        _riskFreeRate = 'EURIBOR3MD='\n",
    "        _riskFreeRateField = 'TR.FIXINGVALUE'\n",
    "    else:\n",
    "        _riskFreeRate, _riskFreeRateField = riskFreeRate, riskFreeRateField\n",
    "\n",
    "    _RfRate = rd.get_history(\n",
    "        universe=[_riskFreeRate],  # USD3MFSR=, USDSOFR=\n",
    "        fields=[_riskFreeRateField],\n",
    "        # Since we will use `dropna()` as a way to select the rows we are after later on in the code, we need to ask for more risk-free data than needed, just in case we don't have enough:\n",
    "        start=(datetime.strptime(start, '%Y-%m-%dT%H:%M:%S.%f') - timedelta(days=1)).strftime('%Y-%m-%d'),\n",
    "        end=(datetime.strptime(end, '%Y-%m-%dT%H:%M:%S.%f') + timedelta(days=1)).strftime('%Y-%m-%d'))\n",
    "\n",
    "    RfRate = _RfRate.resample('10Min').mean().fillna(method='ffill')\n",
    "    df['RfRate'] = RfRate\n",
    "    df = df.fillna(method='ffill')\n",
    "\n",
    "    if timeZoneInGraph != 'GMT':\n",
    "        df.index = [\n",
    "            df.index[i].replace(\n",
    "                tzinfo=pytz.timezone(\n",
    "                    'GMT')).astimezone(\n",
    "                tz=timeZoneInGraph.tzinfo)\n",
    "            for i in range(len(df))]\n",
    "\n",
    "    universeL = [\n",
    "        {\n",
    "          \"instrumentType\": \"Option\",\n",
    "          \"instrumentDefinition\": {\n",
    "            \"buySell\": \"Buy\",\n",
    "            \"underlyingType\": \"Eti\",\n",
    "            \"instrumentCode\": instrument,\n",
    "            \"strike\": str(strikePrice),\n",
    "          },\n",
    "          \"pricingParameters\": {\n",
    "            \"marketValueInDealCcy\": str(df['TRDPRC_1'][i]),\n",
    "            \"riskFreeRatePercent\": str(df['RfRate'][i]),\n",
    "            \"underlyingPrice\": str(df['underlying ' + underlying + ' TRDPRC_1'][i]),\n",
    "            \"pricingModelType\": \"BlackScholes\",\n",
    "            \"dividendType\": \"ImpliedYield\",\n",
    "            \"volatilityType\": \"Implied\",\n",
    "            \"underlyingTimeStamp\": \"Default\",\n",
    "            \"reportCcy\": \"EUR\"\n",
    "          }\n",
    "        }\n",
    "      for i in range(len(df.index))]\n",
    "\n",
    "    def chunks(lst, n):\n",
    "        \"\"\"Yield successive n-sized chunks from lst.\"\"\"\n",
    "        for i in range(0, len(lst), n):\n",
    "            yield lst[i:i + n]\n",
    "\n",
    "    for i, j in enumerate(chunks(universeL, 100)):\n",
    "        # Example request with Body Parameter - Symbology Lookup\n",
    "        request_definition = rd.delivery.endpoint_request.Definition(\n",
    "            method=rd.delivery.endpoint_request.RequestMethod.POST,\n",
    "            url='https://api.refinitiv.com/data/quantitative-analytics/v1/financial-contracts',\n",
    "            body_parameters={\n",
    "                \"fields\": [\n",
    "                    \"MarketValueInDealCcy\",\n",
    "                    \"RiskFreeRatePercent\",\n",
    "                    \"UnderlyingPrice\",\n",
    "                    \"PricingModelType\",\n",
    "                    \"DividendType\",\n",
    "                    \"VolatilityType\",\n",
    "                    \"UnderlyingTimeStamp\",\n",
    "                    \"ReportCcy\",\n",
    "                    \"VolatilityType\",\n",
    "                    \"Volatility\",\n",
    "                    \"DeltaPercent\",\n",
    "                    \"GammaPercent\",\n",
    "                    \"RhoPercent\",\n",
    "                    \"ThetaPercent\",\n",
    "                    \"VegaPercent\"\n",
    "                ],\n",
    "                \"outputs\": [\n",
    "                    \"Data\",\n",
    "                    \"Headers\"\n",
    "                ],\n",
    "                \"universe\": j\n",
    "            }\n",
    "        )\n",
    "        response2 = request_definition.get_data()\n",
    "        headers_name = [h['name'] for h in response2.data.raw['headers']]\n",
    "        if i == 0:\n",
    "            response2df = pd.DataFrame(data=response2.data.raw['data'], columns=headers_name)\n",
    "        else:\n",
    "            _response2df = pd.DataFrame(data=response2.data.raw['data'], columns=headers_name)\n",
    "            response2df = response2df.append(_response2df, ignore_index=True)\n",
    "\n",
    "    IPADf = response2df.copy()\n",
    "    IPADf.index = df.index\n",
    "    IPADf.columns.name = df.columns.name\n",
    "    IPADf.rename(columns={\"Volatility\": 'ImpliedVolatility'}, inplace=True)\n",
    "\n",
    "    pd.options.display.max_colwidth = maxColwidth\n",
    "    display(searchDf.iloc[(searchDf['StrikePrice']-currentUnderlyingPrc).abs().argsort()[:1]])\n",
    "\n",
    "    IPADfGraph = IPADf[['ImpliedVolatility', 'MarketValueInDealCcy',\n",
    "                        'RiskFreeRatePercent', 'UnderlyingPrice', 'DeltaPercent',\n",
    "                        'GammaPercent', 'RhoPercent', 'ThetaPercent', 'VegaPercent']]\n",
    "\n",
    "    if debug==True: display(IPADfGraph)\n",
    "\n",
    "    try: # his is needed in case there is not enough data to calculate values for all timestamps , see https://stackoverflow.com/questions/67244912/wide-format-csv-with-plotly-express\n",
    "        fig = px.line(IPADfGraph)\n",
    "    except:\n",
    "        if returnDfGraph==True:\n",
    "            return IPADfGraph\n",
    "        else:\n",
    "            IPADfGraph = IPADfGraph[[\"ImpliedVolatility\",\"MarketValueInDealCcy\",\"RiskFreeRatePercent\",\"UnderlyingPrice\"]]\n",
    "            fig = px.line(IPADfGraph)\n",
    "\n",
    "    if graphStyle=='without out of trading hours':\n",
    "        fig.layout = dict(xaxis=dict(type=\"category\"))\n",
    "        # Format Graph: https://plotly.com/python/tick-formatting/\n",
    "        fig.update_layout(\n",
    "            title=instrument,\n",
    "            template='plotly_dark',\n",
    "            xaxis=dict(\n",
    "                tickmode='array',\n",
    "                tickvals=list(\n",
    "                    range(len(IPADfGraph.index)))[0::35],  # Thought of replacing `35` with `math.ceil(len(IPADfGraph.index)/10)`\n",
    "                ticktext=[IPADf.index[i] for i in list(\n",
    "                    range(len(IPADfGraph.index)))[0::35]]))\n",
    "        # Make it so that only one line is shown by default: # https://stackoverflow.com/questions/73384807/plotly-express-plot-subset-of-dataframe-columns-by-default-and-the-rest-as-opt\n",
    "        fig.for_each_trace(\n",
    "            lambda t: t.update(\n",
    "                visible=True if t.name in IPADfGraph.columns[:1] else \"legendonly\"))\n",
    "\n",
    "    elif graphStyle=='with out of trading hours':\n",
    "        fig.update_layout(\n",
    "            title=instrument,\n",
    "            template=graphTemplate)\n",
    "        fig.for_each_trace(\n",
    "            lambda t: t.update(\n",
    "                visible=True if t.name in IPADfGraph.columns[:1] else \"legendonly\"))\n",
    "\n",
    "    else:\n",
    "        fig = make_subplots(rows=3, cols=1)\n",
    "\n",
    "        fig.add_trace(go.Scatter(x=IPADf.index, y=IPADf.ImpliedVolatility, name='Op Imp Volatility'), row=1, col=1)\n",
    "        fig.add_trace(go.Scatter(x=IPADf.index, y=IPADf.MarketValueInDealCcy, name='Op Mk Pr'), row=2, col=1)\n",
    "        fig.add_trace(go.Scatter(x=IPADf.index, y=IPADf.UnderlyingPrice, name=underlying+' Undrlyg Pr'), row=3, col=1)\n",
    "\n",
    "        fig.update(layout_xaxis_rangeslider_visible=False)\n",
    "        fig.update_layout(title=IPADf.columns.name)\n",
    "        fig.update_layout(\n",
    "            template=graphTemplate,\n",
    "            autosize=False,\n",
    "            width=1300,\n",
    "            height=500)\n",
    "\n",
    "    fig.show()"
   ]
  },
  {
   "cell_type": "code",
   "execution_count": null,
   "id": "7d6bd445-20fa-4ad5-832c-6690c13d3182",
   "metadata": {
    "tags": []
   },
   "outputs": [],
   "source": [
    "ImpVolatilityCalcIPA(\n",
    "    x=15,\n",
    "    indexUnderlying=\".SPX\",  # \".SPX\" or \".STOXX50E\"\n",
    "    callOrPut='Call',\n",
    "    riskFreeRate=None,\n",
    "    riskFreeRateField=None,  # 'TR.FIXINGVALUE'\n",
    "    graphStyle='without out of trading hours',\n",
    "    debug=False)  # 'with out of trading hours'"
   ]
  },
  {
   "cell_type": "code",
   "execution_count": null,
   "id": "ec2e92e5-619c-4ac5-bc27-49b311abbecb",
   "metadata": {},
   "outputs": [],
   "source": [
    "while True:\n",
    "    # Code executed here\n",
    "    clear_output(wait=True)\n",
    "    try:\n",
    "        ImpVolatilityCalcIPA(\n",
    "            x=15,  # Number of days after which we start searching for Options' Expiries\n",
    "            dateBack=3,  # Number of business days for which the chart will show data\n",
    "            indexUnderlying=\".STOXX50E\",  # \".SPX\" or \".STOXX50E\"\n",
    "            callOrPut='Call',  # 'Call'\n",
    "            riskFreeRate=None,\n",
    "            riskFreeRateField=None,# 'TR.FIXINGVALUE'\n",
    "            graphStyle='without out of trading hours')# 'without out of trading hours'\n",
    "        time.sleep(60*0.1)\n",
    "    except:\n",
    "        print(\"Please wait for next roll\")"
   ]
  },
  {
   "cell_type": "markdown",
   "id": "0104bdf0-52b3-4c98-9054-3188577b6f8b",
   "metadata": {
    "tags": []
   },
   "source": [
    "### Using py_vollib"
   ]
  },
  {
   "cell_type": "code",
   "execution_count": null,
   "id": "b68e0107-7fc2-406f-9ca3-b528225fbe9a",
   "metadata": {},
   "outputs": [],
   "source": [
    "# df"
   ]
  },
  {
   "cell_type": "code",
   "execution_count": null,
   "id": "0d3d0523-00d0-4574-88c6-963e7da55e32",
   "metadata": {},
   "outputs": [],
   "source": [
    "# S = df['underlying ' + underlying + ' TRDPRC_1'][-1]\n",
    "# K = K\n",
    "# sigma = df['underlying ' + underlying + ' log_ret_30D_SD'][-1]\n",
    "# r = df['EurRfRate'][-1]\n",
    "# flag = 'c'\n",
    "# t = timeToExpInYears\n",
    "# q = 0"
   ]
  },
  {
   "cell_type": "code",
   "execution_count": null,
   "id": "fe74f4b5-9fb1-45a8-ab1a-1f1d9a6b97f8",
   "metadata": {},
   "outputs": [],
   "source": [
    "# py_vollib.black_scholes_merton.implied_volatility.implied_volatility(\n",
    "#     price=df['TRDPRC_1'][-1], S=S, K=K, t=t, r=r, q=q, flag='c')"
   ]
  },
  {
   "cell_type": "markdown",
   "id": "426dbe67-f5ac-400e-a57d-8839926c353f",
   "metadata": {
    "tags": []
   },
   "source": [
    "# End"
   ]
  },
  {
   "cell_type": "code",
   "execution_count": null,
   "id": "2a314680-a146-44c9-bc7b-e3a66973f7f3",
   "metadata": {},
   "outputs": [],
   "source": [
    "# import refinitiv.data as rd\n",
    "# from refinitiv.data.content import search\n",
    "# rd.open_session()\n",
    "# response4 = search.Definition(\n",
    "#             query = \"BARC.L\",\n",
    "#             select= \"DocumentTitle, RIC, StrikePrice, ExchangeCode\",\n",
    "#             filter= \"RCSAssetCategoryLeaf eq 'Option' and RIC eq 'BARC*' and DocumentTitle ne '*Weekly*'  \"+\n",
    "#         \"and CallPutOption eq 'Call' and ExchangeCode eq 'EUX'\",\n",
    "#             top = 10000,\n",
    "#         ).get_data()\n",
    "# response4.data.df"
   ]
  },
  {
   "cell_type": "code",
   "execution_count": null,
   "id": "c52eaf6e-7cf0-4d91-a081-b3a6e68f80cd",
   "metadata": {},
   "outputs": [],
   "source": []
  },
  {
   "cell_type": "markdown",
   "id": "8a7ef820-9572-4eb6-9d5a-1695ee4b20e7",
   "metadata": {
    "tags": []
   },
   "source": [
    "### Finding Expiered Options\n",
    "\n",
    "#### For Options expiring in a specific number of days\n",
    "\n",
    "Future Option Contracts are issued with exchange-specific expiry date rules. We focus here on \".STOXX50E\" and \".SPX\" index's options which are issued and traded in the EUREX and OPRA exchanges respectivly, both of which only issue options expiring on the 3rd friday of any one month. For this we will use functions created in Haykaz's amazing articles \"[Finding Expired Options and Backtesting a Short Iron Condor Strategy](https://developers.refinitiv.com/en/article-catalog/article/finding-expired-options-and-backtesting-a-short-iron-condor-stra)\" & \"[Functions to find Option RICs traded on different exchanges](https://developers.refinitiv.com/en/article-catalog/article/functions-to-find-option-rics-traded-on-different-exchanges#1.1-Function-to-get-exchange-codes-where-the-option-is-traded)\":\n",
    "\n",
    "#### Function for Expiration days\n",
    "\n",
    "For info on this function, please read articles \"[Finding Expired Options and Backtesting a Short Iron Condor Strategy](https://developers.refinitiv.com/en/article-catalog/article/finding-expired-options-and-backtesting-a-short-iron-condor-stra)\" & \"[Functions to find Option RICs traded on different exchanges](https://developers.refinitiv.com/en/article-catalog/article/functions-to-find-option-rics-traded-on-different-exchanges#1.1-Function-to-get-exchange-codes-where-the-option-is-traded)\""
   ]
  },
  {
   "cell_type": "code",
   "execution_count": null,
   "id": "8a04cfd7-42b4-424e-8bea-85cb8c346beb",
   "metadata": {
    "tags": []
   },
   "outputs": [],
   "source": [
    "# def get_exp_dates(year, days=True, mcal_get_calendar='EUREX'):\n",
    "#     '''\n",
    "#     get_exp_dates Version 2.0:\n",
    "\n",
    "#     This function gets expiration dates for a year for NDX options, which are the 3rd Fridays of each month.\n",
    "\n",
    "#     Changes\n",
    "#     ----------------------------------------------\n",
    "#     Changed from Version 1.0 to 2.0: Jonathan Legrand chaned Haykaz Aramyan's original code to allow\n",
    "#         (i) for the function's holiday argument to be changed, and defaulted to 'EUREX' as opposed to 'CBOE_Index_Options' and\n",
    "#         (ii) for the function to output full date objects as opposed to just days of the month if agument days=True.\n",
    "\n",
    "#     Dependencies\n",
    "#     ----------------------------------------------\n",
    "#     Python library 'pandas_market_calendars' version 3.2\n",
    "\n",
    "#     Parameters\n",
    "#     -----------------------------------------------\n",
    "#     Input:\n",
    "#         year(int): year for which expiration days are requested\n",
    "\n",
    "#         mcal_get_calendar(str): String of the calendar for which holidays have to be taken into account. More on this calendar (link to Github chacked 2022-10-11): https://github.com/rsheftel/pandas_market_calendars/blob/177e7922c7df5ad249b0d066b5c9e730a3ee8596/pandas_market_calendars/exchange_calendar_cboe.py\n",
    "#             Default: mcal_get_calendar='EUREX'\n",
    "\n",
    "#         days(bool): If True, only days of the month is outputed, else it's dataeime objects\n",
    "#             Default: days=True\n",
    "\n",
    "#     Output:\n",
    "#         dates(dict): dictionary of expiration days for each month of a specified year in datetime.date format.\n",
    "#     '''\n",
    "\n",
    "#     # get CBOE market holidays\n",
    "#     EUREXCal = mcal.get_calendar(mcal_get_calendar)\n",
    "#     holidays = EUREXCal.holidays().holidays\n",
    "\n",
    "#     # set calendar starting from Saturday\n",
    "#     c = calendar.Calendar(firstweekday=calendar.SATURDAY)\n",
    "\n",
    "#     # get the 3rd Friday of each month \n",
    "#     exp_dates = {}\n",
    "#     for i in range(1, 13):\n",
    "#         monthcal = c.monthdatescalendar(year, i)\n",
    "#         date = monthcal[2][-1]\n",
    "#         # check if found date is an holiday and get the previous date if it is\n",
    "#         if date in holidays:\n",
    "#             date = date + timedelta(-1)\n",
    "#         # append the date to the dictionary\n",
    "#         if year in exp_dates:\n",
    "#             ### Changed from original code from here on by Jonathan Legrand on 2022-10-11\n",
    "#             if days: exp_dates[year].append(date.day)\n",
    "#             else: exp_dates[year].append(date)\n",
    "#         else:\n",
    "#             if days: exp_dates[year] = [date.day]\n",
    "#             else: exp_dates[year] = [date]\n",
    "#     return exp_dates"
   ]
  },
  {
   "cell_type": "code",
   "execution_count": null,
   "id": "c822e5d8-0179-4760-9e19-d88e6f695ce8",
   "metadata": {
    "tags": []
   },
   "outputs": [],
   "source": [
    "# fullDates = get_exp_dates(2022, days=False)\n",
    "# dates = get_exp_dates(2022)\n",
    "# fullDatesStrDict = {i: [fullDates[i][j].strftime('%Y-%m-%d') for j in range(len(fullDates[i]))] for i in list(fullDates.keys())}\n",
    "# fullDatesDayDict = {i: [fullDates[i][j].day for j in range(len(fullDates[i]))] for i in list(fullDates.keys())}"
   ]
  },
  {
   "cell_type": "code",
   "execution_count": null,
   "id": "1742e5e2-6c29-461a-a6e9-23152b78c1d5",
   "metadata": {
    "tags": []
   },
   "outputs": [],
   "source": [
    "# print(fullDates)"
   ]
  },
  {
   "cell_type": "code",
   "execution_count": null,
   "id": "954c5b72-a006-4026-93e9-920ea1077f18",
   "metadata": {
    "tags": []
   },
   "outputs": [],
   "source": [
    "# dates"
   ]
  },
  {
   "cell_type": "code",
   "execution_count": null,
   "id": "3ac212fa-4075-4548-afe1-21b8a47ad7f8",
   "metadata": {
    "tags": []
   },
   "outputs": [],
   "source": [
    "# print(fullDatesDayDict)"
   ]
  },
  {
   "cell_type": "markdown",
   "id": "4c671870-874f-464f-a77d-4f937e8a4566",
   "metadata": {
    "tags": []
   },
   "source": [
    "#### Function for Transaction days"
   ]
  },
  {
   "cell_type": "code",
   "execution_count": null,
   "id": "f2ace699-fe2e-4a47-a7b2-ff7e58f554b8",
   "metadata": {
    "tags": []
   },
   "outputs": [],
   "source": [
    "# def get_trans_days(year, trans_day = 'first', mcal_get_calendar='EUREX'):\n",
    "#     '''get_trans_days Version 2.0: get_trans_days(year, trans_day = 'first', mcal_get_calendar='EUREX')\n",
    "#     This function gets transaction days for each month of a specified year.\n",
    "\n",
    "#     Changes\n",
    "#     ----------------------------------------------\n",
    "#     Changed from Version 1.0 to 2.0: Jonathan Legrand chaned Haykaz Aramyan's original code to allow for the function's holiday argument to be changed, and defaulted to 'EUREX' as opposed to 'CBOE_Index_Options'\n",
    "\n",
    "\n",
    "#     Dependencies\n",
    "#     ----------------------------------------------\n",
    "#     Python library 'pandas_market_calendars' version 3.2\n",
    "\n",
    "#     Parameters\n",
    "#     -----------------------------------------------\n",
    "#     Input:\n",
    "#         year (int): year for which transaction days are requested\n",
    "#         trans_day (str, default = 'first'): takes either 'first' or 'third' indicating to the first business day or the 3rd Friday of a month respectively\n",
    "\n",
    "#     mcal_get_calendar(str): String of the calendar for which holidays have to be taken into account. More on this calendar (link to Github chacked 2022-10-11): https://github.com/rsheftel/pandas_market_calendars/blob/177e7922c7df5ad249b0d066b5c9e730a3ee8596/pandas_market_calendars/exchange_calendar_cboe.py\n",
    "#             Default: mcal_get_calendar='EUREX'\n",
    "\n",
    "#     Output:\n",
    "#         trans_days (list): list of days for 12 month\n",
    "#     '''\n",
    "#     # get the first business day of each month\n",
    "#     if trans_day == 'first':\n",
    "#         CBOE = mcal.get_calendar(mcal_get_calendar)\n",
    "#         holidays = CBOE.holidays().holidays\n",
    "        \n",
    "#         # set start and end day ranges\n",
    "#         start_date = str(year) + '-01' +'-01'\n",
    "#         end_date = str(year) + '-12' + '-31'\n",
    "#         trans_days = []\n",
    "        \n",
    "#         for date in pd.date_range(start_date, end_date, freq='BMS'):\n",
    "#             # get the first day after the weekend after checking for holiday\n",
    "#             while date.isoweekday() > 5 or date in holidays:\n",
    "#                 date += timedelta(1)\n",
    "#             # add found day to the list\n",
    "#             trans_days.append(date.date().day)\n",
    "            \n",
    "#     # get the 3rd Friday for each month by calling function \"get_exp_dates\"\n",
    "#     elif trans_day == 'third':\n",
    "#         trans_days = get_exp_dates(year)[year]\n",
    "#     else:\n",
    "#         print('Please input \"first\" or \"third\" for transaction day')\n",
    "#         return\n",
    "#     return trans_days"
   ]
  },
  {
   "cell_type": "markdown",
   "id": "f9f56b77-fdda-42e4-bf1e-a6a6bf76d12d",
   "metadata": {
    "tags": []
   },
   "source": [
    "#### Function to get adjustment factor of stock split\n",
    "For info on this function, please read articles \"[Finding Expired Options and Backtesting a Short Iron Condor Strategy](https://developers.refinitiv.com/en/article-catalog/article/finding-expired-options-and-backtesting-a-short-iron-condor-stra)\" & \"[Functions to find Option RICs traded on different exchanges](https://developers.refinitiv.com/en/article-catalog/article/functions-to-find-option-rics-traded-on-different-exchanges#1.1-Function-to-get-exchange-codes-where-the-option-is-traded)\""
   ]
  },
  {
   "cell_type": "code",
   "execution_count": null,
   "id": "eaa71395-d47d-43c6-b242-a2619bd62aa5",
   "metadata": {
    "tags": []
   },
   "outputs": [],
   "source": [
    "# def adjustment_factor(corp_event, year=None, date=None, trans_day='first'):\n",
    "#     '''\n",
    "#     This function gets adjustment factor(s) of stock split for a given asset. If no split event is happened during the requested period\n",
    "#     function returns 1(if date argument is used) or list of twelve 1s (if year argument is used), which assumes no adjustment in prices.\n",
    "    \n",
    "#     Dependencies\n",
    "#     ----------------------------------------------\n",
    "#     Python library 'pandas_market_calendars' version 3.2\n",
    "\n",
    "#     Parameters\n",
    "#     -----------------------------------------------\n",
    "#     Input:\n",
    "#         asset (str): RIC code of the asset\n",
    "#         year (int): year for which stock split events are requested\n",
    "#         date (str with date (YYYY-MM-DD) format): Date as of which stock split events are requested\n",
    "#         trans_day (str, default = 'first'): indicates the date of the transaction for get_trans_days function\n",
    "#     Output:\n",
    "#         adj_factor (float): This is returned in case of date argument is used. The output is the Adjustment factor after split\n",
    "#         adj_factors(list): This is returned in case of year argument is used. The output is the list of Adjustment factors after split for each month\n",
    "#     ''' \n",
    "#     # if there is no stock split corporate event\n",
    "#     if corp_event is None or corp_event['TR.CAEffectiveDate'][0] is None:\n",
    "#         if year != None and date == None:\n",
    "#             # return list of 1s if year argument is used\n",
    "#             adj_factors = 12 * [1]\n",
    "#             return adj_factors\n",
    "#         elif date != None and year == None:\n",
    "#             # return 1 if exact date argument is used\n",
    "#             adj_factor = 1\n",
    "#             return adj_factor\n",
    "#         else:\n",
    "#             print('Either Year or exact date needs to be passed to the function')\n",
    "#     # if there is an event adjustment factor(s) is(are) calculated\n",
    "#     else: \n",
    "#         if year != None and date == None: # in case of year argument is used\n",
    "#             # request transaction dates\n",
    "#             trans_days = get_trans_days(year, trans_day)\n",
    "#             adj_factors = []\n",
    "#             for i in range(1,13):\n",
    "#                 # get exp_dates and use it as a request date for stock split corporate events\n",
    "#                 exp_date = str(year) + '-' + str(i) + '-' + str(trans_days[i - 1])\n",
    "#                 # initiate adj_factor with 1\n",
    "#                 adj_factor = 1\n",
    "#                 # we first check if the expiration date of option is after or before the adjustment date\n",
    "#                 for j in reversed(range(len(corp_event))):\n",
    "#                     # if expiration date is smaller than adjustment date then we need adjustment\n",
    "#                     if pd.to_datetime(exp_date).strftime('%Y-%m-%d') < corp_event['TR.CAEffectiveDate'][j]:\n",
    "#                         adj_factor = float(corp_event['TR.CAAdjustmentFactor'][j]) * adj_factor # we should consider all adjustment factors which are after the expiration day\n",
    "#                 # append adjustment factor of the month to the list\n",
    "#                 adj_factors.append(adj_factor)              \n",
    "#             return adj_factors\n",
    "    \n",
    "#         elif date != None and year == None: #in case exact date  argument is ued\n",
    "#             adj_factor = 1\n",
    "#             for j in reversed(range(len(corp_event))):\n",
    "#                 # if expiration date is smaller than adjustment date then we need adjustment\n",
    "#                 if pd.to_datetime(date).strftime('%Y-%m-%d') < corp_event['TR.CAEffectiveDate'][j]:\n",
    "#                     adj_factor = float(corp_event['TR.CAAdjustmentFactor'][j]) * adj_factor\n",
    "#             return adj_factor\n",
    "#         else:\n",
    "#             print('Either Year or exact date needs to be passed to the function')"
   ]
  },
  {
   "cell_type": "markdown",
   "id": "04e1e8e0-7c95-4d8d-81ae-da81e33aa249",
   "metadata": {
    "tags": []
   },
   "source": [
    "#### Function to get potential RICs"
   ]
  },
  {
   "cell_type": "code",
   "execution_count": null,
   "id": "8320800d-bc13-4400-a87b-5cc1b56c21e5",
   "metadata": {
    "tags": []
   },
   "outputs": [],
   "source": [
    "# def get_potential_rics(year, trans_day, asset, OTM_size, diff, opt_type, adjFactors=True):\n",
    "#     '''get_potential_rics Version 2.0: get_potential_rics(year, trans_day, asset, OTM_size, diff, opt_type, adjFactors=True)\n",
    "#     This function returns the list of potential option RICs for a specified year reconstructed based on Refinitiv RIC and option trading rules.\n",
    "\n",
    "#     Changes\n",
    "#     ----------------------------------------------\n",
    "#     Changed from Version 1.0 to 2.0: Jonathan Legrand chaned Haykaz Aramyan's original code to allow for adjustment factor to be ommited if wanted, via addition of argument 'adjFactors'\n",
    "\n",
    "#     Dependencies\n",
    "#     ----------------------------------------------\n",
    "#     Python library 'Refinitiv Dataplatform' version 1.0.0a8.post1\n",
    "\n",
    "#     Parameters\n",
    "#     -----------------------------------------------\n",
    "#     Input:\n",
    "#         year (int): year for which transaction days are requested\n",
    "#         trans_day (str, default = 'first'): takes either 'first' or 'third' indicating to the first business day or the 3rd Friday of a month respectively\n",
    "#         asset (str): RIC code of the asset\n",
    "#         OTM_size (int): percentage number indicating how far away is the strike price from the price of the underlying asset\n",
    "#         diff (int): Tolarated difference in OTM to construct upper and lower bounds of strike prices\n",
    "#         opt_type (str): takes either \"call\" or \"put\"\n",
    "#         adjFactors (bool): If True, an adjustment factor using the function 'adjustment_factor' (which must be pre-defined) will apply.\n",
    "\n",
    "#     Output:\n",
    "#         potential_RICs (dict): dictionary containing potential RICs for each month with strike prices from the lower to upper bounds of strikes\n",
    "#         strikes (list): list of the strike prices calculated based on OTM size for each month\n",
    "#     '''\n",
    "\n",
    "#     # open file to report log of the function output\n",
    "#     report = open(\"Log report.txt\", \"a\")\n",
    "\n",
    "#     # call functions to get expiration and transaction days\n",
    "#     trans_days = get_trans_days(year, trans_day)\n",
    "#     trans_days_prev = get_trans_days(year - 1, trans_day)\n",
    "#     dates = get_exp_dates(year) \n",
    "\n",
    "#     # trim underlying asset's RIC to get the required part for option RIC\n",
    "#     if asset[0] == '.': # check if the asset is an index or an equity\n",
    "#         asset_name = asset[1:] # get the asset name - we remove \".\" symbol for index options\n",
    "#         if adjFactors: adj_factors = 12 * [1] # set adjustment factors to be equal to 1 for each month (no stock split corporate event is applicable to indices)\n",
    "#         else: pass\n",
    "#     else:\n",
    "#         asset_name = asset.split('.')[0] # we need only the first part of the RICs for equities\n",
    "#         # get list of corporate events for equities\n",
    "#         corp_event = rd.get_data(\n",
    "#             universe=asset,\n",
    "#             fields=[\"TR.CAEffectiveDate\", \"TR.CAAdjustmentFactor\", \"TR.CAAdjustmentType\"],\n",
    "#             parameters={\n",
    "#                 \"CAEventType\": \"SSP\",\n",
    "#                 \"SDate\": datetime.today().strftime(\"%Y-%m-%d\"),\n",
    "#                 \"EDate\": \"-50Y\"})\n",
    "#         # run adjustment_factor function to get the factors\n",
    "#         if adjFactors: adj_factors = adjustment_factor(corp_event, year = year, trans_day = trans_day)\n",
    "#         else: pass\n",
    "\n",
    "#     # define expiration month codes to be used after \"^\" sign\n",
    "#     exp = ['A', 'B', 'C', 'D','E','F','G', 'H', 'I', 'J', 'K', 'L']\n",
    "#     potential_RICs = {}\n",
    "#     strikes = []\n",
    "\n",
    "#     # construct potential RICs for each month of a specified year\n",
    "#     for j in range(1, 13):\n",
    "#         # get day of expiration for a month\n",
    "#         day = dates[year][j - 1]\n",
    "#         # get date of price request, which is in the previous month of expiration \n",
    "#         if j != 1:\n",
    "#             date = str(year) + '-' + str(j - 1) + '-' + str(trans_days[j - 2])\n",
    "#         if j == 1: # for January, we need to subtract a year along with the month\n",
    "#             date = str(year - 1) + '-' + str(j + 11) + '-' + str(trans_days_prev[j + 10])    \n",
    "#         # get price of underlying asset as of the transaction date\n",
    "\n",
    "#         # get the corresponding adjustment factor for the month\n",
    "#         if adjFactors: adj_factor = adj_factors[j-1]\n",
    "#         else: pass\n",
    "\n",
    "#         price = rd.get_data(asset,\n",
    "#                             fields = ['TR.PriceClose'],\n",
    "#                             parameters = {'SDate': date})\n",
    "#         if adjFactors: price = float(price.iloc[0,1]) / adj_factor # adjust prices by the adjustment factor. if no sptick split events adj_factor = 1\n",
    "#         else: price = float(price.iloc[0,1])\n",
    "\n",
    "#         # calculate the strike price for call options\n",
    "#         if opt_type.lower() == 'call':\n",
    "#             strike = price + price * OTM_size / 100\n",
    "#             # define expiration month codes for call options while also considering the strike price\n",
    "#             if strike > 999.999:\n",
    "#                 exp_codes_call = ['a', 'b', 'c', 'd','e','f','g', 'h', 'i', 'j', 'k', 'l']\n",
    "#             else:\n",
    "#                 exp_codes_call = ['A', 'B', 'C', 'D','E','F','G', 'H', 'I', 'J', 'K', 'L']\n",
    "#             # get expiration month code for a month\n",
    "#             exp_month = exp_codes_call[j-1]\n",
    "\n",
    "#         # calculate the strike price and get expiration month code for a month for put options\n",
    "#         elif opt_type.lower() == 'put':\n",
    "#             strike = price - price * OTM_size/100\n",
    "#             if strike > 999.999:\n",
    "#                 exp_codes_put = ['m', 'n', 'o', 'p','q','r','s', 't', 'u', 'v', 'w', 'x'] \n",
    "#             else:\n",
    "#                 exp_codes_put = ['M', 'N', 'O', 'P','Q','R','S', 'T', 'U', 'V', 'W', 'X']\n",
    "#             exp_month = exp_codes_put[j-1]\n",
    "\n",
    "#         strikes.append(int(round(strike, 0)))  # append the calculated strike price to the list of strikes\n",
    "\n",
    "#         # calculate lower and upper bounds for strikes considering the value of the strike\n",
    "#         if strike > 999.999:\n",
    "#             step = 5  # we loop over strikes with a step 5 for larger strikes\n",
    "#             strike_ub = int(round((strike + strike * diff / 100),-1))\n",
    "#             strike_lb = int(round((strike - strike * diff / 100),-1))\n",
    "#         else:\n",
    "#             step = 1  # we loop over strikes with a step 1 for smaller strikes\n",
    "#             strike_ub = int(strike + strike * diff / 100)\n",
    "#             strike_lb = int(strike - strike * diff / 100)\n",
    "\n",
    "#         # construct RICs for each strike from the lower to upper bound ranges of strikes\n",
    "#         for n in range(strike_lb, strike_ub + step, step):\n",
    "#             k = None  # for strikes < 1000 along with 1 step increment change in strikes we do 0.5 point increment change which \n",
    "#                       #allows us to consider strikes with decimal points. This is important to get closer OTMs for smaller valued assets.\n",
    "#             # here we construct option RICs by adding together all the RIC components\n",
    "#             # Please note some of the components are different depending on the strike value\n",
    "#             plc_holdr1 = asset_name + exp_month + str(day) + str(year)[-2:]\n",
    "#             plc_holdr2 = exp[j - 1] + str(year)[-2:]\n",
    "#             if n < 10:\n",
    "#                 z = plc_holdr1 + '00' + str(n) + '00.U^' + plc_holdr2# for integer steps\n",
    "#                 k = plc_holdr1 + '00' + str(n) + '50.U^' + plc_holdr2# for decimal steps\n",
    "#             elif n >= 10 and n < 100:\n",
    "#                 z = plc_holdr1 + '0' + str(n) + '00.U^' + plc_holdr2\n",
    "#                 k = plc_holdr1 + '0' + str(n) + '50.U^' + plc_holdr2\n",
    "#             if n >= 100 and n < 1000:\n",
    "#                 z = plc_holdr1 + str(n) + '00.U^' + plc_holdr2  \n",
    "#                 k = plc_holdr1 + str(n) + '50.U^' + plc_holdr2\n",
    "#             elif n >= 1000 and n < 10000:\n",
    "#                 z = plc_holdr1 + str(n) + '0.U^' + plc_holdr2\n",
    "#             elif n >= 10000 and n < 20000:\n",
    "#                 z = plc_holdr1 + 'A' + str(n)[-4:] + '.U^' + plc_holdr2\n",
    "#             elif n >= 20000 and n < 30000:\n",
    "#                 z = plc_holdr1 + 'B' + str(n)[-4:] + '.U^' + plc_holdr2\n",
    "#             elif n >= 30000 and n < 40000:\n",
    "#                 z = plc_holdr1 + 'C' + str(n)[-4:] + '.U^' + plc_holdr2\n",
    "#             elif n >= 40000 and n < 50000:\n",
    "#                 z = plc_holdr1 + 'D' + str(n)[-4:] + '.U^' + plc_holdr2\n",
    "\n",
    "#             # append RICs with integer strikes to the dictionary\n",
    "#             if j in potential_RICs:\n",
    "#                 potential_RICs[j].append(z)\n",
    "#                 # append RICs with decimal point strikes to the dictionary\n",
    "#                 if k is not None:\n",
    "#                     potential_RICs[j].append(k)\n",
    "#             else:\n",
    "#                 potential_RICs[j] = [z]\n",
    "#                 if k is not None:\n",
    "#                     potential_RICs[j].append(k)  \n",
    "\n",
    "#     # report funtion results and close the log file\n",
    "#     now = {datetime.now().strftime('%Y-%m-%d %H:%M:%S')}\n",
    "#     report.write(f'{now}: Potential RICs for {opt_type} options with {OTM_size}% OTM for {year} are constructed\\n')\n",
    "#     report.close()\n",
    "#     return potential_RICs, strikes"
   ]
  },
  {
   "cell_type": "code",
   "execution_count": null,
   "id": "430ec61d-6e72-457e-b64e-14759bc86586",
   "metadata": {
    "tags": []
   },
   "outputs": [],
   "source": [
    "# call_RICs, call_strikes = get_potential_rics(\n",
    "#     year=2020, trans_day='first', asset='.SPX', OTM_size=5,\n",
    "#     diff=3, opt_type='call', adjFactors=False)\n",
    "# print(call_RICs)"
   ]
  },
  {
   "cell_type": "code",
   "execution_count": null,
   "id": "f87bafe7-27ff-4598-9b1d-58e023500c69",
   "metadata": {
    "tags": []
   },
   "outputs": [],
   "source": [
    "# call_RICs"
   ]
  },
  {
   "cell_type": "code",
   "execution_count": null,
   "id": "ccc7231a-7477-4f01-9f21-a9658492637f",
   "metadata": {
    "tags": []
   },
   "outputs": [],
   "source": [
    "# def get_exp_month(exp_date, opt_type):\n",
    "#     \"\"\"\n",
    "#     This function takes the expiration date and option type as an input and\n",
    "#     returns the expiration month code for the option, which is further used\n",
    "#     to construct RICs\n",
    "#     \"\"\"\n",
    "\n",
    "#     # define option expiration identifiers\n",
    "#     ident = {'1': {'exp': 'A','C': 'A', 'P': 'M'}, \n",
    "#            '2': {'exp': 'B', 'C': 'B', 'P': 'N'}, \n",
    "#            '3': {'exp': 'C', 'C': 'C', 'P': 'O'}, \n",
    "#            '4': {'exp': 'D', 'C': 'D', 'P': 'P'},\n",
    "#            '5': {'exp': 'E', 'C': 'E', 'P': 'Q'},\n",
    "#            '6': {'exp': 'F', 'C': 'F', 'P': 'R'},\n",
    "#            '7': {'exp': 'G', 'C': 'G', 'P': 'S'}, \n",
    "#            '8': {'exp': 'H', 'C': 'H', 'P': 'T'}, \n",
    "#            '9': {'exp': 'I', 'C': 'I', 'P': 'U'}, \n",
    "#            '10': {'exp': 'J', 'C': 'J', 'P': 'V'}, \n",
    "#            '11': {'exp': 'K', 'C': 'K', 'P': 'W'}, \n",
    "#            '12': {'exp': 'L', 'C': 'L', 'P': 'X'}}\n",
    "\n",
    "#     # get expiration month code for a month\n",
    "#     if opt_type.upper() == 'C':\n",
    "#         exp_month = ident[str(exp_date.month)]['C']\n",
    "#     elif opt_type.upper() == 'P':\n",
    "#         exp_month = ident[str(exp_date.month)]['P']\n",
    "\n",
    "#     return ident, exp_month"
   ]
  },
  {
   "cell_type": "markdown",
   "id": "e6083d54-6213-4a59-8ff5-e4aeae35ea09",
   "metadata": {},
   "source": [
    "## Annualized Standard Deviation, or Volatility, of the Underlying Stock's Log Prices"
   ]
  },
  {
   "cell_type": "markdown",
   "id": "595c6e09-7d55-4646-932c-18650d72adbb",
   "metadata": {},
   "source": [
    "Now we need the historical volatility ($\\sigma_{hist, time\\_window, interval}^2$ where $time\\_window$ and $interval$ are in days, *i.e.*: $\\sigma_{hist, 30, 1}^2$) on which to base our Black-Scholes-Merton model. One can find several [reasources online](https://quant.stackexchange.com/questions/30987/volatility-input-for-black-scholes-formula) outlining which historical volatility to use. We will use volatility of the log returns of our index of choice as this is the industry standard, even though \"[lognormal return for total portfolio performance may be quicker to calculate over a longer time period, it fails to capture the individual stock weights, which can distort the return tremendously](https://www.investopedia.com/articles/investing/102014/lognormal-and-normal-distribution.asp)\":"
   ]
  },
  {
   "cell_type": "code",
   "execution_count": null,
   "id": "9068fbb1-6458-4270-a590-fa1ede8223cd",
   "metadata": {},
   "outputs": [],
   "source": [
    "# _underlyingMrktPriceDaily = rd.get_history(\n",
    "#     universe=[underlying],\n",
    "#     fields=[\"TRDPRC_1\"],\n",
    "#     interval=\"1d\",\n",
    "#     start=(datetime.strptime(start, '%Y-%m-%dT%H:%M:%S.%f') - timedelta(days=50)).strftime('%Y-%m-%dT%H:%M:%S'),  # 50 days because of holidays and weekends\n",
    "#     end=(datetime.strptime(end, '%Y-%m-%dT%H:%M:%S.%f') + timedelta(days=1)).strftime('%Y-%m-%dT%H:%M:%S'))"
   ]
  },
  {
   "cell_type": "code",
   "execution_count": null,
   "id": "06bff3a8-22f4-425e-a126-c420f71fdad7",
   "metadata": {},
   "outputs": [],
   "source": [
    "# _underlyingMrktPriceDaily['log_ret'] = np.log(_underlyingMrktPriceDaily.TRDPRC_1) - np.log(_underlyingMrktPriceDaily.TRDPRC_1.shift(1))"
   ]
  },
  {
   "cell_type": "markdown",
   "id": "d5900313-a286-4e57-89c2-73da27735edb",
   "metadata": {},
   "source": [
    "We use 252 business days a year as is the [standard](https://www.investopedia.com/ask/answers/021015/how-can-you-calculate-volatility-excel.asp) tp annualise our data:"
   ]
  },
  {
   "cell_type": "code",
   "execution_count": null,
   "id": "5bcca6d0-7d02-4ab4-bbf7-9e49e4bb06af",
   "metadata": {},
   "outputs": [],
   "source": [
    "# _underlyingMrktPriceDaily[\"log_ret_30D_SD\"] = _underlyingMrktPriceDaily.log_ret.rolling(\n",
    "#     window=30).std(ddof=0)*np.sqrt(252)"
   ]
  },
  {
   "cell_type": "markdown",
   "id": "543813ca-d829-40e6-a631-a297b29da6bc",
   "metadata": {},
   "source": [
    "On the (rare but possible) ocation that the underlying was not traded for a 10 min. window, let's go through the same data-proccessing as with `optnMrktPrice`:"
   ]
  },
  {
   "cell_type": "code",
   "execution_count": null,
   "id": "2b6b01c4-cb35-45b6-a870-ac58f2869bee",
   "metadata": {},
   "outputs": [],
   "source": [
    "# underlyingMrktPriceDaily = _underlyingMrktPriceDaily.dropna().resample(\n",
    "#     '10Min').mean().fillna(method='ffill')"
   ]
  },
  {
   "cell_type": "code",
   "execution_count": null,
   "id": "54818908-f379-44ac-8cea-0c26edd1d9f2",
   "metadata": {},
   "outputs": [],
   "source": [
    "# underlyingMrktPriceDaily"
   ]
  },
  {
   "cell_type": "code",
   "execution_count": null,
   "id": "d323b6ea-6ab5-413a-bfc1-820cc2cca5c2",
   "metadata": {},
   "outputs": [],
   "source": [
    "# df['underlying ' + underlying + ' log_ret_30D_SD'] = underlyingMrktPriceDaily[\"log_ret_30D_SD\"]"
   ]
  },
  {
   "cell_type": "code",
   "execution_count": null,
   "id": "067750cf-8be8-4c27-8ea5-7f648797fd51",
   "metadata": {},
   "outputs": [],
   "source": [
    "# df"
   ]
  },
  {
   "cell_type": "markdown",
   "id": "29e5aa7b-ef07-4c5b-89c7-1867f9c55577",
   "metadata": {
    "tags": []
   },
   "source": [
    "## Time to Expiration\n",
    "\n",
    "We will need this time value in [years](https://stackoverflow.com/questions/765797/convert-timedelta-to-years):"
   ]
  },
  {
   "cell_type": "code",
   "execution_count": null,
   "id": "366b81fe-005b-478f-923e-807af9a0804d",
   "metadata": {},
   "outputs": [],
   "source": [
    "# expDa = searchDf2.iloc[(searchDf2['StrikePrice']-currentUnderlyingPrc).abs().argsort()[:1]].ExpiryDate.values[0]\n",
    "# expDa = datetime.utcfromtimestamp(expDa.tolist()/1e9)\n",
    "# expDa"
   ]
  },
  {
   "cell_type": "code",
   "execution_count": null,
   "id": "a54ab781-e31d-4697-aa73-bdf2f1b462d0",
   "metadata": {},
   "outputs": [],
   "source": [
    "# from dateutil.relativedelta import relativedelta"
   ]
  },
  {
   "cell_type": "code",
   "execution_count": null,
   "id": "34c24e3d-67f5-4b23-989a-0c4b8eeccfab",
   "metadata": {},
   "outputs": [],
   "source": [
    "# difference = relativedelta(expDa, datetime.now())\n",
    "# difference"
   ]
  },
  {
   "cell_type": "code",
   "execution_count": null,
   "id": "475c04cb-0b51-4737-80e2-b8bb1e0cc24c",
   "metadata": {},
   "outputs": [],
   "source": [
    "# days = difference.days/365.2425\n",
    "# hours = difference.hours/24/365.2425\n",
    "# minutes = difference.minutes/60/24/365.2425\n",
    "# seconds = difference.seconds/60/60/24/365.2425\n",
    "# microseconds = difference.microseconds/1000000/60/60/24/365.2425\n",
    "# timeToExpInYears = days + hours + minutes + seconds + microseconds\n",
    "# timeToExpInYears"
   ]
  },
  {
   "cell_type": "code",
   "execution_count": null,
   "id": "2ca35b99-ca79-4207-94bd-65472f241d6f",
   "metadata": {},
   "outputs": [],
   "source": []
  },
  {
   "cell_type": "code",
   "execution_count": null,
   "id": "079de8d7-eb97-4297-8117-66ec3bdde7fa",
   "metadata": {},
   "outputs": [],
   "source": []
  },
  {
   "cell_type": "code",
   "execution_count": null,
   "id": "2e134816-dbf9-4ae4-b19e-91fd70c86552",
   "metadata": {},
   "outputs": [],
   "source": []
  },
  {
   "cell_type": "code",
   "execution_count": null,
   "id": "58f456eb-c8cc-4069-82d7-78f23839419f",
   "metadata": {},
   "outputs": [],
   "source": []
  },
  {
   "cell_type": "code",
   "execution_count": null,
   "id": "7bf20fb0-e800-472d-983a-bb2fdb2918ec",
   "metadata": {},
   "outputs": [],
   "source": []
  },
  {
   "cell_type": "code",
   "execution_count": null,
   "id": "fcbfe092-99fb-4074-a903-f3c3773d12a6",
   "metadata": {},
   "outputs": [],
   "source": []
  },
  {
   "cell_type": "code",
   "execution_count": null,
   "id": "381fc9ac-2d6a-456b-8ead-f07c9b0ca755",
   "metadata": {},
   "outputs": [],
   "source": []
  },
  {
   "cell_type": "code",
   "execution_count": null,
   "id": "c1768e27-141c-4dd5-a3b8-894ad9e18c98",
   "metadata": {},
   "outputs": [],
   "source": []
  },
  {
   "cell_type": "code",
   "execution_count": null,
   "id": "ee69fb1f-2fef-4044-8290-4f7f586ebb21",
   "metadata": {},
   "outputs": [],
   "source": []
  },
  {
   "cell_type": "code",
   "execution_count": null,
   "id": "00658f93-4952-461d-81ff-a90998591d35",
   "metadata": {},
   "outputs": [],
   "source": []
  },
  {
   "cell_type": "code",
   "execution_count": null,
   "id": "43109369-2cb8-4495-80f3-dca3adadf3dc",
   "metadata": {},
   "outputs": [],
   "source": []
  },
  {
   "cell_type": "code",
   "execution_count": null,
   "id": "e668a56f-86a6-4466-8ccf-42f90c535932",
   "metadata": {},
   "outputs": [],
   "source": []
  },
  {
   "cell_type": "code",
   "execution_count": null,
   "id": "77551aea-0d6f-47e4-a636-42a79b5b45a5",
   "metadata": {},
   "outputs": [],
   "source": []
  },
  {
   "cell_type": "code",
   "execution_count": null,
   "id": "92b065d5-6389-4ac4-9e4b-2dc48013f182",
   "metadata": {},
   "outputs": [],
   "source": []
  },
  {
   "cell_type": "code",
   "execution_count": null,
   "id": "f36f9e4a-6847-4f33-931a-e28c485a33f1",
   "metadata": {},
   "outputs": [],
   "source": []
  },
  {
   "cell_type": "code",
   "execution_count": null,
   "id": "535b16b5-0751-4df8-9815-8179b3975e30",
   "metadata": {},
   "outputs": [],
   "source": []
  },
  {
   "cell_type": "code",
   "execution_count": null,
   "id": "73f625aa-3f28-4897-87ae-dbbd377c8457",
   "metadata": {},
   "outputs": [],
   "source": []
  },
  {
   "cell_type": "code",
   "execution_count": null,
   "id": "f03a8f05-90e6-4c48-a666-1157b6973594",
   "metadata": {},
   "outputs": [],
   "source": []
  },
  {
   "cell_type": "code",
   "execution_count": null,
   "id": "1bbfa156-5669-4367-8708-c3387f02fce0",
   "metadata": {},
   "outputs": [],
   "source": []
  },
  {
   "cell_type": "code",
   "execution_count": null,
   "id": "3d58bf93-78b7-4168-a12d-ffdb6d5ab778",
   "metadata": {},
   "outputs": [],
   "source": []
  },
  {
   "cell_type": "code",
   "execution_count": null,
   "id": "82ad09a1-b3f9-4bfd-9969-449034f19b31",
   "metadata": {},
   "outputs": [],
   "source": []
  },
  {
   "cell_type": "code",
   "execution_count": null,
   "id": "669571ef-ed3a-4128-80c8-993b60e50a20",
   "metadata": {},
   "outputs": [],
   "source": []
  },
  {
   "cell_type": "code",
   "execution_count": null,
   "id": "6a979fa3-08a3-4932-b28c-bbf314839dcd",
   "metadata": {},
   "outputs": [],
   "source": []
  },
  {
   "cell_type": "code",
   "execution_count": null,
   "id": "5f8c6973-4461-4b1a-9c0f-bc710f663329",
   "metadata": {},
   "outputs": [],
   "source": []
  },
  {
   "cell_type": "code",
   "execution_count": null,
   "id": "066b6273-34bb-4bc2-84f5-99ef7fcedce1",
   "metadata": {},
   "outputs": [],
   "source": []
  },
  {
   "cell_type": "code",
   "execution_count": null,
   "id": "e74b53fa-46e3-44f1-88dc-39e8eb6aab72",
   "metadata": {},
   "outputs": [],
   "source": []
  },
  {
   "cell_type": "code",
   "execution_count": null,
   "id": "1e07e8b5-ed57-423a-b489-512bb4602795",
   "metadata": {},
   "outputs": [],
   "source": []
  },
  {
   "cell_type": "code",
   "execution_count": null,
   "id": "cf7ac19e-3610-4e62-ace4-71d245ed4bf8",
   "metadata": {},
   "outputs": [],
   "source": []
  },
  {
   "cell_type": "code",
   "execution_count": null,
   "id": "e78d22f4-3408-4f8b-83a2-8b260343eb2b",
   "metadata": {},
   "outputs": [],
   "source": []
  },
  {
   "cell_type": "code",
   "execution_count": null,
   "id": "84f3feaa-0864-4f16-9206-54e99d0d730d",
   "metadata": {},
   "outputs": [],
   "source": []
  },
  {
   "cell_type": "code",
   "execution_count": null,
   "id": "d4450238-bcbd-4f68-8c39-2a8bba2bdb3c",
   "metadata": {},
   "outputs": [],
   "source": []
  },
  {
   "cell_type": "code",
   "execution_count": null,
   "id": "8cc850d9-1cda-49da-b5df-4a7679988949",
   "metadata": {},
   "outputs": [],
   "source": []
  },
  {
   "cell_type": "code",
   "execution_count": null,
   "id": "ada95986-0dc4-47de-8dbb-01ab6ea592b5",
   "metadata": {},
   "outputs": [],
   "source": []
  },
  {
   "cell_type": "code",
   "execution_count": null,
   "id": "bab87e60-a3f8-40e4-98fb-f16e99154144",
   "metadata": {},
   "outputs": [],
   "source": []
  },
  {
   "cell_type": "code",
   "execution_count": null,
   "id": "5ea26c37-ed29-417e-88da-00fae311968e",
   "metadata": {},
   "outputs": [],
   "source": []
  },
  {
   "cell_type": "code",
   "execution_count": null,
   "id": "11ee290e-a76e-4f05-959e-8b74098bc099",
   "metadata": {},
   "outputs": [],
   "source": []
  },
  {
   "cell_type": "code",
   "execution_count": null,
   "id": "5677f2ce-c319-4f40-a1a8-277f99cea072",
   "metadata": {},
   "outputs": [],
   "source": []
  },
  {
   "cell_type": "code",
   "execution_count": null,
   "id": "738c937a-f5b7-4e16-b328-36559f551053",
   "metadata": {},
   "outputs": [],
   "source": []
  },
  {
   "cell_type": "code",
   "execution_count": null,
   "id": "4e009b85-7810-429b-a113-4d6d44a085bb",
   "metadata": {},
   "outputs": [],
   "source": []
  },
  {
   "cell_type": "code",
   "execution_count": null,
   "id": "8efb22bf-b28d-4d8b-bfc4-46a79c8869ef",
   "metadata": {},
   "outputs": [],
   "source": []
  },
  {
   "cell_type": "code",
   "execution_count": null,
   "id": "74b445e8-cf9c-4ca3-b2fc-ddc3b0858ab8",
   "metadata": {},
   "outputs": [],
   "source": []
  },
  {
   "cell_type": "code",
   "execution_count": null,
   "id": "2e68f1ce-4a7a-4160-9921-b5ba39592465",
   "metadata": {},
   "outputs": [],
   "source": []
  },
  {
   "cell_type": "code",
   "execution_count": null,
   "id": "5f9573db-5633-402d-8dd3-ddb29039485f",
   "metadata": {},
   "outputs": [],
   "source": []
  },
  {
   "cell_type": "code",
   "execution_count": null,
   "id": "ba7dfdfe-618d-4adc-af04-93370703ba3a",
   "metadata": {},
   "outputs": [],
   "source": []
  },
  {
   "cell_type": "code",
   "execution_count": null,
   "id": "5559bfcd-3ac2-4a5d-9004-1ac2e30839c9",
   "metadata": {},
   "outputs": [],
   "source": []
  },
  {
   "cell_type": "code",
   "execution_count": null,
   "id": "5abf77a4-8a6d-43f5-955e-27284826fcc0",
   "metadata": {},
   "outputs": [],
   "source": []
  },
  {
   "cell_type": "code",
   "execution_count": null,
   "id": "c82917b6-b1e0-4d4e-965f-3235bf5299bf",
   "metadata": {},
   "outputs": [],
   "source": []
  },
  {
   "cell_type": "code",
   "execution_count": null,
   "id": "0697c6c6-6a25-45a3-95e8-5883e494ff65",
   "metadata": {},
   "outputs": [],
   "source": []
  },
  {
   "cell_type": "code",
   "execution_count": null,
   "id": "4d7dc522-ed52-4a1e-9bdd-e74897572b1c",
   "metadata": {},
   "outputs": [],
   "source": []
  },
  {
   "cell_type": "code",
   "execution_count": null,
   "id": "833b8063-3b25-4459-95b3-10b75bb75f15",
   "metadata": {},
   "outputs": [],
   "source": []
  },
  {
   "cell_type": "code",
   "execution_count": null,
   "id": "f2a498b2-af5c-4ac0-a11d-39b156ff2840",
   "metadata": {},
   "outputs": [],
   "source": []
  },
  {
   "cell_type": "code",
   "execution_count": null,
   "id": "70f1ceb6-2a0c-42b0-afea-a6661ec742ed",
   "metadata": {},
   "outputs": [],
   "source": []
  },
  {
   "cell_type": "code",
   "execution_count": null,
   "id": "eae926c7-21a5-40a3-9446-a20d3d71c1dd",
   "metadata": {},
   "outputs": [],
   "source": [
    "# IPADf = pd.DataFrame()"
   ]
  },
  {
   "cell_type": "code",
   "execution_count": null,
   "id": "23e1e65f-5b1d-45bd-a83c-91936be3285e",
   "metadata": {
    "tags": []
   },
   "outputs": [],
   "source": [
    "# responseDict = {'request_definition': [],\n",
    "#                'response': [],\n",
    "#                'headers_name': [],\n",
    "#                'responsedf': [],\n",
    "#                'IPADfi': [],\n",
    "#                'TRDPRC_1': [],\n",
    "#                'EurRfRate': [],\n",
    "#                'underlying TRDPRC_1': []}"
   ]
  },
  {
   "cell_type": "code",
   "execution_count": null,
   "id": "1ca1e915-58bc-4087-b9f4-5c9189460f2e",
   "metadata": {},
   "outputs": [],
   "source": [
    "# for i in range(len(df.index)):\n",
    "    \n",
    "#     # Example request with Body Parameter - Symbology Lookup\n",
    "#     request_definition = rd.delivery.endpoint_request.Definition(\n",
    "#         method = rd.delivery.endpoint_request.RequestMethod.POST,\n",
    "#         url = 'https://api.refinitiv.com/data/quantitative-analytics/v1/financial-contracts',\n",
    "#         body_parameters = {\n",
    "#       \"fields\": [\n",
    "#         \"MarketValueInDealCcy\",\n",
    "#         \"RiskFreeRatePercent\",\n",
    "#         \"UnderlyingPrice\",\n",
    "#         \"PricingModelType\",\n",
    "#         \"DividendType\",\n",
    "#         \"VolatilityType\",\n",
    "#         \"UnderlyingTimeStamp\",\n",
    "#         \"ReportCcy\",\n",
    "#         \"VolatilityType\",\n",
    "#         \"Volatility\",\n",
    "#         \"DeltaPercent\",\n",
    "#         \"GammaPercent\",\n",
    "#         \"RhoPercent\",\n",
    "#         \"ThetaPercent\",\n",
    "#         \"VegaPercent\"\n",
    "#       ],\n",
    "#       \"outputs\": [\n",
    "#         \"Data\",\n",
    "#         \"Headers\"\n",
    "#       ],\n",
    "#       \"universe\": [\n",
    "#         {\n",
    "#           \"instrumentType\": \"Option\",\n",
    "#           \"instrumentDefinition\": {\n",
    "#             \"buySell\": \"Buy\",\n",
    "#             \"underlyingType\": \"Eti\",\n",
    "#             \"instrumentCode\": \"STXE35500J2.EX\"\n",
    "#           },\n",
    "#           \"pricingParameters\": {\n",
    "#             \"marketValueInDealCcy\": str(df['TRDPRC_1'][i]),\n",
    "#             \"riskFreeRatePercent\": str(df['EurRfRate'][i]),\n",
    "#             \"underlyingPrice\": str(df['underlying ' + underlying + ' TRDPRC_1'][i]),\n",
    "#             \"pricingModelType\": \"BlackScholes\",\n",
    "#             \"dividendType\": \"ImpliedYield\",\n",
    "#             \"volatilityType\": \"Implied\",\n",
    "#             \"underlyingTimeStamp\": \"Default\",\n",
    "#             \"reportCcy\": \"EUR\"\n",
    "#           }\n",
    "#         }\n",
    "#       ]\n",
    "#     }\n",
    "#     )\n",
    "\n",
    "#     response5 = request_definition.get_data()\n",
    "#     headers_name = [h['name'] for h in response5.data.raw['headers']]\n",
    "#     response5df = pd.DataFrame(data=response5.data.raw['data'], columns=headers_name)\n",
    "\n",
    "#     IPADf = IPADf.append(response5df)\n",
    "\n",
    "#     responseDict['request_definition'].append(request_definition)\n",
    "#     responseDict['response'].append(response)\n",
    "#     responseDict['headers_name'].append(headers_name)\n",
    "#     responseDict['responsedf'].append(responsedf)\n",
    "#     responseDict['IPADfi'].append(IPADf)\n",
    "#     responseDict['TRDPRC_1'].append(str(df['TRDPRC_1'][i]))\n",
    "#     responseDict['EurRfRate'].append(str(df['EurRfRate'][i]))\n",
    "#     responseDict['underlying TRDPRC_1'].append(str(df['underlying ' + underlying + ' TRDPRC_1'][i]))"
   ]
  },
  {
   "cell_type": "code",
   "execution_count": null,
   "id": "e9cf5128-373f-4702-b8d3-5fcd9527a33f",
   "metadata": {},
   "outputs": [],
   "source": [
    "# IPADf.index = df.index\n",
    "# IPADf.columns.name = df.columns.name"
   ]
  },
  {
   "cell_type": "code",
   "execution_count": null,
   "id": "e1c1f202-e465-42a5-9669-66b988b505c2",
   "metadata": {},
   "outputs": [],
   "source": [
    "# IPADf"
   ]
  },
  {
   "cell_type": "code",
   "execution_count": null,
   "id": "88b4489b-7af6-48c7-b937-ae457038d34b",
   "metadata": {},
   "outputs": [],
   "source": [
    "# fig = px.line(IPADf['Volatility'], title = IPADf.columns.name + \" Implied Vol\") # This is just to see the implied vol graph when that field is available\n",
    "# fig.show()"
   ]
  },
  {
   "cell_type": "code",
   "execution_count": null,
   "id": "edcfe38a-b7ed-4a2f-8629-e34ae090af17",
   "metadata": {},
   "outputs": [],
   "source": []
  },
  {
   "cell_type": "code",
   "execution_count": null,
   "id": "a5d57ea0-ba7b-4ad5-b3bc-ef4773ca8d23",
   "metadata": {},
   "outputs": [],
   "source": []
  },
  {
   "cell_type": "code",
   "execution_count": null,
   "id": "763dd51d-e480-4c26-bbe7-77bc7ac565a8",
   "metadata": {},
   "outputs": [],
   "source": []
  },
  {
   "cell_type": "code",
   "execution_count": null,
   "id": "00c6cea4-ca42-4407-b899-a081fd123384",
   "metadata": {},
   "outputs": [],
   "source": []
  },
  {
   "cell_type": "code",
   "execution_count": null,
   "id": "849e218d-0150-41ec-bab3-a617f854eadb",
   "metadata": {},
   "outputs": [],
   "source": []
  },
  {
   "cell_type": "code",
   "execution_count": null,
   "id": "96393a75-2c8e-48e2-b1f3-dee5d3d9fa8e",
   "metadata": {},
   "outputs": [],
   "source": []
  },
  {
   "cell_type": "code",
   "execution_count": null,
   "id": "72924784-b62a-442d-9aa0-84dfff391726",
   "metadata": {},
   "outputs": [],
   "source": []
  },
  {
   "cell_type": "code",
   "execution_count": null,
   "id": "d886372f-72b8-46d2-bb95-f7e2977950e3",
   "metadata": {},
   "outputs": [],
   "source": []
  },
  {
   "cell_type": "code",
   "execution_count": null,
   "id": "7c070c3f-43b2-4f50-bd52-d05208f61515",
   "metadata": {},
   "outputs": [],
   "source": [
    "# from refinitiv.data.content.ipa.financial_contracts import option"
   ]
  },
  {
   "cell_type": "code",
   "execution_count": null,
   "id": "48483dd5-da54-428b-9e18-7c56d02980e9",
   "metadata": {},
   "outputs": [],
   "source": [
    "# response = option.Definition(\n",
    "#     underlying_type=option.UnderlyingType.Eti,\n",
    "#     strike=K,\n",
    "#     underlying_definition=option.EtiUnderlyingDefinition(\".STOXX50ER\"),\n",
    "#     # notional_ccy=\"AUD\",\n",
    "#     # tenor=\"5M\",\n",
    "#     pricing_parameters=option.PricingParameters(\n",
    "#         marketValueInDealCcy=df['TRDPRC_1'][-1],\n",
    "#         # price_side=option.PriceSide.MID,\n",
    "#         valuation_date=\"2022-10-03\",\n",
    "#         # fx_spot_object=option.BidAskMid(bid=0.7387, ask=0.7387, mid=0.7387),\n",
    "#         pricing_model_type=option.PricingModelType.BLACK_SCHOLES,\n",
    "#     )\n",
    "# ).get_data()\n",
    "\n",
    "# response.data.df"
   ]
  },
  {
   "cell_type": "code",
   "execution_count": null,
   "id": "fa142191-72a8-497f-8e57-689305f8e197",
   "metadata": {},
   "outputs": [],
   "source": [
    "# https://github.com/Refinitiv-API-Samples/Example.RDPAPI.Python.InstrumentPricingAnalytics/blob/main/financial-contracts/Equity%20Derivatives/Equity%20Listed%20Vanilla%20Option%20IV%20and%20Greeks.ipynb"
   ]
  },
  {
   "cell_type": "code",
   "execution_count": null,
   "id": "12b697f7-827a-4dab-82af-b99e4501989b",
   "metadata": {
    "tags": []
   },
   "outputs": [],
   "source": [
    "# help(option)"
   ]
  },
  {
   "cell_type": "code",
   "execution_count": null,
   "id": "ddbc87f2-3eea-431f-9677-6fc8e7a8dfb1",
   "metadata": {},
   "outputs": [],
   "source": []
  },
  {
   "cell_type": "code",
   "execution_count": null,
   "id": "a6db9cad-f187-46b2-894a-62da27c95183",
   "metadata": {},
   "outputs": [],
   "source": []
  },
  {
   "cell_type": "code",
   "execution_count": null,
   "id": "a9f0d22a-b2ce-4a86-a80b-fedf3699d5a7",
   "metadata": {},
   "outputs": [],
   "source": []
  },
  {
   "cell_type": "code",
   "execution_count": null,
   "id": "d32b8a45-86bf-4228-b21d-b14c1d591263",
   "metadata": {},
   "outputs": [],
   "source": []
  },
  {
   "cell_type": "code",
   "execution_count": null,
   "id": "09cafa90-dde0-45e8-b89e-1b0ad394b2e3",
   "metadata": {},
   "outputs": [],
   "source": []
  },
  {
   "cell_type": "code",
   "execution_count": null,
   "id": "e482311b-e915-4bfb-8e7a-772f7ff3c00b",
   "metadata": {},
   "outputs": [],
   "source": []
  },
  {
   "cell_type": "code",
   "execution_count": null,
   "id": "096bbd21-2214-4fbb-8154-812b24b8f6e7",
   "metadata": {},
   "outputs": [],
   "source": []
  },
  {
   "cell_type": "code",
   "execution_count": null,
   "id": "cf32c96c-79d9-45bb-86fe-87fc74d2619a",
   "metadata": {},
   "outputs": [],
   "source": []
  },
  {
   "cell_type": "code",
   "execution_count": null,
   "id": "342d2dab-9732-4ebb-8e73-d258329c9c75",
   "metadata": {},
   "outputs": [],
   "source": []
  },
  {
   "cell_type": "code",
   "execution_count": null,
   "id": "9652fa23-208e-4bd8-a0b1-fa1a012d8437",
   "metadata": {},
   "outputs": [],
   "source": []
  },
  {
   "cell_type": "code",
   "execution_count": null,
   "id": "8522e5af-b501-4303-9151-1425a892e05b",
   "metadata": {},
   "outputs": [],
   "source": []
  },
  {
   "cell_type": "code",
   "execution_count": null,
   "id": "d1e90ea1-4fb2-45bd-ae4a-870e8864a41a",
   "metadata": {},
   "outputs": [],
   "source": []
  },
  {
   "cell_type": "code",
   "execution_count": null,
   "id": "c240bfa1-9cd4-47b0-8de7-63dc4ebfead7",
   "metadata": {},
   "outputs": [],
   "source": []
  },
  {
   "cell_type": "code",
   "execution_count": null,
   "id": "0aa24ff0-0f8a-498e-b63b-c15864f696e3",
   "metadata": {},
   "outputs": [],
   "source": []
  },
  {
   "cell_type": "code",
   "execution_count": null,
   "id": "58832f69-db0d-4cf4-8e8e-42031d92ad01",
   "metadata": {},
   "outputs": [],
   "source": []
  },
  {
   "cell_type": "code",
   "execution_count": null,
   "id": "3232c0fd-91e2-4886-8d15-ec815765c872",
   "metadata": {},
   "outputs": [],
   "source": []
  },
  {
   "cell_type": "code",
   "execution_count": null,
   "id": "31cc3e44-656a-46ac-9c2f-d25a612b6282",
   "metadata": {},
   "outputs": [],
   "source": []
  },
  {
   "cell_type": "code",
   "execution_count": null,
   "id": "ab47f403-58f4-40a9-b834-4a26a3c3f633",
   "metadata": {},
   "outputs": [],
   "source": []
  },
  {
   "cell_type": "code",
   "execution_count": null,
   "id": "41a09970-7c93-4e1e-8ea0-1ea51c64e591",
   "metadata": {},
   "outputs": [],
   "source": []
  },
  {
   "cell_type": "code",
   "execution_count": null,
   "id": "f4d8d56f-2339-4c61-b014-9f7e95ce13b9",
   "metadata": {},
   "outputs": [],
   "source": []
  },
  {
   "cell_type": "code",
   "execution_count": null,
   "id": "08572de4-7fff-4b2b-8f1a-fff94c3ff65e",
   "metadata": {},
   "outputs": [],
   "source": []
  },
  {
   "cell_type": "markdown",
   "id": "ccdbcbd5-e7bd-4e0c-b6a4-5128b2ab9fad",
   "metadata": {},
   "source": [
    "\n",
    "\n",
    "\n",
    "\n",
    "The Black-Scholes model implies:\n",
    "\n",
    "$C = \\Phi(d_1) S - \\Phi(d_2) K e^{-r t}$\n",
    "\n",
    "Where:\n",
    "\n",
    "* C is the market price of a call option\n",
    "* P is the market price of a put option\n",
    "* S is the stock price of the underlying stock\n",
    "* K is the option's Strike Price\n",
    "* t is the option's time to expiration (in years)\n",
    "* r is the risk-free rate (annualised)\n",
    "* $\\sigma$ is the implied volatility and\n",
    "* $\\Phi()$ is the Normal Cumulative Distribution Function such that $\\Phi(.) = \\frac{1}{\\sigma \\sqrt{2 \\pi}}$ using the drift, $r - \\frac{\\sigma^2}{2}$, as the mean; as can be found [online](https://en.wikipedia.org/wiki/Cumulative_distribution_function) and is explained well [here](https://www.math.kth.se/matstat/gru/sf2701/2015/lecture8.pdf)."
   ]
  },
  {
   "cell_type": "code",
   "execution_count": null,
   "id": "c2d22f01-f18e-4652-8935-db29c662d99f",
   "metadata": {},
   "outputs": [],
   "source": [
    "# import numpy as np\n",
    "# from scipy.stats import norm\n",
    "# \n",
    "# N_prime = norm.pdf\n",
    "# N = norm.cdf\n",
    "\n",
    "\n",
    "# def black_scholes_call(S, K, T, r, sigma):\n",
    "#     '''\n",
    "\n",
    "#     :param S: Asset price\n",
    "#     :param K: Strike price\n",
    "#     :param T: Time to maturity\n",
    "#     :param r: risk-free rate (treasury bills)\n",
    "#     :param sigma: volatility\n",
    "#     :return: call price\n",
    "#     '''\n",
    "\n",
    "#     ###standard black-scholes formula\n",
    "#     d1 = (np.log(S / K) + (r + sigma ** 2 / 2) * T) / (sigma * np.sqrt(T))\n",
    "#     d2 = d1 - sigma * np.sqrt(T)\n",
    "\n",
    "#     call = S * N(d1) -  N(d2)* K * np.exp(-r * T)\n",
    "#     return call\n",
    "\n",
    "# def vega(S, K, T, r, sigma):\n",
    "#     '''\n",
    "\n",
    "#     :param S: Asset price\n",
    "#     :param K: Strike price\n",
    "#     :param T: Time to Maturity\n",
    "#     :param r: risk-free rate (treasury bills)\n",
    "#     :param sigma: volatility\n",
    "#     :return: partial derivative w.r.t volatility\n",
    "#     '''\n",
    "\n",
    "#     ### calculating d1 from black scholes\n",
    "#     d1 = (np.log(S / K) + (r + sigma ** 2 / 2) * T) / sigma * np.sqrt(T)\n",
    "\n",
    "#     #see hull derivatives chapter on greeks for reference\n",
    "#     vega = S * N_prime(d1) * np.sqrt(T)\n",
    "#     return vega\n",
    "\n",
    "\n",
    "\n",
    "# def implied_volatility_call(C, S, K, T, r, tol=0.0001,\n",
    "#                             max_iterations=100):\n",
    "#     '''\n",
    "\n",
    "#     :param C: Observed call price\n",
    "#     :param S: Asset price\n",
    "#     :param K: Strike Price\n",
    "#     :param T: Time to Maturity\n",
    "#     :param r: riskfree rate\n",
    "#     :param tol: error tolerance in result\n",
    "#     :param max_iterations: max iterations to update vol\n",
    "#     :return: implied volatility in percent\n",
    "#     '''\n",
    "\n",
    "\n",
    "#     ### assigning initial volatility estimate for input in Newton_rap procedure\n",
    "#     sigma = 0.3\n",
    "    \n",
    "#     for i in range(max_iterations):\n",
    "\n",
    "#         ### calculate difference between blackscholes price and market price with\n",
    "#         ### iteratively updated volality estimate\n",
    "#         diff = black_scholes_call(S, K, T, r, sigma) - C\n",
    "\n",
    "#         ###break if difference is less than specified tolerance level\n",
    "#         if abs(diff) < tol:\n",
    "#             print(f'found on {i}th iteration')\n",
    "#             print(f'difference is equal to {diff}')\n",
    "#             break\n",
    "\n",
    "#         ### use newton rapshon to update the estimate\n",
    "#         sigma = sigma - diff / vega(S, K, T, r, sigma)\n",
    "\n",
    "#     return sigma"
   ]
  },
  {
   "cell_type": "code",
   "execution_count": null,
   "id": "c58296f9-fb81-47cb-ac43-2110de5961ca",
   "metadata": {},
   "outputs": [],
   "source": [
    "# implied_volatility_call(\n",
    "#     C = df2.iloc[0,0],\n",
    "#     S = ,\n",
    "#     K = ,\n",
    "#     T = ,\n",
    "#     r = ,\n",
    "#     tol=0.0001,\n",
    "#     max_iterations=100)"
   ]
  },
  {
   "cell_type": "code",
   "execution_count": null,
   "id": "2ae528c3-1faa-4e33-acf4-50aca334ece6",
   "metadata": {},
   "outputs": [],
   "source": []
  },
  {
   "cell_type": "code",
   "execution_count": null,
   "id": "6e48bc71-9368-487b-8ddd-033bb5fa8135",
   "metadata": {},
   "outputs": [],
   "source": []
  },
  {
   "cell_type": "code",
   "execution_count": null,
   "id": "78d77088-a8e4-43aa-ad66-1921dd78d349",
   "metadata": {},
   "outputs": [],
   "source": []
  },
  {
   "cell_type": "code",
   "execution_count": null,
   "id": "1440ee25-6fe2-4556-a60e-ebad5dd1ff61",
   "metadata": {},
   "outputs": [],
   "source": []
  },
  {
   "cell_type": "code",
   "execution_count": null,
   "id": "3334d209-2a1e-4582-80d5-2abf213e0f3f",
   "metadata": {},
   "outputs": [],
   "source": []
  },
  {
   "cell_type": "code",
   "execution_count": null,
   "id": "232e5508-1224-4f73-ab29-35ef1652c4d7",
   "metadata": {},
   "outputs": [],
   "source": []
  },
  {
   "cell_type": "code",
   "execution_count": null,
   "id": "b0a3f77e-2ada-412c-b084-cf33a9b6d5e5",
   "metadata": {},
   "outputs": [],
   "source": []
  },
  {
   "cell_type": "code",
   "execution_count": null,
   "id": "0304770d-61b1-45ce-b7df-0769767a6985",
   "metadata": {},
   "outputs": [],
   "source": []
  },
  {
   "cell_type": "code",
   "execution_count": null,
   "id": "9169c3cd-01f8-4e33-868f-6312a7fa74ef",
   "metadata": {},
   "outputs": [],
   "source": []
  },
  {
   "cell_type": "code",
   "execution_count": null,
   "id": "5f1d745a-a440-47e5-bdfa-9f52d9873dbf",
   "metadata": {},
   "outputs": [],
   "source": []
  },
  {
   "cell_type": "code",
   "execution_count": null,
   "id": "273cb68d-4be9-43e3-a3f8-eb4181aa8c2b",
   "metadata": {},
   "outputs": [],
   "source": []
  },
  {
   "cell_type": "code",
   "execution_count": null,
   "id": "df3129f8-b21d-4a18-9d88-37136b0a9ed7",
   "metadata": {},
   "outputs": [],
   "source": []
  },
  {
   "cell_type": "code",
   "execution_count": null,
   "id": "6c454e83-934d-434e-bf16-9d1ac54260d0",
   "metadata": {},
   "outputs": [],
   "source": []
  },
  {
   "cell_type": "code",
   "execution_count": null,
   "id": "11fd1289-b938-47d2-8c40-6cd7de2ee0da",
   "metadata": {},
   "outputs": [],
   "source": []
  },
  {
   "cell_type": "code",
   "execution_count": null,
   "id": "bff8a70f-64f5-4ca1-8be6-3a3216e6db5f",
   "metadata": {},
   "outputs": [],
   "source": []
  },
  {
   "cell_type": "code",
   "execution_count": null,
   "id": "89a7b620-44b9-4d3d-9cc9-2bb852c4d0ae",
   "metadata": {},
   "outputs": [],
   "source": []
  },
  {
   "cell_type": "code",
   "execution_count": null,
   "id": "a56383e8-792c-4328-a8b1-af9838c2f669",
   "metadata": {},
   "outputs": [],
   "source": []
  },
  {
   "cell_type": "code",
   "execution_count": null,
   "id": "2b38a46b-b0fb-49b0-b253-7df01c002d99",
   "metadata": {},
   "outputs": [],
   "source": []
  },
  {
   "cell_type": "code",
   "execution_count": null,
   "id": "49868bda-1d66-446b-90f8-b1065fd29d6c",
   "metadata": {},
   "outputs": [],
   "source": [
    "# _underlyingMrktPrice = rd.get_history(\n",
    "#     universe=[underlying],\n",
    "#     fields=[\"TRDPRC_1\"],\n",
    "#     interval=\"10min\",\n",
    "#     start=(datetime.strptime(start, '%Y-%m-%dT%H:%M:%S.%f') - timedelta(days=30)).strftime('%Y-%m-%dT%H:%M:%S'),\n",
    "#     end=end)"
   ]
  },
  {
   "cell_type": "code",
   "execution_count": null,
   "id": "8e6fe1c4-9083-41fe-bd68-b2bf3fb18a26",
   "metadata": {},
   "outputs": [],
   "source": [
    "# _underlyingMrktPrice"
   ]
  },
  {
   "cell_type": "markdown",
   "id": "204ce81e-5b02-421a-8bdd-ab3a1b210811",
   "metadata": {},
   "source": [
    "let's put it all together"
   ]
  },
  {
   "cell_type": "code",
   "execution_count": null,
   "id": "2bd9f7df-29a0-4f16-afd9-f8250874f3ca",
   "metadata": {},
   "outputs": [],
   "source": []
  },
  {
   "cell_type": "code",
   "execution_count": null,
   "id": "22612320-72b7-4198-8685-885cf0e9e661",
   "metadata": {},
   "outputs": [],
   "source": []
  },
  {
   "cell_type": "code",
   "execution_count": null,
   "id": "b7975e62-658e-4559-8361-6e61c1c9740e",
   "metadata": {},
   "outputs": [],
   "source": []
  },
  {
   "cell_type": "code",
   "execution_count": null,
   "id": "3fdb1661-38b2-4ef0-8970-f752842f8c8a",
   "metadata": {},
   "outputs": [],
   "source": []
  },
  {
   "cell_type": "code",
   "execution_count": null,
   "id": "34f8608a-c5b2-47b9-b906-3bf875c4bee5",
   "metadata": {},
   "outputs": [],
   "source": []
  },
  {
   "cell_type": "code",
   "execution_count": null,
   "id": "339d9698-b7cb-4a43-a732-c6bcbd4b95db",
   "metadata": {},
   "outputs": [],
   "source": []
  },
  {
   "cell_type": "code",
   "execution_count": null,
   "id": "3fd3dc1e-58ab-41f6-b9ef-39497f4db1cc",
   "metadata": {},
   "outputs": [],
   "source": []
  },
  {
   "cell_type": "code",
   "execution_count": null,
   "id": "fd79787f-6a6b-40a3-a087-1c8ea4df4496",
   "metadata": {},
   "outputs": [],
   "source": []
  },
  {
   "cell_type": "code",
   "execution_count": null,
   "id": "a7187884-6983-453d-8dce-9023df35df3b",
   "metadata": {},
   "outputs": [],
   "source": []
  },
  {
   "cell_type": "code",
   "execution_count": null,
   "id": "a5febde4-07ef-4d06-b2cf-41341005b8b6",
   "metadata": {},
   "outputs": [],
   "source": []
  },
  {
   "cell_type": "code",
   "execution_count": null,
   "id": "954427a7-9aef-426d-9f08-6abe414908c5",
   "metadata": {},
   "outputs": [],
   "source": []
  },
  {
   "cell_type": "code",
   "execution_count": null,
   "id": "21159a38-4152-4ddc-ab44-cdc2b70997ed",
   "metadata": {},
   "outputs": [],
   "source": []
  },
  {
   "cell_type": "code",
   "execution_count": null,
   "id": "6f9e4262-a27a-4ff7-b6e5-63ecd3682ea5",
   "metadata": {},
   "outputs": [],
   "source": []
  },
  {
   "cell_type": "code",
   "execution_count": null,
   "id": "eace7793-38be-474d-8254-a20a15166661",
   "metadata": {},
   "outputs": [],
   "source": []
  },
  {
   "cell_type": "code",
   "execution_count": null,
   "id": "f8af28f1-e11e-4c59-b0a3-f990bea0ffd7",
   "metadata": {},
   "outputs": [],
   "source": []
  },
  {
   "cell_type": "code",
   "execution_count": null,
   "id": "86ef33fe-2251-4388-9d2f-e3bd5668fc4a",
   "metadata": {},
   "outputs": [],
   "source": []
  },
  {
   "cell_type": "code",
   "execution_count": null,
   "id": "77b484f5-2930-4f7c-843d-2e0cc0966243",
   "metadata": {},
   "outputs": [],
   "source": []
  },
  {
   "cell_type": "code",
   "execution_count": null,
   "id": "708f2c62-e513-4735-a66e-90c033a648a1",
   "metadata": {},
   "outputs": [],
   "source": [
    "# datetime.strptime(start, '%Y-%m-%dT%H:%M:%S.%f') - datetime.strptime(end, '%Y-%m-%dT%H:%M:%S.%f')"
   ]
  },
  {
   "cell_type": "code",
   "execution_count": null,
   "id": "7d229fbb-5668-4c9f-9a13-806a8f91aab8",
   "metadata": {},
   "outputs": [],
   "source": [
    "# _underlyingMrktPrice['log_ret'] = np.log(_underlyingMrktPrice.TRDPRC_1) - np.log(_underlyingMrktPrice.TRDPRC_1.shift(1))"
   ]
  },
  {
   "cell_type": "code",
   "execution_count": null,
   "id": "e1fd5254-af46-4172-9fbc-7445279b8f37",
   "metadata": {},
   "outputs": [],
   "source": []
  },
  {
   "cell_type": "markdown",
   "id": "7187dbe2-713f-431c-885b-50fd9045a47d",
   "metadata": {},
   "source": [
    "We use 252 business days a year as is the [standard](https://www.investopedia.com/ask/answers/021015/how-can-you-calculate-volatility-excel.asp):"
   ]
  },
  {
   "cell_type": "code",
   "execution_count": null,
   "id": "a5d27f89-f2b3-43dd-951e-b7c4faf37a79",
   "metadata": {},
   "outputs": [],
   "source": [
    "# _underlyingMrktPrice.TRDPRC_1.rolling(window=30).std(ddof=0)*np.sqrt(252)"
   ]
  },
  {
   "cell_type": "code",
   "execution_count": null,
   "id": "dbcabf62-f958-4d42-89e2-b3e73ff122e0",
   "metadata": {},
   "outputs": [],
   "source": []
  },
  {
   "cell_type": "code",
   "execution_count": null,
   "id": "4c78306a-3573-4525-aab1-efc90903cda4",
   "metadata": {},
   "outputs": [],
   "source": []
  },
  {
   "cell_type": "code",
   "execution_count": null,
   "id": "a9034fe3-8f2e-437b-825c-8071276c42eb",
   "metadata": {},
   "outputs": [],
   "source": []
  },
  {
   "cell_type": "code",
   "execution_count": null,
   "id": "ec881487-1ff9-490e-b669-9c53f0411c21",
   "metadata": {},
   "outputs": [],
   "source": []
  },
  {
   "cell_type": "code",
   "execution_count": null,
   "id": "9c4bb266-4e31-44e9-927c-267d12dc87b1",
   "metadata": {},
   "outputs": [],
   "source": []
  },
  {
   "cell_type": "code",
   "execution_count": null,
   "id": "3b00dc33-ec84-4ba6-b8e6-b9954e903b77",
   "metadata": {},
   "outputs": [],
   "source": []
  },
  {
   "cell_type": "code",
   "execution_count": null,
   "id": "b6ec164c-88bf-416d-991d-f10e9b54b2ce",
   "metadata": {},
   "outputs": [],
   "source": []
  },
  {
   "cell_type": "code",
   "execution_count": null,
   "id": "f3a79962-2d44-4a37-9ea9-5e6e5f027bb0",
   "metadata": {},
   "outputs": [],
   "source": []
  },
  {
   "cell_type": "code",
   "execution_count": null,
   "id": "ec642f39-450f-4490-be1b-a2a2153590cb",
   "metadata": {},
   "outputs": [],
   "source": []
  },
  {
   "cell_type": "code",
   "execution_count": null,
   "id": "6febdc80-45cf-40d9-9a77-1f31a21cb10a",
   "metadata": {},
   "outputs": [],
   "source": []
  },
  {
   "cell_type": "code",
   "execution_count": null,
   "id": "79a66fce-78f8-4d12-a637-bbfe993d5111",
   "metadata": {},
   "outputs": [],
   "source": []
  },
  {
   "cell_type": "code",
   "execution_count": null,
   "id": "a904448e-78b0-42fe-b041-f5774d225c37",
   "metadata": {},
   "outputs": [],
   "source": []
  },
  {
   "cell_type": "markdown",
   "id": "14c06dee-0c2d-4d12-b17b-77b4bc03a612",
   "metadata": {},
   "source": [
    "How to annualize intra-day volatility on minute data?: https://quant.stackexchange.com/questions/2539/how-to-annualize-intra-day-volatility-on-minute-data\n",
    "\n",
    "https://pypi.org/project/hffe/\n",
    "\n",
    "file:///C:/Users/U6082174/Downloads/mathematics-09-00320-v2.pdf\n",
    "\n",
    "https://www.emmi-benchmarks.eu/benchmarks/euribor/#:~:text=Euribor%C2%AE%20is%20published%20every,for%20each%20of%20its%20tenors.\n",
    "\n",
    "Don't forget to Answer: https://quant.stackexchange.com/questions/39988/which-volatility-as-input-in-black-scholes-formula\n",
    "and: https://quant.stackexchange.com/questions/70122/realized-volatility-calculation-in-python\n",
    "https://en.wikipedia.org/wiki/Black%E2%80%93Scholes_model"
   ]
  },
  {
   "cell_type": "markdown",
   "id": "84256d24-0e03-4985-b98d-792f7355e986",
   "metadata": {},
   "source": [
    "## References\n",
    "\n",
    "[What is the RIC syntax for options in Refinitiv Eikon?](https://my.refinitiv.com/content/mytr/en/faqs/2016/09/000195632.html)\n",
    "\n",
    "[Functions to find Option RICs traded on different exchanges](https://developers.refinitiv.com/en/article-catalog/article/functions-to-find-option-rics-traded-on-different-exchanges#2.4-Function-for-the-EUREX)\n",
    "\n",
    "[Eikon Calc Help Page](https://emea1.apps.cp.thomsonreuters.com/Apps/AdfinLibrary/?cshid=AdBondDeriv&srv=PLNP-ERPCPRP04)\n",
    "\n",
    "### Q&A\n",
    "\n",
    "[RIC nomenclature for expired Options on Futures](https://community.developers.refinitiv.com/questions/82796/ric-nomenclature-for-expired-options-on-futures.html)\n",
    "\n",
    "[Expiration Dates for Expired Options API](https://community.developers.refinitiv.com/questions/69830/expiration-dates-for-expired-options-api.html)"
   ]
  },
  {
   "cell_type": "code",
   "execution_count": null,
   "id": "f55aaa19-b7c9-4a42-ad0d-1de592dfc79c",
   "metadata": {},
   "outputs": [],
   "source": []
  }
 ],
 "metadata": {
  "kernelspec": {
   "display_name": "Python 3 (ipykernel)",
   "language": "python",
   "name": "python3"
  },
  "language_info": {
   "codemirror_mode": {
    "name": "ipython",
    "version": 3
   },
   "file_extension": ".py",
   "mimetype": "text/x-python",
   "name": "python",
   "nbconvert_exporter": "python",
   "pygments_lexer": "ipython3",
   "version": "3.8.12"
  },
  "toc-autonumbering": false,
  "toc-showcode": false,
  "toc-showmarkdowntxt": false
 },
 "nbformat": 4,
 "nbformat_minor": 5
}
